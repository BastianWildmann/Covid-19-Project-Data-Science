{
 "cells": [
  {
   "cell_type": "markdown",
   "metadata": {},
   "source": [
    "# Covid-19 Data Science Project"
   ]
  },
  {
   "cell_type": "markdown",
   "metadata": {},
   "source": [
    "Eine Datenanalyse zu Covid-19 Daten. Ziel dieser Datenanalyse ist es ein Modell zu entwickeln, dass die zukünftigen Fallzahlen anhand verschiedener Input-Variablen wie dem Standort, den aktuellen Maßnahmen (Lockdown) und den vorherigen Fallzahlen vorhersagen kann. Zur Analyse werden Regressionsmodelle verwendet. Anschließend wird ein Deep Learning Algorithmus (neuronales Netz) angewendet."
   ]
  },
  {
   "cell_type": "code",
   "execution_count": null,
   "metadata": {},
   "outputs": [],
   "source": [
    "import io\n",
    "import urllib\n",
    "import datetime\n",
    "from datetime import timedelta\n",
    "import numpy as np\n",
    "import pandas as pd\n",
    "import matplotlib as mpl\n",
    "import matplotlib.pyplot as plt\n",
    "import seaborn as sns\n",
    "from progressbar import ProgressBar\n",
    "import time\n",
    "\n",
    "from datetime import datetime\n",
    "import warnings\n",
    "warnings.filterwarnings(\"ignore\")\n",
    "from wetterdienst.dwd.observations import DwdObservationRequest, DwdObservationPeriod, DwdObservationResolution, DwdObservationParameter, DwdObservationDataset"
   ]
  },
  {
   "cell_type": "markdown",
   "metadata": {},
   "source": [
    "Historische Daten vom RKI zum Bundesland Baden-Württemberg.\n",
    "\n",
    "Spaltenbeschreibung: https://npgeo-corona-npgeo-de.hub.arcgis.com/datasets/dd4580c810204019a7b8eb3e0b329dd6_0\n",
    "\n",
    "Weitere Beschreibungen: https://www.bbsr.bund.de/BBSR/DE/forschung/raumbeobachtung/InteraktiveAnwendungen/corona-dashboard/corona-dashboard_einstieg.html\n",
    "\n",
    "Berechnung der 7-Tage-Inzidenz mittels Meldedatum: https://lua.rlp.de/de/presse/detail/news/News/detail/corona-hinweise-zur-berechnung-der-7-tage-inzidenz/"
   ]
  },
  {
   "cell_type": "code",
   "execution_count": null,
   "metadata": {},
   "outputs": [],
   "source": [
    "# # Datendownload\n",
    "# url_cases_rki = \"https://opendata.arcgis.com/datasets/dd4580c810204019a7b8eb3e0b329dd6_0.csv?where=IdBundesland%20%3E%3D%208%20AND%20IdBundesland%20%3C%3D%208\"\n",
    "# filename_cases = \"./RKI_daily.csv\"\n",
    "\n",
    "# urllib.request.urlretrieve(url_cases_rki, filename_cases)"
   ]
  },
  {
   "cell_type": "code",
   "execution_count": null,
   "metadata": {},
   "outputs": [],
   "source": [
    "data_all = pd.read_csv(\"./RKI_daily.csv\")"
   ]
  },
  {
   "cell_type": "code",
   "execution_count": null,
   "metadata": {
    "scrolled": true
   },
   "outputs": [],
   "source": [
    "# data_all[\"Altersgruppe\"].unique()\n",
    "\n",
    "data_all = data_all.sort_values(by=['Landkreis','Meldedatum'])\\\n",
    "            .drop([\"ObjectId\", \"IdBundesland\", \"Bundesland\", \"Altersgruppe2\", \"AnzahlTodesfall\", \"Geschlecht\",\\\n",
    "                    \"NeuerFall\", \"NeuerTodesfall\", \"Refdatum\", \"NeuGenesen\", \"IstErkrankungsbeginn\"], axis=1)\n",
    "\n",
    "mask_age = (data_all[\"Altersgruppe\"] == \"A60-A79\") | (data_all[\"Altersgruppe\"] == \"A80+\")\n",
    "data_all[\"AnzahlFall>59\"] = 0\n",
    "data_all[\"AnzahlFall>59\"][mask_age] = data_all[\"AnzahlFall\"]\n",
    "# Alternativ new column mit numpy.where erstellen"
   ]
  },
  {
   "cell_type": "code",
   "execution_count": null,
   "metadata": {
    "scrolled": true
   },
   "outputs": [],
   "source": [
    "anzahl_faelle = data_all[\"AnzahlFall\"].sum()\n",
    "data_all"
   ]
  },
  {
   "cell_type": "code",
   "execution_count": null,
   "metadata": {},
   "outputs": [],
   "source": [
    "data_all[\"Meldedatum\"] = data_all[\"Meldedatum\"].str.slice(stop=10)\n",
    "data_all[\"Meldedatum\"] = pd.to_datetime(data_all[\"Meldedatum\"], format='%Y/%m/%d') #- pd.to_timedelta(7, unit='d')"
   ]
  },
  {
   "cell_type": "code",
   "execution_count": null,
   "metadata": {},
   "outputs": [],
   "source": [
    "landkreise_id = data_all[[\"Landkreis\", \"IdLandkreis\"]].drop_duplicates()"
   ]
  },
  {
   "cell_type": "code",
   "execution_count": null,
   "metadata": {},
   "outputs": [],
   "source": [
    "data_all = data_all.groupby(['IdLandkreis', pd.Grouper(key='Meldedatum', freq='W-FRI', label=\"right\")])['AnzahlFall', \"AnzahlGenesen\", \"AnzahlFall>59\"]\\\n",
    "       .sum()\\\n",
    "       .reset_index()\\\n",
    "       .sort_values(['IdLandkreis', 'Meldedatum'])\n",
    "\n",
    "data_all['Meldedatum'] = data_all['Meldedatum'] + timedelta(days=1)"
   ]
  },
  {
   "cell_type": "code",
   "execution_count": null,
   "metadata": {
    "scrolled": false
   },
   "outputs": [],
   "source": [
    "data_all = data_all.merge(landkreise_id, left_on='IdLandkreis', right_on='IdLandkreis')\n",
    "data_all"
   ]
  },
  {
   "cell_type": "code",
   "execution_count": null,
   "metadata": {},
   "outputs": [],
   "source": [
    "print(\"Anzahl der Fälle stimmt noch überein? \" + str(anzahl_faelle == data_all[\"AnzahlFall\"].sum()))"
   ]
  },
  {
   "cell_type": "markdown",
   "metadata": {},
   "source": [
    "<br>\n",
    "Bevölkerungsentwicklung der Stadt- und Landkreise in Baden-Württemberg\n",
    "https://www.statistik-bw.de/BevoelkGebiet/Bevoelkerung/01035055.tab?R=LA\n",
    "\n",
    "Bevölkerungsdichte der Stadt- und Landkreise in Baden-Württemberg\n",
    "https://www.statistik-bw.de/BevoelkGebiet/Bevoelkerung/01515020.tab?R=LA"
   ]
  },
  {
   "cell_type": "code",
   "execution_count": null,
   "metadata": {},
   "outputs": [],
   "source": [
    "data_inhab = pd.read_csv(\"https://www.statistik-bw.de/BevoelkGebiet/Bevoelk_I_D_A_vj.csv\",\n",
    "                 encoding = \"ISO-8859-1\",\n",
    "                 sep=\";\",\n",
    "                 decimal=\",\",\n",
    "                 skiprows=17)\n",
    "data_inhab = data_inhab[(data_inhab[\"Amtlicher Gemeindeschlüssel (AGS)\"]>1000) &\n",
    "                        (data_inhab[\"Amtlicher Gemeindeschlüssel (AGS)\"]<10000) &\n",
    "                        # (data_inhab[\"Bevölkerung insgesamt\"].str.isnumeric())==True &\n",
    "                        (data_inhab[\"Stichtag\"] == \"30.09.2020\")]\n",
    "                         \n",
    "# Aktuellster Stichtag und alles nur Schätzungen. Also keine Differenzierung notwendig"
   ]
  },
  {
   "cell_type": "code",
   "execution_count": null,
   "metadata": {
    "scrolled": true
   },
   "outputs": [],
   "source": [
    "data_inhab"
   ]
  },
  {
   "cell_type": "code",
   "execution_count": null,
   "metadata": {},
   "outputs": [],
   "source": [
    "data_inhab_perkm = pd.read_csv(\"https://www.statistik-bw.de/BevoelkGebiet/Bevoelk_I_Flaeche_j.csv\",\n",
    "                 encoding = \"ISO-8859-1\",\n",
    "                 sep=\";\",\n",
    "                 decimal=\",\",\n",
    "                 skiprows=18)"
   ]
  },
  {
   "cell_type": "code",
   "execution_count": null,
   "metadata": {},
   "outputs": [],
   "source": [
    "data_inhab_perkm = data_inhab_perkm[(data_inhab_perkm[\"Amtlicher Gemeindeschlüssel (AGS)\"]>1000) &\n",
    "                        (data_inhab_perkm[\"Amtlicher Gemeindeschlüssel (AGS)\"]<10000) &\n",
    "                        (data_inhab_perkm[\"Stichtag\"] == \"31.12.2019\")]\n",
    "# Aktuellster Stichtag"
   ]
  },
  {
   "cell_type": "code",
   "execution_count": null,
   "metadata": {
    "scrolled": true
   },
   "outputs": [],
   "source": [
    "data_inhab_perkm"
   ]
  },
  {
   "cell_type": "markdown",
   "metadata": {},
   "source": [
    "<br>\n",
    "Altersstruktur der Stadt- und Landkreise in Ba-Wü\n",
    "https://www.statistik-bw.de/BevoelkGebiet/Alter/98015200.tab?R=KR237\n",
    "\n",
    "Download jeweils mittels des Amtlichen Gemeindeschlüssels (AGS)"
   ]
  },
  {
   "cell_type": "code",
   "execution_count": null,
   "metadata": {
    "scrolled": true
   },
   "outputs": [],
   "source": [
    "# pbar = ProgressBar()\n",
    "\n",
    "# AGS = ( pd.unique(data_inhab_perkm[\"Amtlicher Gemeindeschlüssel (AGS)\"]) )%1000\n",
    "# data_age = pd.DataFrame(columns = [\"Jahr\", \"Unter20\", \"Über65\", \"20bis65\", \"AGS\"])\n",
    "\n",
    "# for ags in pbar(AGS):\n",
    "#     temp_data = pd.read_csv(\"https://www.statistik-bw.de/BevoelkGebiet/Alter/98015200.tab?R=KR\" + str(ags) + \"&form=csv\",\n",
    "#                  encoding = \"ISO-8859-1\",\n",
    "#                  sep=\";\",\n",
    "#                  decimal=\",\",\n",
    "#                  names = [\"Jahr\", \"Unter20\", \"Über65\", \"20bis65\"],\n",
    "#                  usecols=[0,1,2,3],\n",
    "#                  skiprows = 28,\n",
    "#                  skipfooter = 20,\n",
    "#                     engine='python')\n",
    "#     temp_data[\"AGS\"] = ags\n",
    "#     data_age = data_age.append(temp_data, ignore_index=True)\n",
    "\n",
    "# data_age[\"AGS\"] = data_age[\"AGS\"] + 8000\n",
    "\n",
    "# data_age.to_csv(\"altersstruktur.csv\", index = False)"
   ]
  },
  {
   "cell_type": "code",
   "execution_count": null,
   "metadata": {},
   "outputs": [],
   "source": [
    "data_age = pd.read_csv(\"altersstruktur.csv\")\n",
    "data_age"
   ]
  },
  {
   "cell_type": "code",
   "execution_count": null,
   "metadata": {},
   "outputs": [],
   "source": [
    "data_age['Bevölkerung gesamt'] = data_age['Unter20'] + data_age['Über65'] + data_age['20bis65']\n",
    "data_age['Ü65%'] = data_age['Über65']/ data_age['Bevölkerung gesamt'] \n",
    "data_age\n",
    "\n",
    "#data_inhab_perkm1 = data_inhab_perkm.drop(['Kürzel der Regionaleinheit', 'Postleitzahl', 'Regionalname', 'Stichtag', 'Bevölkerung insgesamt', 'Gemeindegebiet ha'], axis = 1)\n",
    "#data_inhab_perkm1\n",
    "\n",
    "data_inhab['Ausländer%'] = data_inhab['Ausländer zusammen'].astype(int) / data_inhab['Bevölkerung insgesamt'].astype(int)\n",
    "data_inhab = data_inhab.drop(['Kürzel der Regionaleinheit', 'Regionalname', 'Stichtag', 'Bevölkerung insgesamt', 'Bevölkerung männlich',\\\n",
    "                            'Bevölkerung weiblich', 'Deutsche männlich', 'Deutsche weiblich',\\\n",
    "                            'Deutsche zusammen', 'Ausländer zusammen', 'Ausländer männlich', 'Ausländer weiblich'], axis = 1)"
   ]
  },
  {
   "cell_type": "code",
   "execution_count": null,
   "metadata": {},
   "outputs": [],
   "source": [
    "data_age"
   ]
  },
  {
   "cell_type": "code",
   "execution_count": null,
   "metadata": {},
   "outputs": [],
   "source": [
    "data_all = data_all.merge(right= data_age, how = 'outer', right_on = 'AGS', left_on = 'IdLandkreis')\n",
    "data_all2020 = data_all[(data_all[\"Meldedatum\"].astype(str).str.contains(pat = '2020'))&\n",
    "                        (data_all[\"Jahr\"].astype(str).str.contains(pat = '2020'))]\n",
    "data_all2021 = data_all[(data_all[\"Meldedatum\"].astype(str).str.contains(pat = '2021'))&\n",
    "                        (data_all[\"Jahr\"].astype(str).str.contains(pat = '2021'))]\n",
    "data_all = pd.concat([data_all2020, data_all2021])\n",
    "data_all = data_all.drop(['Jahr', 'Unter20', 'Über65', '20bis65', 'AGS'], axis = 1)\n",
    "\n",
    "data_all = data_all.merge(right = data_inhab, how = 'inner', right_on = 'Amtlicher Gemeindeschlüssel (AGS)', left_on = 'IdLandkreis')\n",
    "data_all = data_all.drop(['Amtlicher Gemeindeschlüssel (AGS)'], axis = 1)\n",
    "data_all = data_all.merge(right = data_inhab_perkm, how = 'inner', right_on = 'Amtlicher Gemeindeschlüssel (AGS)', left_on = 'IdLandkreis')\n",
    "data_all = data_all.drop(['Amtlicher Gemeindeschlüssel (AGS)', 'Kürzel der Regionaleinheit', 'Postleitzahl', 'Regionalname',\\\n",
    "                          'Stichtag', 'Bevölkerung insgesamt', 'Gemeindegebiet ha'], axis = 1)\n",
    "\n",
    "data_all[\"Bevölkerung gesamt\"] = data_all[\"Bevölkerung gesamt\"] * 1000\n",
    "data_all[\"Bevölkerung gesamt\"] = data_all[\"Bevölkerung gesamt\"].astype(int)\n",
    "data_all"
   ]
  },
  {
   "cell_type": "code",
   "execution_count": null,
   "metadata": {},
   "outputs": [],
   "source": [
    "print(\"Klimadaten von der Station Ohlsbach (1602) - mittig von Baden-Württemberg\")\n",
    "\n",
    "request = DwdObservationRequest(\n",
    "    parameter=[\n",
    "        DwdObservationParameter.MONTHLY.TEMPERATURE_AIR_200\n",
    "    ],\n",
    "    resolution=DwdObservationResolution.MONTHLY,\n",
    "    period=DwdObservationPeriod.RECENT,\n",
    ").filter(station_id=(1602, ))\n",
    "\n",
    "station_data = request.values.all().df\n",
    "\n",
    "station_data.tail()"
   ]
  },
  {
   "cell_type": "code",
   "execution_count": null,
   "metadata": {},
   "outputs": [],
   "source": [
    "station_data.FROM_DATE = station_data.FROM_DATE.astype(str).str.slice(stop=7)\n",
    "data_all[\"FROM_DATE\"] = data_all.Meldedatum.astype(str).str.slice(stop=7)\n",
    "station_data = station_data.drop(columns=[\"STATION_ID\", \"DATASET\", \"TO_DATE\", \"PARAMETER\", \"QUALITY\"])"
   ]
  },
  {
   "cell_type": "code",
   "execution_count": null,
   "metadata": {},
   "outputs": [],
   "source": [
    "data_all = pd.merge(data_all, station_data, on=\"FROM_DATE\")\\\n",
    "            .sort_values(['IdLandkreis', 'Meldedatum'])\\\n",
    "            .drop(columns=[\"FROM_DATE\"])\\\n",
    "            .rename(columns={\"VALUE\": \"Temperatur\"})\n",
    "data_all"
   ]
  },
  {
   "cell_type": "markdown",
   "metadata": {},
   "source": [
    "<br>\n",
    "\n",
    "BIP Daten Download\n",
    "\n",
    "Letzter Datenstand: 2018\n",
    "\n",
    "BIP pro Kopf mit Bevölkerungszahlen von 2020. Für eine Schätzung ausreichend\n",
    "\n",
    "BIP Angabe in Mio. Deswegen BIP * 1000000 "
   ]
  },
  {
   "cell_type": "code",
   "execution_count": null,
   "metadata": {
    "scrolled": true
   },
   "outputs": [],
   "source": [
    "# pbar = ProgressBar()\n",
    "\n",
    "# AGS = ( pd.unique(data_inhab_perkm[\"Amtlicher Gemeindeschlüssel (AGS)\"]) )%1000\n",
    "# data_bip = pd.DataFrame(columns = [\"BIP\", \"AGS\"])\n",
    "\n",
    "# for ags in pbar(AGS):\n",
    "#     condition = 0\n",
    "#     while (condition < 1):\n",
    "#         temp_data2 = pd.read_csv(\"https://www.statistik-bw.de/GesamtwBranchen/VGR/20013001.tab?R=KR\" + str(ags) + \"&form=csv\",\n",
    "#                      encoding = \"ISO-8859-1\",\n",
    "#                      sep=\";\",\n",
    "#                      decimal=\",\",\n",
    "#                      names = [\"BIP\"],\n",
    "#                      usecols=[1],\n",
    "#                      skiprows = 33,\n",
    "#                      skipfooter = 3,\n",
    "#                         engine='python')\n",
    "#         condition = temp_data2[\"BIP\"].fillna(0).values[0]\n",
    "        \n",
    "#     temp_data2[\"AGS\"] = ags\n",
    "#     data_bip = data_bip.append(temp_data2, ignore_index=True)\n",
    "\n",
    "# data_bip[\"AGS\"] = data_bip[\"AGS\"] + 8000\n",
    "# data_bip[\"BIP\"] = data_bip[\"BIP\"] * 1000000\n",
    "# data_bip[\"BIP\"] = data_bip[\"BIP\"].astype(int)\n",
    "# data_bip.to_csv(\"bip.csv\", index = False)"
   ]
  },
  {
   "cell_type": "code",
   "execution_count": null,
   "metadata": {
    "scrolled": true
   },
   "outputs": [],
   "source": [
    "data_bip = pd.read_csv(\"bip.csv\")\n",
    "data_bip"
   ]
  },
  {
   "cell_type": "code",
   "execution_count": null,
   "metadata": {},
   "outputs": [],
   "source": [
    "data_all = pd.merge(data_all, data_bip, left_on=\"IdLandkreis\", right_on=\"AGS\")\\\n",
    "            .sort_values(['IdLandkreis', 'Meldedatum'])\\\n",
    "            .drop(columns=[\"AGS\"])\n",
    "data_all[\"BIPK\"] = data_all[\"BIP\"]/data_all[\"Bevölkerung gesamt\"]\n",
    "data_all = data_all.drop(columns=[\"BIP\"])\n",
    "data_all"
   ]
  },
  {
   "cell_type": "markdown",
   "metadata": {},
   "source": [
    "<br>\n",
    "\n",
    "Beschäftigte in Gastgewerbe & Gesundheits-/Sozialwesen (2020)\n",
    "\n",
    "https://www.statistik-bw.de/Arbeit/Beschaeftigte/0302317x.tab?R=KR111&form=csv\n",
    "\n",
    "<br>"
   ]
  },
  {
   "cell_type": "code",
   "execution_count": null,
   "metadata": {},
   "outputs": [],
   "source": [
    "data_all[\"BIPK\"].astype(str)"
   ]
  },
  {
   "cell_type": "code",
   "execution_count": null,
   "metadata": {},
   "outputs": [],
   "source": [
    "# pbar = ProgressBar()\n",
    "\n",
    "# AGS = ( pd.unique(data_inhab_perkm[\"Amtlicher Gemeindeschlüssel (AGS)\"]) )%1000\n",
    "# data_besch = pd.DataFrame(columns = [\"AGS\", \"Bgast\", \"Bgesund\"])\n",
    "\n",
    "# for ags in pbar(AGS):\n",
    "#     condition = 0\n",
    "#     while (condition < 1):\n",
    "#         temp_data3 = pd.read_csv(\"https://www.statistik-bw.de/Arbeit/Beschaeftigte/0302317x.tab?R=KR\" + str(ags) + \"&form=csv\",\n",
    "#                      encoding = \"ISO-8859-1\",\n",
    "#                      sep=\";\",\n",
    "#                      decimal=\",\",\n",
    "#                      names = [\"TEMPCOL\"],\n",
    "#                      usecols=[2],\n",
    "#                      skiprows = 12,\n",
    "#                      skipfooter = 8,\n",
    "#                      dtype = {\n",
    "#                          \"TEMPCOL\": str\n",
    "#                      },\n",
    "#                      engine='python')\n",
    "#         condition = temp_data3[\"TEMPCOL\"].astype(float).fillna(0).values[4]\n",
    "        \n",
    "# data_besch[\"AGS\"] = data_besch[\"AGS\"] + 8000\n",
    "# data_besch[\"Bgast\"] = data_besch[\"Bgast\"].str.replace(\".\", \"\")\n",
    "# data_besch[\"Bgesund\"] = data_besch[\"Bgesund\"].str.replace(\".\", \"\")\n",
    "# data_besch.to_csv(\"besch.csv\", index = False)\n",
    "\n",
    "# data_besch"
   ]
  },
  {
   "cell_type": "code",
   "execution_count": null,
   "metadata": {},
   "outputs": [],
   "source": [
    "data_besch = pd.read_csv(\"besch.csv\")"
   ]
  },
  {
   "cell_type": "code",
   "execution_count": null,
   "metadata": {},
   "outputs": [],
   "source": [
    "data_all = pd.merge(data_all, data_besch, left_on=\"IdLandkreis\", right_on=\"AGS\")\\\n",
    "            .sort_values(['IdLandkreis', 'Meldedatum'])\\\n",
    "            .drop(columns=[\"AGS\"])\n",
    "data_all"
   ]
  },
  {
   "cell_type": "markdown",
   "metadata": {},
   "source": [
    "<br>\n",
    "\n",
    "Google Trends zur Suche \"Corona\" - Standarisiert von 0 - 100\n",
    "\n",
    "CSV Download über: https://trends.google.de/trends/explore?date=2020-01-01%202021-03-18&geo=DE-BW&q=Corona\n",
    "\n",
    "<br>"
   ]
  },
  {
   "cell_type": "code",
   "execution_count": null,
   "metadata": {},
   "outputs": [],
   "source": [
    "data_ggl = pd.read_csv(\"googleTrendsCorona.csv\", skiprows = 2)\\\n",
    "            .rename(columns={\"Corona: (Baden-Württemberg)\": \"GoogleCorona\"})\n",
    "data_ggl[\"Woche\"] = pd.to_datetime(data_ggl[\"Woche\"])\n",
    "data_ggl[\"GoogleCorona\"] = data_ggl[\"GoogleCorona\"].replace([\"<1\"], 0)"
   ]
  },
  {
   "cell_type": "code",
   "execution_count": null,
   "metadata": {},
   "outputs": [],
   "source": [
    "data_all = pd.merge_asof(data_all.sort_values(['Meldedatum']), data_ggl, left_on=\"Meldedatum\", right_on=\"Woche\", direction=\"nearest\")\\\n",
    "            .sort_values(['IdLandkreis', 'Meldedatum'])\\\n",
    "            .drop(columns=[\"Woche\"])\n",
    "data_all"
   ]
  },
  {
   "cell_type": "markdown",
   "metadata": {},
   "source": [
    "<br>\n",
    "<span style=\"color:red\">\n",
    "    Aufgabe:\n",
    "</span>\n",
    "\n",
    "- Inzidenz-Werte berechnen mit den Bevölkerungszahlen (Oben ist ein Link zum \"Wie\")\n",
    "- AnzahlFall>59 prozentual zu AnzahlFall = Fall>59\n",
    "- GenesenBevölkerung\n",
    "    - AnzahlGenesen zum Datum aufsummieren\n",
    "    - Prozentual zur Bevölkerung\n",
    "\n",
    "<br>"
   ]
  },
  {
   "cell_type": "markdown",
   "metadata": {},
   "source": [
    "<br>\n",
    "<span style=\"color:red\">\n",
    "    Aufgabe:\n",
    "</span>\n",
    "\n",
    "- Durchschnittliches Einkommen: Bruttolöhne https://www.statistik-bw.de/GesamtwBranchen/VGR/20023030.tab?R=KR111\n",
    "- Arbeitslosenquoten: https://www.statistik-bw.de/Arbeit/Arbeitslose/03033022.tab?R=KR111\n",
    "- Pflegebedürftige: https://www.statistik-bw.de/SozSicherung/Pflege/15163020.tab?R=KR111\n",
    "\n",
    "<br>"
   ]
  },
  {
   "cell_type": "markdown",
   "metadata": {},
   "source": [
    "#### Ermittlung der Corona Maßnahmen und Einteilung der Stärke des Lockdowns"
   ]
  },
  {
   "cell_type": "markdown",
   "metadata": {},
   "source": [
    "Ergänzung der Lockdowndaten, die unter http://dx.doi.org/10.23668/psycharchives.4485 zur verfügung gestellt wurden.\n",
    "Zur Ergänzung wurden die Daten zu den Verordnungen unter https://www.baden-wuerttemberg.de/de/service/aktuelle-infos-zu-corona/aktuelle-corona-verordnung-des-landes-baden-wuerttemberg/ genutzt.\n",
    "\n",
    "Es wurden nicht alle Variablen des PysArchive-Datensatzes genutzt. Folgende wurden ausgewählt.\n",
    "- ``leavehome``: \"Leave Home\", i.e. Ausgangssperre\n",
    "    - 0: Keine Restriktionen\n",
    "    - 1: Verlassen der Wohnung ohne Restriktionen, es kommt allerdings auf den Zielort an\n",
    "    - 2: Verlassen\n",
    "- ``dist``: \"Distance\", Abstandsregelung von 1,5m\n",
    "    - 0: Keine Abstandsregelung\n",
    "    - 2: Abstandsregelung\n",
    "- ``msk``: \"Mask-wearing\", i.e. Maskenpflicht\n",
    "    - 0: Keine Maskenpflicht\n",
    "    - 1: Maskenplicht in ÖPVN und Läden\n",
    "    - 2: Maskenplicht in öffentlichen Bereichen\n",
    "- ``shppng``: \"Shopping\"\n",
    "    - 0: Einzelhandel nicht geschlossen\n",
    "    - 1: Einzelhandel bis zu einer bestimmmten Größe geschlossen\n",
    "    - 2: Einzelhandel geschlossen\n",
    "- ``hcut``: \"Haircut\", i.e. Friseur. Hier wird sich allerdings nicht nur auf Friseure eingeschränkt, sondern generell auf Körperpflegedienste\n",
    "    - 0: Keine Restriktionen\n",
    "    - 1: Services sind nur teilweise erlaubt, unter restriktionen\n",
    "    - 2: Services dürfen nicht angeboten werden\n",
    "- ``ess_shops``: \"Essential Shops\", i.e. Wesentliche Geschäfte. Damit wird die schliessung aller Geschäfte, wie Apotheke, Baumarkt etc. dargestellt. Dies betrifft nicht den Lebensmittelhandel\n",
    "    - 0: Keine Restriktionen\n",
    "    - 1: Nur für B2B oder für bestimmte Sektoren offen\n",
    "    - 2: Geschlossen\n",
    "- ``school``: \"School\", i.e. Schule. Stellt die Schulschliessung / den Präsenzuntericht dar.\n",
    "    - 0: Keine Restriktionen\n",
    "    - 1: Schulen geschlossen, ausser Abschlussklassen und für Kinder von wesentlichen Arbeitern\n",
    "    - 2: Schulen komplett geschlossen\n",
    "- ``daycare``\n",
    "    - 0: Keine Restriktionen\n",
    "    - 1: Kindergärten geschlossen, ausser für Kinder von wesentlichen Arbeitern\n",
    "    - 2: Kindergärten komplett geschlossen\n",
    "- ``trvl``: \"Travel\", i.e. Reisen. Nur innerhalb deutschlands\n",
    "    - 0: erlaubt\n",
    "    - 1: Eingeschränkt, durch Verbote in Risikogebieten ode rdurchGeshclossene Aufenthaltsorte\n",
    "    - 2: Nicht erlaubt, ausser geschäftlcih oder gesundheitlich\n",
    "- ``gastr``\n",
    "    - 0: Offen\n",
    "    - 1: only takeaway or delivery\n",
    "    - 2: Fully Closed\n",
    "- ``onefriend``\n",
    "    - 0: In der Öffentlichkeit mit einer weiteren Person ist erlaubt\n",
    "    - 2: In der Öffentlichkeit mit einer weiteren POersin ist verboten\n",
    "- ``morefriends``\n",
    "    - 0: Erlaubt, ohne restriktionen\n",
    "    - 1: Erlaubt, sich mit 1-5 Personen ausserhalb des Haushaltes zu treffen\n",
    "    - 2: Verboten\n",
    "- ``church``: \n",
    "    - 0: offen\n",
    "    - 1: offen mit restriktionen (Anzahl personen, Zeit, bestimmte Gründe wie Todesfeiern)\n",
    "    - 2: Geschlossen.\n",
    "    \n",
    "Die Erläuterungen zu den Variablen sind unter folgendem Link verfügbar: https://www.psycharchives.org/bitstream/20.500.12034/2638/1/ZPID%20lockdown%20measures%20release%20note.pdf\n",
    "\n"
   ]
  },
  {
   "cell_type": "code",
   "execution_count": null,
   "metadata": {},
   "outputs": [],
   "source": [
    "data_lockdown = pd.read_csv(\"Corona_Verordnungen.csv\",\n",
    "                 encoding = \"UTF-8\",\n",
    "                 sep=\";\",\n",
    "                 decimal=\",\")\n",
    "data_lockdown"
   ]
  },
  {
   "cell_type": "markdown",
   "metadata": {},
   "source": [
    "<br>\n",
    "<span style=\"color:red\">\n",
    "    Aufgabe:\n",
    "</span>\n",
    "\n",
    "- Zwei Tabellen\n",
    "    - Eine Tabelle für Visualisierungen, Regressionsanalysen usw.\n",
    "    - Eine Tabelle standardisiert für Neuronales Netz\n",
    "\n",
    "\n",
    "<br>"
   ]
  },
  {
   "cell_type": "markdown",
   "metadata": {},
   "source": [
    "<br>\n",
    "<span style=\"color:green\">\n",
    "    Beispiele:\n",
    "</span>\n",
    "\n",
    "- https://www.kaggle.com/docxian/covid-19-tracking-germany\n",
    "- https://www.kaggle.com/mreverybody/covid19-germany-deutschland-rki-data\n",
    "- Beispiele für Tabellen-Manipulation: https://datascience-enthusiast.com/R/pandas_datatable.html\n",
    "- "
   ]
  }
 ],
 "metadata": {
  "kernelspec": {
   "display_name": "Python 3",
   "language": "python",
   "name": "python3"
  },
  "language_info": {
   "codemirror_mode": {
    "name": "ipython",
    "version": 3
   },
   "file_extension": ".py",
   "mimetype": "text/x-python",
   "name": "python",
   "nbconvert_exporter": "python",
   "pygments_lexer": "ipython3",
   "version": "3.8.5"
  }
 },
 "nbformat": 4,
 "nbformat_minor": 2
}
