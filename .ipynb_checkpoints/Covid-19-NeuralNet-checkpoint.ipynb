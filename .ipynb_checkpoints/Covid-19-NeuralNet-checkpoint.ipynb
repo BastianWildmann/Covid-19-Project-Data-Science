{
 "cells": [
  {
   "cell_type": "markdown",
   "id": "textile-empire",
   "metadata": {},
   "source": [
    "# Neuronale Netze\n",
    "\n",
    "\n",
    "Links:\n",
    "https://www.h2kinfosys.com/blog/linear-regression-with-keras-on-tensorflow/"
   ]
  },
  {
   "cell_type": "markdown",
   "id": "conventional-austria",
   "metadata": {},
   "source": [
    "Papers:\n",
    "\n",
    "Neural network powered COVID-19 spread forecasting model\n",
    "https://www.ncbi.nlm.nih.gov/pmc/articles/PMC7428770/\n",
    "\n",
    "Scaling regression inputs by dividing by two standard deviations\n",
    "http://www.stat.columbia.edu/~gelman/research/published/standardizing7.pdf"
   ]
  },
  {
   "cell_type": "code",
   "execution_count": null,
   "id": "portuguese-criminal",
   "metadata": {},
   "outputs": [],
   "source": []
  },
  {
   "cell_type": "code",
   "execution_count": 1,
   "id": "dramatic-circus",
   "metadata": {},
   "outputs": [],
   "source": [
    "import io\n",
    "import urllib\n",
    "import datetime\n",
    "from datetime import timedelta\n",
    "import numpy as np\n",
    "import pandas as pd\n",
    "import matplotlib as mpl\n",
    "import matplotlib.pyplot as plt\n",
    "import seaborn as sns\n",
    "from progressbar import ProgressBar\n",
    "import time\n",
    "\n",
    "from datetime import datetime"
   ]
  },
  {
   "cell_type": "code",
   "execution_count": 2,
   "id": "extended-microphone",
   "metadata": {},
   "outputs": [],
   "source": [
    "np.set_printoptions(precision=3, suppress=True)\n",
    "\n",
    "import tensorflow as tf\n",
    "\n",
    "from tensorflow import keras\n",
    "from tensorflow.keras import layers\n",
    "from tensorflow.keras import regularizers\n",
    "from tensorflow.keras.layers.experimental import preprocessing\n"
   ]
  },
  {
   "cell_type": "code",
   "execution_count": 3,
   "id": "cheap-peripheral",
   "metadata": {},
   "outputs": [
    {
     "data": {
      "text/html": [
       "<div>\n",
       "<style scoped>\n",
       "    .dataframe tbody tr th:only-of-type {\n",
       "        vertical-align: middle;\n",
       "    }\n",
       "\n",
       "    .dataframe tbody tr th {\n",
       "        vertical-align: top;\n",
       "    }\n",
       "\n",
       "    .dataframe thead th {\n",
       "        text-align: right;\n",
       "    }\n",
       "</style>\n",
       "<table border=\"1\" class=\"dataframe\">\n",
       "  <thead>\n",
       "    <tr style=\"text-align: right;\">\n",
       "      <th></th>\n",
       "      <th>IdLandkreis</th>\n",
       "      <th>Meldedatum</th>\n",
       "      <th>AnzahlFall</th>\n",
       "      <th>AnzahlGenesen</th>\n",
       "      <th>AnzahlFall&gt;59</th>\n",
       "      <th>Landkreis</th>\n",
       "      <th>Bevölkerung gesamt</th>\n",
       "      <th>Ü65%</th>\n",
       "      <th>Ausländer%</th>\n",
       "      <th>Bevölkerungsdichte EW/km²</th>\n",
       "      <th>...</th>\n",
       "      <th>1to5friends</th>\n",
       "      <th>churchTW</th>\n",
       "      <th>churchGANZ</th>\n",
       "      <th>personen_erst_kumulativ</th>\n",
       "      <th>personen_voll_kumulativ</th>\n",
       "      <th>7dInzidenzFUTURE</th>\n",
       "      <th>AnzahlFallFUTURE</th>\n",
       "      <th>BgastP</th>\n",
       "      <th>BgesundP</th>\n",
       "      <th>Gsaison</th>\n",
       "    </tr>\n",
       "  </thead>\n",
       "  <tbody>\n",
       "    <tr>\n",
       "      <th>0</th>\n",
       "      <td>8111</td>\n",
       "      <td>2020-03-07</td>\n",
       "      <td>5</td>\n",
       "      <td>5</td>\n",
       "      <td>0</td>\n",
       "      <td>SK Stuttgart</td>\n",
       "      <td>645315</td>\n",
       "      <td>0.176218</td>\n",
       "      <td>0.249539</td>\n",
       "      <td>3067</td>\n",
       "      <td>...</td>\n",
       "      <td>0</td>\n",
       "      <td>0</td>\n",
       "      <td>0</td>\n",
       "      <td>0.000000</td>\n",
       "      <td>0.000000</td>\n",
       "      <td>12.087120</td>\n",
       "      <td>78</td>\n",
       "      <td>0.018617</td>\n",
       "      <td>0.074313</td>\n",
       "      <td>1</td>\n",
       "    </tr>\n",
       "    <tr>\n",
       "      <th>1</th>\n",
       "      <td>8111</td>\n",
       "      <td>2020-03-14</td>\n",
       "      <td>78</td>\n",
       "      <td>78</td>\n",
       "      <td>3</td>\n",
       "      <td>SK Stuttgart</td>\n",
       "      <td>645315</td>\n",
       "      <td>0.176218</td>\n",
       "      <td>0.249539</td>\n",
       "      <td>3067</td>\n",
       "      <td>...</td>\n",
       "      <td>0</td>\n",
       "      <td>0</td>\n",
       "      <td>0</td>\n",
       "      <td>0.000000</td>\n",
       "      <td>0.000000</td>\n",
       "      <td>48.038555</td>\n",
       "      <td>310</td>\n",
       "      <td>0.018617</td>\n",
       "      <td>0.074313</td>\n",
       "      <td>1</td>\n",
       "    </tr>\n",
       "    <tr>\n",
       "      <th>2</th>\n",
       "      <td>8111</td>\n",
       "      <td>2020-03-21</td>\n",
       "      <td>310</td>\n",
       "      <td>303</td>\n",
       "      <td>41</td>\n",
       "      <td>SK Stuttgart</td>\n",
       "      <td>645315</td>\n",
       "      <td>0.176218</td>\n",
       "      <td>0.249539</td>\n",
       "      <td>3067</td>\n",
       "      <td>...</td>\n",
       "      <td>1</td>\n",
       "      <td>0</td>\n",
       "      <td>1</td>\n",
       "      <td>0.000000</td>\n",
       "      <td>0.000000</td>\n",
       "      <td>42.614847</td>\n",
       "      <td>275</td>\n",
       "      <td>0.018617</td>\n",
       "      <td>0.074313</td>\n",
       "      <td>1</td>\n",
       "    </tr>\n",
       "    <tr>\n",
       "      <th>3</th>\n",
       "      <td>8111</td>\n",
       "      <td>2020-03-28</td>\n",
       "      <td>275</td>\n",
       "      <td>261</td>\n",
       "      <td>65</td>\n",
       "      <td>SK Stuttgart</td>\n",
       "      <td>645315</td>\n",
       "      <td>0.176218</td>\n",
       "      <td>0.249539</td>\n",
       "      <td>3067</td>\n",
       "      <td>...</td>\n",
       "      <td>1</td>\n",
       "      <td>0</td>\n",
       "      <td>1</td>\n",
       "      <td>0.000000</td>\n",
       "      <td>0.000000</td>\n",
       "      <td>36.726250</td>\n",
       "      <td>237</td>\n",
       "      <td>0.018617</td>\n",
       "      <td>0.074313</td>\n",
       "      <td>1</td>\n",
       "    </tr>\n",
       "    <tr>\n",
       "      <th>4</th>\n",
       "      <td>8111</td>\n",
       "      <td>2020-04-04</td>\n",
       "      <td>237</td>\n",
       "      <td>225</td>\n",
       "      <td>65</td>\n",
       "      <td>SK Stuttgart</td>\n",
       "      <td>645315</td>\n",
       "      <td>0.176218</td>\n",
       "      <td>0.249539</td>\n",
       "      <td>3067</td>\n",
       "      <td>...</td>\n",
       "      <td>1</td>\n",
       "      <td>0</td>\n",
       "      <td>1</td>\n",
       "      <td>0.000000</td>\n",
       "      <td>0.000000</td>\n",
       "      <td>23.864314</td>\n",
       "      <td>154</td>\n",
       "      <td>0.018617</td>\n",
       "      <td>0.074313</td>\n",
       "      <td>1</td>\n",
       "    </tr>\n",
       "    <tr>\n",
       "      <th>...</th>\n",
       "      <td>...</td>\n",
       "      <td>...</td>\n",
       "      <td>...</td>\n",
       "      <td>...</td>\n",
       "      <td>...</td>\n",
       "      <td>...</td>\n",
       "      <td>...</td>\n",
       "      <td>...</td>\n",
       "      <td>...</td>\n",
       "      <td>...</td>\n",
       "      <td>...</td>\n",
       "      <td>...</td>\n",
       "      <td>...</td>\n",
       "      <td>...</td>\n",
       "      <td>...</td>\n",
       "      <td>...</td>\n",
       "      <td>...</td>\n",
       "      <td>...</td>\n",
       "      <td>...</td>\n",
       "      <td>...</td>\n",
       "      <td>...</td>\n",
       "    </tr>\n",
       "    <tr>\n",
       "      <th>2295</th>\n",
       "      <td>8437</td>\n",
       "      <td>2021-02-20</td>\n",
       "      <td>40</td>\n",
       "      <td>40</td>\n",
       "      <td>11</td>\n",
       "      <td>LK Sigmaringen</td>\n",
       "      <td>131950</td>\n",
       "      <td>0.212952</td>\n",
       "      <td>0.113027</td>\n",
       "      <td>109</td>\n",
       "      <td>...</td>\n",
       "      <td>1</td>\n",
       "      <td>1</td>\n",
       "      <td>0</td>\n",
       "      <td>0.038975</td>\n",
       "      <td>0.020910</td>\n",
       "      <td>60.629026</td>\n",
       "      <td>80</td>\n",
       "      <td>0.008230</td>\n",
       "      <td>0.055817</td>\n",
       "      <td>1</td>\n",
       "    </tr>\n",
       "    <tr>\n",
       "      <th>2296</th>\n",
       "      <td>8437</td>\n",
       "      <td>2021-02-27</td>\n",
       "      <td>80</td>\n",
       "      <td>79</td>\n",
       "      <td>14</td>\n",
       "      <td>LK Sigmaringen</td>\n",
       "      <td>131950</td>\n",
       "      <td>0.212952</td>\n",
       "      <td>0.113027</td>\n",
       "      <td>109</td>\n",
       "      <td>...</td>\n",
       "      <td>1</td>\n",
       "      <td>1</td>\n",
       "      <td>0</td>\n",
       "      <td>0.048003</td>\n",
       "      <td>0.025293</td>\n",
       "      <td>81.849185</td>\n",
       "      <td>108</td>\n",
       "      <td>0.008230</td>\n",
       "      <td>0.055817</td>\n",
       "      <td>1</td>\n",
       "    </tr>\n",
       "    <tr>\n",
       "      <th>2297</th>\n",
       "      <td>8437</td>\n",
       "      <td>2021-03-06</td>\n",
       "      <td>108</td>\n",
       "      <td>106</td>\n",
       "      <td>19</td>\n",
       "      <td>LK Sigmaringen</td>\n",
       "      <td>131950</td>\n",
       "      <td>0.212952</td>\n",
       "      <td>0.113027</td>\n",
       "      <td>109</td>\n",
       "      <td>...</td>\n",
       "      <td>1</td>\n",
       "      <td>1</td>\n",
       "      <td>0</td>\n",
       "      <td>0.061021</td>\n",
       "      <td>0.029720</td>\n",
       "      <td>122.015915</td>\n",
       "      <td>161</td>\n",
       "      <td>0.008230</td>\n",
       "      <td>0.055817</td>\n",
       "      <td>1</td>\n",
       "    </tr>\n",
       "    <tr>\n",
       "      <th>2298</th>\n",
       "      <td>8437</td>\n",
       "      <td>2021-03-13</td>\n",
       "      <td>161</td>\n",
       "      <td>158</td>\n",
       "      <td>22</td>\n",
       "      <td>LK Sigmaringen</td>\n",
       "      <td>131950</td>\n",
       "      <td>0.212952</td>\n",
       "      <td>0.113027</td>\n",
       "      <td>109</td>\n",
       "      <td>...</td>\n",
       "      <td>1</td>\n",
       "      <td>1</td>\n",
       "      <td>0</td>\n",
       "      <td>0.077312</td>\n",
       "      <td>0.034345</td>\n",
       "      <td>162.182645</td>\n",
       "      <td>214</td>\n",
       "      <td>0.008230</td>\n",
       "      <td>0.055817</td>\n",
       "      <td>1</td>\n",
       "    </tr>\n",
       "    <tr>\n",
       "      <th>2299</th>\n",
       "      <td>8437</td>\n",
       "      <td>2021-03-20</td>\n",
       "      <td>214</td>\n",
       "      <td>200</td>\n",
       "      <td>26</td>\n",
       "      <td>LK Sigmaringen</td>\n",
       "      <td>131950</td>\n",
       "      <td>0.212952</td>\n",
       "      <td>0.113027</td>\n",
       "      <td>109</td>\n",
       "      <td>...</td>\n",
       "      <td>1</td>\n",
       "      <td>1</td>\n",
       "      <td>0</td>\n",
       "      <td>0.089212</td>\n",
       "      <td>0.039729</td>\n",
       "      <td>247.821144</td>\n",
       "      <td>327</td>\n",
       "      <td>0.008230</td>\n",
       "      <td>0.055817</td>\n",
       "      <td>1</td>\n",
       "    </tr>\n",
       "  </tbody>\n",
       "</table>\n",
       "<p>2300 rows × 45 columns</p>\n",
       "</div>"
      ],
      "text/plain": [
       "      IdLandkreis Meldedatum  AnzahlFall  AnzahlGenesen  AnzahlFall>59  \\\n",
       "0            8111 2020-03-07           5              5              0   \n",
       "1            8111 2020-03-14          78             78              3   \n",
       "2            8111 2020-03-21         310            303             41   \n",
       "3            8111 2020-03-28         275            261             65   \n",
       "4            8111 2020-04-04         237            225             65   \n",
       "...           ...        ...         ...            ...            ...   \n",
       "2295         8437 2021-02-20          40             40             11   \n",
       "2296         8437 2021-02-27          80             79             14   \n",
       "2297         8437 2021-03-06         108            106             19   \n",
       "2298         8437 2021-03-13         161            158             22   \n",
       "2299         8437 2021-03-20         214            200             26   \n",
       "\n",
       "           Landkreis  Bevölkerung gesamt      Ü65%  Ausländer%  \\\n",
       "0       SK Stuttgart              645315  0.176218    0.249539   \n",
       "1       SK Stuttgart              645315  0.176218    0.249539   \n",
       "2       SK Stuttgart              645315  0.176218    0.249539   \n",
       "3       SK Stuttgart              645315  0.176218    0.249539   \n",
       "4       SK Stuttgart              645315  0.176218    0.249539   \n",
       "...              ...                 ...       ...         ...   \n",
       "2295  LK Sigmaringen              131950  0.212952    0.113027   \n",
       "2296  LK Sigmaringen              131950  0.212952    0.113027   \n",
       "2297  LK Sigmaringen              131950  0.212952    0.113027   \n",
       "2298  LK Sigmaringen              131950  0.212952    0.113027   \n",
       "2299  LK Sigmaringen              131950  0.212952    0.113027   \n",
       "\n",
       "      Bevölkerungsdichte EW/km²  ...  1to5friends  churchTW  churchGANZ  \\\n",
       "0                          3067  ...            0         0           0   \n",
       "1                          3067  ...            0         0           0   \n",
       "2                          3067  ...            1         0           1   \n",
       "3                          3067  ...            1         0           1   \n",
       "4                          3067  ...            1         0           1   \n",
       "...                         ...  ...          ...       ...         ...   \n",
       "2295                        109  ...            1         1           0   \n",
       "2296                        109  ...            1         1           0   \n",
       "2297                        109  ...            1         1           0   \n",
       "2298                        109  ...            1         1           0   \n",
       "2299                        109  ...            1         1           0   \n",
       "\n",
       "      personen_erst_kumulativ  personen_voll_kumulativ  7dInzidenzFUTURE  \\\n",
       "0                    0.000000                 0.000000         12.087120   \n",
       "1                    0.000000                 0.000000         48.038555   \n",
       "2                    0.000000                 0.000000         42.614847   \n",
       "3                    0.000000                 0.000000         36.726250   \n",
       "4                    0.000000                 0.000000         23.864314   \n",
       "...                       ...                      ...               ...   \n",
       "2295                 0.038975                 0.020910         60.629026   \n",
       "2296                 0.048003                 0.025293         81.849185   \n",
       "2297                 0.061021                 0.029720        122.015915   \n",
       "2298                 0.077312                 0.034345        162.182645   \n",
       "2299                 0.089212                 0.039729        247.821144   \n",
       "\n",
       "      AnzahlFallFUTURE    BgastP  BgesundP  Gsaison  \n",
       "0                   78  0.018617  0.074313        1  \n",
       "1                  310  0.018617  0.074313        1  \n",
       "2                  275  0.018617  0.074313        1  \n",
       "3                  237  0.018617  0.074313        1  \n",
       "4                  154  0.018617  0.074313        1  \n",
       "...                ...       ...       ...      ...  \n",
       "2295                80  0.008230  0.055817        1  \n",
       "2296               108  0.008230  0.055817        1  \n",
       "2297               161  0.008230  0.055817        1  \n",
       "2298               214  0.008230  0.055817        1  \n",
       "2299               327  0.008230  0.055817        1  \n",
       "\n",
       "[2300 rows x 45 columns]"
      ]
     },
     "execution_count": 3,
     "metadata": {},
     "output_type": "execute_result"
    }
   ],
   "source": [
    "data_all = pd.read_csv(\"data_all.csv\")\n",
    "data_all[\"Meldedatum\"] = pd.to_datetime(data_all[\"Meldedatum\"]) #- pd.to_timedelta(7, unit='d')\n",
    "data_all"
   ]
  },
  {
   "cell_type": "code",
   "execution_count": 4,
   "id": "powered-reproduction",
   "metadata": {
    "scrolled": true
   },
   "outputs": [
    {
     "data": {
      "text/plain": [
       "IdLandkreis                  0\n",
       "Meldedatum                   0\n",
       "AnzahlFall                   0\n",
       "AnzahlGenesen                0\n",
       "AnzahlFall>59                0\n",
       "Landkreis                    0\n",
       "Bevölkerung gesamt           0\n",
       "Ü65%                         0\n",
       "Ausländer%                   0\n",
       "Bevölkerungsdichte EW/km²    0\n",
       "Temperatur                   0\n",
       "BIPK                         0\n",
       "Bgast                        0\n",
       "Bgesund                      0\n",
       "afd21                        0\n",
       "GoogleCorona                 0\n",
       "GoogleUrlaub                 0\n",
       "7dInzidenz                   0\n",
       "7dInzidenzFall>59            0\n",
       "AnzahlFall>59%               0\n",
       "AnzahlGenesenLandkreis       0\n",
       "AnzahlGenesenLandkreis%      0\n",
       "leavehome                    0\n",
       "dist                         0\n",
       "trvl                         0\n",
       "gastr                        0\n",
       "mskÖPVN                      0\n",
       "mskÖFF                       0\n",
       "shppngTW                     0\n",
       "shppngGANZ                   0\n",
       "hcutTW                       0\n",
       "hcutGANZ                     0\n",
       "ess_shpsTW                   0\n",
       "schoolTW                     0\n",
       "daycareTW                    0\n",
       "1to5friends                  0\n",
       "churchTW                     0\n",
       "churchGANZ                   0\n",
       "personen_erst_kumulativ      0\n",
       "personen_voll_kumulativ      0\n",
       "7dInzidenzFUTURE             0\n",
       "AnzahlFallFUTURE             0\n",
       "BgastP                       0\n",
       "BgesundP                     0\n",
       "Gsaison                      0\n",
       "dtype: int64"
      ]
     },
     "execution_count": 4,
     "metadata": {},
     "output_type": "execute_result"
    }
   ],
   "source": [
    "data_all.isna().sum()"
   ]
  },
  {
   "cell_type": "code",
   "execution_count": 5,
   "id": "quarterly-underground",
   "metadata": {
    "scrolled": true
   },
   "outputs": [
    {
     "data": {
      "text/plain": [
       "IdLandkreis                           int64\n",
       "Meldedatum                   datetime64[ns]\n",
       "AnzahlFall                            int64\n",
       "AnzahlGenesen                         int64\n",
       "AnzahlFall>59                         int64\n",
       "Landkreis                            object\n",
       "Bevölkerung gesamt                    int64\n",
       "Ü65%                                float64\n",
       "Ausländer%                          float64\n",
       "Bevölkerungsdichte EW/km²             int64\n",
       "Temperatur                          float64\n",
       "BIPK                                float64\n",
       "Bgast                                 int64\n",
       "Bgesund                               int64\n",
       "afd21                               float64\n",
       "GoogleCorona                          int64\n",
       "GoogleUrlaub                          int64\n",
       "7dInzidenz                          float64\n",
       "7dInzidenzFall>59                   float64\n",
       "AnzahlFall>59%                      float64\n",
       "AnzahlGenesenLandkreis                int64\n",
       "AnzahlGenesenLandkreis%             float64\n",
       "leavehome                             int64\n",
       "dist                                  int64\n",
       "trvl                                  int64\n",
       "gastr                                 int64\n",
       "mskÖPVN                               int64\n",
       "mskÖFF                                int64\n",
       "shppngTW                              int64\n",
       "shppngGANZ                            int64\n",
       "hcutTW                                int64\n",
       "hcutGANZ                              int64\n",
       "ess_shpsTW                            int64\n",
       "schoolTW                              int64\n",
       "daycareTW                             int64\n",
       "1to5friends                           int64\n",
       "churchTW                              int64\n",
       "churchGANZ                            int64\n",
       "personen_erst_kumulativ             float64\n",
       "personen_voll_kumulativ             float64\n",
       "7dInzidenzFUTURE                    float64\n",
       "AnzahlFallFUTURE                      int64\n",
       "BgastP                              float64\n",
       "BgesundP                            float64\n",
       "Gsaison                               int64\n",
       "dtype: object"
      ]
     },
     "execution_count": 5,
     "metadata": {},
     "output_type": "execute_result"
    }
   ],
   "source": [
    "data_all.dtypes"
   ]
  },
  {
   "cell_type": "code",
   "execution_count": 6,
   "id": "practical-aurora",
   "metadata": {},
   "outputs": [],
   "source": [
    "# data_y = data_all[[\"IdLandkreis\", \"Meldedatum\", \"7dInzidenz\", \"AnzahlFall\"]].copy()\n",
    "# data_y.Meldedatum = data_y.Meldedatum - pd.to_timedelta(7, unit='d')\n",
    "# data_y = data_y.rename(columns={\"7dInzidenz\": \"7dInzidenzFUTURE\", \"AnzahlFall\": \"AnzahlFallFUTURE\" })"
   ]
  },
  {
   "cell_type": "code",
   "execution_count": 7,
   "id": "heard-southeast",
   "metadata": {},
   "outputs": [],
   "source": [
    "# data_all = pd.merge(data_all, data_y, how=\"inner\", on=[\"IdLandkreis\", \"Meldedatum\"])\n",
    "# data_all.head\n",
    "# #data_all.isna().sum()"
   ]
  },
  {
   "cell_type": "markdown",
   "id": "instant-cradle",
   "metadata": {},
   "source": [
    "# Modell Nr. 1\n",
    "\n",
    "<br>\n",
    "\n",
    "Einfache Voraussage über features\n",
    "\n",
    "<br>"
   ]
  },
  {
   "cell_type": "code",
   "execution_count": 8,
   "id": "light-pattern",
   "metadata": {},
   "outputs": [
    {
     "data": {
      "text/html": [
       "<div>\n",
       "<style scoped>\n",
       "    .dataframe tbody tr th:only-of-type {\n",
       "        vertical-align: middle;\n",
       "    }\n",
       "\n",
       "    .dataframe tbody tr th {\n",
       "        vertical-align: top;\n",
       "    }\n",
       "\n",
       "    .dataframe thead th {\n",
       "        text-align: right;\n",
       "    }\n",
       "</style>\n",
       "<table border=\"1\" class=\"dataframe\">\n",
       "  <thead>\n",
       "    <tr style=\"text-align: right;\">\n",
       "      <th></th>\n",
       "      <th>7dInzidenz</th>\n",
       "      <th>Ü65%</th>\n",
       "      <th>Ausländer%</th>\n",
       "      <th>Bevölkerungsdichte EW/km²</th>\n",
       "      <th>Temperatur</th>\n",
       "      <th>BIPK</th>\n",
       "      <th>BgastP</th>\n",
       "      <th>BgesundP</th>\n",
       "      <th>afd21</th>\n",
       "      <th>GoogleCorona</th>\n",
       "      <th>...</th>\n",
       "      <th>ess_shpsTW</th>\n",
       "      <th>schoolTW</th>\n",
       "      <th>daycareTW</th>\n",
       "      <th>1to5friends</th>\n",
       "      <th>churchTW</th>\n",
       "      <th>churchGANZ</th>\n",
       "      <th>personen_erst_kumulativ</th>\n",
       "      <th>personen_voll_kumulativ</th>\n",
       "      <th>Gsaison</th>\n",
       "      <th>7dInzidenzFUTURE</th>\n",
       "    </tr>\n",
       "  </thead>\n",
       "  <tbody>\n",
       "    <tr>\n",
       "      <th>1</th>\n",
       "      <td>12.087120</td>\n",
       "      <td>0.176218</td>\n",
       "      <td>0.249539</td>\n",
       "      <td>3067</td>\n",
       "      <td>7.49</td>\n",
       "      <td>88.900769</td>\n",
       "      <td>0.018617</td>\n",
       "      <td>0.074313</td>\n",
       "      <td>12.775</td>\n",
       "      <td>100</td>\n",
       "      <td>...</td>\n",
       "      <td>0</td>\n",
       "      <td>0</td>\n",
       "      <td>0</td>\n",
       "      <td>0</td>\n",
       "      <td>0</td>\n",
       "      <td>0</td>\n",
       "      <td>0.000000</td>\n",
       "      <td>0.000000</td>\n",
       "      <td>1</td>\n",
       "      <td>48.038555</td>\n",
       "    </tr>\n",
       "    <tr>\n",
       "      <th>2</th>\n",
       "      <td>48.038555</td>\n",
       "      <td>0.176218</td>\n",
       "      <td>0.249539</td>\n",
       "      <td>3067</td>\n",
       "      <td>7.49</td>\n",
       "      <td>88.900769</td>\n",
       "      <td>0.018617</td>\n",
       "      <td>0.074313</td>\n",
       "      <td>12.775</td>\n",
       "      <td>74</td>\n",
       "      <td>...</td>\n",
       "      <td>1</td>\n",
       "      <td>1</td>\n",
       "      <td>1</td>\n",
       "      <td>1</td>\n",
       "      <td>0</td>\n",
       "      <td>1</td>\n",
       "      <td>0.000000</td>\n",
       "      <td>0.000000</td>\n",
       "      <td>1</td>\n",
       "      <td>42.614847</td>\n",
       "    </tr>\n",
       "    <tr>\n",
       "      <th>4</th>\n",
       "      <td>36.726250</td>\n",
       "      <td>0.176218</td>\n",
       "      <td>0.249539</td>\n",
       "      <td>3067</td>\n",
       "      <td>13.72</td>\n",
       "      <td>88.900769</td>\n",
       "      <td>0.018617</td>\n",
       "      <td>0.074313</td>\n",
       "      <td>12.775</td>\n",
       "      <td>46</td>\n",
       "      <td>...</td>\n",
       "      <td>1</td>\n",
       "      <td>1</td>\n",
       "      <td>1</td>\n",
       "      <td>1</td>\n",
       "      <td>0</td>\n",
       "      <td>1</td>\n",
       "      <td>0.000000</td>\n",
       "      <td>0.000000</td>\n",
       "      <td>1</td>\n",
       "      <td>23.864314</td>\n",
       "    </tr>\n",
       "    <tr>\n",
       "      <th>5</th>\n",
       "      <td>23.864314</td>\n",
       "      <td>0.176218</td>\n",
       "      <td>0.249539</td>\n",
       "      <td>3067</td>\n",
       "      <td>13.72</td>\n",
       "      <td>88.900769</td>\n",
       "      <td>0.018617</td>\n",
       "      <td>0.074313</td>\n",
       "      <td>12.775</td>\n",
       "      <td>49</td>\n",
       "      <td>...</td>\n",
       "      <td>1</td>\n",
       "      <td>1</td>\n",
       "      <td>1</td>\n",
       "      <td>1</td>\n",
       "      <td>0</td>\n",
       "      <td>1</td>\n",
       "      <td>0.000000</td>\n",
       "      <td>0.000000</td>\n",
       "      <td>1</td>\n",
       "      <td>21.694831</td>\n",
       "    </tr>\n",
       "    <tr>\n",
       "      <th>6</th>\n",
       "      <td>21.694831</td>\n",
       "      <td>0.176218</td>\n",
       "      <td>0.249539</td>\n",
       "      <td>3067</td>\n",
       "      <td>13.72</td>\n",
       "      <td>88.900769</td>\n",
       "      <td>0.018617</td>\n",
       "      <td>0.074313</td>\n",
       "      <td>12.775</td>\n",
       "      <td>38</td>\n",
       "      <td>...</td>\n",
       "      <td>1</td>\n",
       "      <td>1</td>\n",
       "      <td>1</td>\n",
       "      <td>1</td>\n",
       "      <td>0</td>\n",
       "      <td>1</td>\n",
       "      <td>0.000000</td>\n",
       "      <td>0.000000</td>\n",
       "      <td>1</td>\n",
       "      <td>12.706973</td>\n",
       "    </tr>\n",
       "    <tr>\n",
       "      <th>...</th>\n",
       "      <td>...</td>\n",
       "      <td>...</td>\n",
       "      <td>...</td>\n",
       "      <td>...</td>\n",
       "      <td>...</td>\n",
       "      <td>...</td>\n",
       "      <td>...</td>\n",
       "      <td>...</td>\n",
       "      <td>...</td>\n",
       "      <td>...</td>\n",
       "      <td>...</td>\n",
       "      <td>...</td>\n",
       "      <td>...</td>\n",
       "      <td>...</td>\n",
       "      <td>...</td>\n",
       "      <td>...</td>\n",
       "      <td>...</td>\n",
       "      <td>...</td>\n",
       "      <td>...</td>\n",
       "      <td>...</td>\n",
       "      <td>...</td>\n",
       "    </tr>\n",
       "    <tr>\n",
       "      <th>2293</th>\n",
       "      <td>70.481243</td>\n",
       "      <td>0.212952</td>\n",
       "      <td>0.113027</td>\n",
       "      <td>109</td>\n",
       "      <td>5.21</td>\n",
       "      <td>37.953770</td>\n",
       "      <td>0.008230</td>\n",
       "      <td>0.055817</td>\n",
       "      <td>6.773</td>\n",
       "      <td>33</td>\n",
       "      <td>...</td>\n",
       "      <td>0</td>\n",
       "      <td>1</td>\n",
       "      <td>1</td>\n",
       "      <td>1</td>\n",
       "      <td>1</td>\n",
       "      <td>0</td>\n",
       "      <td>0.027283</td>\n",
       "      <td>0.011987</td>\n",
       "      <td>1</td>\n",
       "      <td>33.345964</td>\n",
       "    </tr>\n",
       "    <tr>\n",
       "      <th>2295</th>\n",
       "      <td>30.314513</td>\n",
       "      <td>0.212952</td>\n",
       "      <td>0.113027</td>\n",
       "      <td>109</td>\n",
       "      <td>5.21</td>\n",
       "      <td>37.953770</td>\n",
       "      <td>0.008230</td>\n",
       "      <td>0.055817</td>\n",
       "      <td>6.773</td>\n",
       "      <td>29</td>\n",
       "      <td>...</td>\n",
       "      <td>0</td>\n",
       "      <td>1</td>\n",
       "      <td>1</td>\n",
       "      <td>1</td>\n",
       "      <td>1</td>\n",
       "      <td>0</td>\n",
       "      <td>0.038975</td>\n",
       "      <td>0.020910</td>\n",
       "      <td>1</td>\n",
       "      <td>60.629026</td>\n",
       "    </tr>\n",
       "    <tr>\n",
       "      <th>2296</th>\n",
       "      <td>60.629026</td>\n",
       "      <td>0.212952</td>\n",
       "      <td>0.113027</td>\n",
       "      <td>109</td>\n",
       "      <td>5.21</td>\n",
       "      <td>37.953770</td>\n",
       "      <td>0.008230</td>\n",
       "      <td>0.055817</td>\n",
       "      <td>6.773</td>\n",
       "      <td>38</td>\n",
       "      <td>...</td>\n",
       "      <td>0</td>\n",
       "      <td>1</td>\n",
       "      <td>1</td>\n",
       "      <td>1</td>\n",
       "      <td>1</td>\n",
       "      <td>0</td>\n",
       "      <td>0.048003</td>\n",
       "      <td>0.025293</td>\n",
       "      <td>1</td>\n",
       "      <td>81.849185</td>\n",
       "    </tr>\n",
       "    <tr>\n",
       "      <th>2298</th>\n",
       "      <td>122.015915</td>\n",
       "      <td>0.212952</td>\n",
       "      <td>0.113027</td>\n",
       "      <td>109</td>\n",
       "      <td>6.73</td>\n",
       "      <td>37.953770</td>\n",
       "      <td>0.008230</td>\n",
       "      <td>0.055817</td>\n",
       "      <td>6.773</td>\n",
       "      <td>36</td>\n",
       "      <td>...</td>\n",
       "      <td>0</td>\n",
       "      <td>1</td>\n",
       "      <td>1</td>\n",
       "      <td>1</td>\n",
       "      <td>1</td>\n",
       "      <td>0</td>\n",
       "      <td>0.077312</td>\n",
       "      <td>0.034345</td>\n",
       "      <td>1</td>\n",
       "      <td>162.182645</td>\n",
       "    </tr>\n",
       "    <tr>\n",
       "      <th>2299</th>\n",
       "      <td>162.182645</td>\n",
       "      <td>0.212952</td>\n",
       "      <td>0.113027</td>\n",
       "      <td>109</td>\n",
       "      <td>6.73</td>\n",
       "      <td>37.953770</td>\n",
       "      <td>0.008230</td>\n",
       "      <td>0.055817</td>\n",
       "      <td>6.773</td>\n",
       "      <td>36</td>\n",
       "      <td>...</td>\n",
       "      <td>0</td>\n",
       "      <td>0</td>\n",
       "      <td>0</td>\n",
       "      <td>1</td>\n",
       "      <td>1</td>\n",
       "      <td>0</td>\n",
       "      <td>0.089212</td>\n",
       "      <td>0.039729</td>\n",
       "      <td>1</td>\n",
       "      <td>247.821144</td>\n",
       "    </tr>\n",
       "  </tbody>\n",
       "</table>\n",
       "<p>1840 rows × 33 columns</p>\n",
       "</div>"
      ],
      "text/plain": [
       "      7dInzidenz      Ü65%  Ausländer%  Bevölkerungsdichte EW/km²  Temperatur  \\\n",
       "1      12.087120  0.176218    0.249539                       3067        7.49   \n",
       "2      48.038555  0.176218    0.249539                       3067        7.49   \n",
       "4      36.726250  0.176218    0.249539                       3067       13.72   \n",
       "5      23.864314  0.176218    0.249539                       3067       13.72   \n",
       "6      21.694831  0.176218    0.249539                       3067       13.72   \n",
       "...          ...       ...         ...                        ...         ...   \n",
       "2293   70.481243  0.212952    0.113027                        109        5.21   \n",
       "2295   30.314513  0.212952    0.113027                        109        5.21   \n",
       "2296   60.629026  0.212952    0.113027                        109        5.21   \n",
       "2298  122.015915  0.212952    0.113027                        109        6.73   \n",
       "2299  162.182645  0.212952    0.113027                        109        6.73   \n",
       "\n",
       "           BIPK    BgastP  BgesundP   afd21  GoogleCorona  ...  ess_shpsTW  \\\n",
       "1     88.900769  0.018617  0.074313  12.775           100  ...           0   \n",
       "2     88.900769  0.018617  0.074313  12.775            74  ...           1   \n",
       "4     88.900769  0.018617  0.074313  12.775            46  ...           1   \n",
       "5     88.900769  0.018617  0.074313  12.775            49  ...           1   \n",
       "6     88.900769  0.018617  0.074313  12.775            38  ...           1   \n",
       "...         ...       ...       ...     ...           ...  ...         ...   \n",
       "2293  37.953770  0.008230  0.055817   6.773            33  ...           0   \n",
       "2295  37.953770  0.008230  0.055817   6.773            29  ...           0   \n",
       "2296  37.953770  0.008230  0.055817   6.773            38  ...           0   \n",
       "2298  37.953770  0.008230  0.055817   6.773            36  ...           0   \n",
       "2299  37.953770  0.008230  0.055817   6.773            36  ...           0   \n",
       "\n",
       "      schoolTW  daycareTW  1to5friends  churchTW  churchGANZ  \\\n",
       "1            0          0            0         0           0   \n",
       "2            1          1            1         0           1   \n",
       "4            1          1            1         0           1   \n",
       "5            1          1            1         0           1   \n",
       "6            1          1            1         0           1   \n",
       "...        ...        ...          ...       ...         ...   \n",
       "2293         1          1            1         1           0   \n",
       "2295         1          1            1         1           0   \n",
       "2296         1          1            1         1           0   \n",
       "2298         1          1            1         1           0   \n",
       "2299         0          0            1         1           0   \n",
       "\n",
       "      personen_erst_kumulativ  personen_voll_kumulativ  Gsaison  \\\n",
       "1                    0.000000                 0.000000        1   \n",
       "2                    0.000000                 0.000000        1   \n",
       "4                    0.000000                 0.000000        1   \n",
       "5                    0.000000                 0.000000        1   \n",
       "6                    0.000000                 0.000000        1   \n",
       "...                       ...                      ...      ...   \n",
       "2293                 0.027283                 0.011987        1   \n",
       "2295                 0.038975                 0.020910        1   \n",
       "2296                 0.048003                 0.025293        1   \n",
       "2298                 0.077312                 0.034345        1   \n",
       "2299                 0.089212                 0.039729        1   \n",
       "\n",
       "      7dInzidenzFUTURE  \n",
       "1            48.038555  \n",
       "2            42.614847  \n",
       "4            23.864314  \n",
       "5            21.694831  \n",
       "6            12.706973  \n",
       "...                ...  \n",
       "2293         33.345964  \n",
       "2295         60.629026  \n",
       "2296         81.849185  \n",
       "2298        162.182645  \n",
       "2299        247.821144  \n",
       "\n",
       "[1840 rows x 33 columns]"
      ]
     },
     "execution_count": 8,
     "metadata": {},
     "output_type": "execute_result"
    }
   ],
   "source": [
    "data_cutF = data_all[[\"IdLandkreis\",\"Meldedatum\",\"AnzahlFall\",\"Ü65%\",\"Ausländer%\",\"Bevölkerungsdichte EW/km²\",\"Temperatur\",\"BIPK\",\"Bgast\",\"Bgesund\",\\\n",
    "                     \"afd21\",\"GoogleCorona\",\"GoogleUrlaub\",\"AnzahlFall>59\", \"AnzahlGenesenLandkreis%\",\\\n",
    "                     \"leavehome\",\"dist\",\"trvl\",\"gastr\",\"mskÖPVN\",\"mskÖFF\",\"shppngTW\",\"shppngGANZ\",\"hcutTW\",\"hcutGANZ\",\"ess_shpsTW\",\\\n",
    "                     \"schoolTW\",\"daycareTW\",\"1to5friends\",\"churchTW\",\"churchGANZ\",\"personen_erst_kumulativ\",\"personen_voll_kumulativ\",\\\n",
    "                     \"Gsaison\", \"AnzahlFallFUTURE\"]]\n",
    "\n",
    "# Datensatz für Inzidenz-Vorhersagen\n",
    "data_cutI = data_all[[\"IdLandkreis\",\"Meldedatum\",\"7dInzidenz\",\"Ü65%\",\"Ausländer%\",\"Bevölkerungsdichte EW/km²\",\"Temperatur\",\"BIPK\",\"BgastP\",\"BgesundP\",\\\n",
    "                     \"afd21\",\"GoogleCorona\",\"GoogleUrlaub\",\"7dInzidenzFall>59\", \"AnzahlGenesenLandkreis%\",\\\n",
    "                     \"leavehome\",\"dist\",\"trvl\",\"gastr\",\"mskÖPVN\",\"mskÖFF\",\"shppngTW\",\"shppngGANZ\",\"hcutTW\",\"hcutGANZ\",\"ess_shpsTW\",\\\n",
    "                     \"schoolTW\",\"daycareTW\",\"1to5friends\",\"churchTW\",\"churchGANZ\",\"personen_erst_kumulativ\",\"personen_voll_kumulativ\",\\\n",
    "                     \"Gsaison\", \"7dInzidenzFUTURE\"]]\n",
    "\n",
    "train_dataset = data_cutI.groupby(\"IdLandkreis\").sample(frac=0.8, random_state=0)\\\n",
    "                            .sort_values(['IdLandkreis', 'Meldedatum'])\n",
    "test_dataset = data_cutI.drop(train_dataset.index)\n",
    "\n",
    "train_dataset = train_dataset.drop(['IdLandkreis', 'Meldedatum'], axis=1)\n",
    "test_dataset = test_dataset.drop(['IdLandkreis', 'Meldedatum'], axis=1)\n",
    "\n",
    "#test_dataset\n",
    "train_dataset"
   ]
  },
  {
   "cell_type": "code",
   "execution_count": 9,
   "id": "comparable-reform",
   "metadata": {},
   "outputs": [
    {
     "data": {
      "text/plain": [
       "1        48.038555\n",
       "2        42.614847\n",
       "4        23.864314\n",
       "5        21.694831\n",
       "6        12.706973\n",
       "           ...    \n",
       "2293     33.345964\n",
       "2295     60.629026\n",
       "2296     81.849185\n",
       "2298    162.182645\n",
       "2299    247.821144\n",
       "Name: 7dInzidenzFUTURE, Length: 1840, dtype: float64"
      ]
     },
     "execution_count": 9,
     "metadata": {},
     "output_type": "execute_result"
    }
   ],
   "source": [
    "train_features = train_dataset.copy()\n",
    "test_features = test_dataset.copy()\n",
    "\n",
    "train_labels = train_features.pop('7dInzidenzFUTURE')\n",
    "test_labels = test_features.pop('7dInzidenzFUTURE')\n",
    "\n",
    "#train_features.head\n",
    "train_labels"
   ]
  },
  {
   "cell_type": "code",
   "execution_count": 10,
   "id": "synthetic-malpractice",
   "metadata": {
    "scrolled": true
   },
   "outputs": [
    {
     "name": "stdout",
     "output_type": "stream",
     "text": [
      "[ 58.652   0.208   0.158 561.523  11.496  44.448   0.012   0.057  10.957\n",
      "  35.33   42.933  14.036   0.01    0.173   0.945   0.966   0.588   0.22\n",
      "   0.632   0.174   0.249   0.327   0.209   0.093   0.621   0.345   0.966\n",
      "   0.771   0.195   0.008   0.004   0.629]\n"
     ]
    }
   ],
   "source": [
    "normalizer = preprocessing.Normalization()\n",
    "normalizer.adapt(np.array(train_features))\n",
    "print(normalizer.mean.numpy())"
   ]
  },
  {
   "cell_type": "code",
   "execution_count": 11,
   "id": "empirical-albany",
   "metadata": {},
   "outputs": [
    {
     "name": "stdout",
     "output_type": "stream",
     "text": [
      "First example: [[  12.09    0.18    0.25 3067.      7.49   88.9     0.02    0.07   12.78\n",
      "   100.     42.      0.46    0.      0.      0.      0.      0.      0.\n",
      "     0.      0.      0.      0.      0.      0.      0.      0.      0.\n",
      "     0.      0.      0.      0.      1.  ]]\n",
      "\n",
      "Normalized: [[-0.72 -1.79  2.2   3.97 -0.64  3.44  1.13  0.67  0.33  4.29 -0.04 -0.76\n",
      "  -0.99 -0.46 -4.15 -5.36 -1.19 -0.53 -1.31 -0.46 -0.58 -0.7  -0.51 -0.32\n",
      "  -1.28 -0.73 -5.36 -1.84 -0.49 -0.43 -0.39  0.77]]\n"
     ]
    }
   ],
   "source": [
    "first = np.array(train_features[:1])\n",
    "\n",
    "with np.printoptions(precision=2, suppress=True):\n",
    "  print('First example:', first)\n",
    "  print()\n",
    "  print('Normalized:', normalizer(first).numpy())"
   ]
  },
  {
   "cell_type": "code",
   "execution_count": 12,
   "id": "enabling-surgery",
   "metadata": {},
   "outputs": [],
   "source": [
    "# train_featuresPlot = train_features.melt(var_name='Column', value_name='Not Normalized')\n",
    "# plt.figure(figsize=(12, 6))\n",
    "# ax = sns.violinplot(x='Column', y='Not Normalized', data=train_featuresPlot)\n",
    "# _ = ax.set_xticklabels(train_featuresPlot.keys(), rotation=90)"
   ]
  },
  {
   "cell_type": "code",
   "execution_count": null,
   "id": "egyptian-fourth",
   "metadata": {},
   "outputs": [],
   "source": []
  },
  {
   "cell_type": "code",
   "execution_count": null,
   "id": "rural-boating",
   "metadata": {},
   "outputs": [],
   "source": []
  },
  {
   "cell_type": "code",
   "execution_count": null,
   "id": "informational-visit",
   "metadata": {},
   "outputs": [],
   "source": []
  },
  {
   "cell_type": "markdown",
   "id": "unexpected-scout",
   "metadata": {},
   "source": [
    "## Einfaches sequentielles Netz -> 7TageInzidenz"
   ]
  },
  {
   "cell_type": "code",
   "execution_count": 13,
   "id": "celtic-township",
   "metadata": {},
   "outputs": [],
   "source": [
    "linear_model = tf.keras.Sequential([\n",
    "    #normalizer,\n",
    "    layers.Dense(units=1)\n",
    "])"
   ]
  },
  {
   "cell_type": "code",
   "execution_count": 14,
   "id": "renewable-executive",
   "metadata": {},
   "outputs": [
    {
     "data": {
      "text/plain": [
       "array([[499.205],\n",
       "       [514.229],\n",
       "       [512.46 ],\n",
       "       ...,\n",
       "       [  3.804],\n",
       "       [ 14.093],\n",
       "       [ 22.546]], dtype=float32)"
      ]
     },
     "execution_count": 14,
     "metadata": {},
     "output_type": "execute_result"
    }
   ],
   "source": [
    "linear_model.predict(train_features)"
   ]
  },
  {
   "cell_type": "code",
   "execution_count": 15,
   "id": "worth-cyprus",
   "metadata": {
    "scrolled": true
   },
   "outputs": [
    {
     "data": {
      "text/plain": [
       "<tf.Variable 'dense/kernel:0' shape=(32, 1) dtype=float32, numpy=\n",
       "array([[ 1.   ],\n",
       "       [-0.075],\n",
       "       [-0.087],\n",
       "       [ 0.179],\n",
       "       [-0.127],\n",
       "       [-0.288],\n",
       "       [ 0.21 ],\n",
       "       [ 0.089],\n",
       "       [ 0.047],\n",
       "       [-0.087],\n",
       "       [-0.426],\n",
       "       [-0.361],\n",
       "       [-0.082],\n",
       "       [ 0.114],\n",
       "       [-0.287],\n",
       "       [-0.127],\n",
       "       [ 0.409],\n",
       "       [ 0.02 ],\n",
       "       [-0.041],\n",
       "       [ 0.341],\n",
       "       [-0.307],\n",
       "       [-0.003],\n",
       "       [ 0.366],\n",
       "       [-0.263],\n",
       "       [-0.061],\n",
       "       [-0.097],\n",
       "       [ 0.266],\n",
       "       [ 0.129],\n",
       "       [-0.108],\n",
       "       [-0.319],\n",
       "       [-0.115],\n",
       "       [-0.191]], dtype=float32)>"
      ]
     },
     "execution_count": 15,
     "metadata": {},
     "output_type": "execute_result"
    }
   ],
   "source": [
    "keras.backend.set_value(linear_model.layers[0].weights[0][0], [1.0])\n",
    "linear_model.layers[0].kernel"
   ]
  },
  {
   "cell_type": "code",
   "execution_count": 16,
   "id": "viral-childhood",
   "metadata": {},
   "outputs": [],
   "source": [
    "linear_model.compile(\n",
    "    optimizer=tf.optimizers.Adam(learning_rate=0.05),\n",
    "    loss='mean_absolute_error')"
   ]
  },
  {
   "cell_type": "markdown",
   "id": "average-omega",
   "metadata": {},
   "source": [
    "Mean Squared Error (MSE) and Mean Absolute Error (MAE) are common loss functions used for regression problems. Mean Absolute Error is less sensitive to outliers. Different loss functions are used for classification problems."
   ]
  },
  {
   "cell_type": "code",
   "execution_count": 17,
   "id": "amber-extreme",
   "metadata": {},
   "outputs": [
    {
     "name": "stdout",
     "output_type": "stream",
     "text": [
      "Wall time: 25.1 s\n"
     ]
    }
   ],
   "source": [
    "%%time\n",
    "history = linear_model.fit(\n",
    "    train_features, train_labels, \n",
    "    epochs=200,\n",
    "    #batch_size=500,\n",
    "    # suppress logging\n",
    "    verbose=0,\n",
    "    # Calculate validation results on 20% of the training data\n",
    "    validation_split = 0.2)"
   ]
  },
  {
   "cell_type": "code",
   "execution_count": 18,
   "id": "robust-fiction",
   "metadata": {},
   "outputs": [
    {
     "data": {
      "image/png": "[encoded data removed]",
      "text/plain": [
       "<Figure size 432x288 with 1 Axes>"
      ]
     },
     "metadata": {
      "needs_background": "light"
     },
     "output_type": "display_data"
    }
   ],
   "source": [
    "def plot_loss(history):\n",
    "  plt.plot(history.history['loss'], label='loss')\n",
    "  plt.plot(history.history['val_loss'], label='val_loss')\n",
    "  plt.ylim([0, 30])\n",
    "  plt.xlabel('Epoch')\n",
    "  plt.ylabel('Error Inzidenz')\n",
    "  plt.legend()\n",
    "  plt.grid(True)\n",
    "\n",
    "plot_loss(history)"
   ]
  },
  {
   "cell_type": "code",
   "execution_count": 19,
   "id": "directed-situation",
   "metadata": {
    "scrolled": true
   },
   "outputs": [
    {
     "data": {
      "text/plain": [
       "<tf.Variable 'dense/kernel:0' shape=(32, 1) dtype=float32, numpy=\n",
       "array([[  1.014],\n",
       "       [ -9.105],\n",
       "       [ -4.178],\n",
       "       [ -0.011],\n",
       "       [ -1.556],\n",
       "       [ -0.05 ],\n",
       "       [-19.218],\n",
       "       [-15.534],\n",
       "       [ -0.018],\n",
       "       [  0.439],\n",
       "       [  0.074],\n",
       "       [ -0.481],\n",
       "       [  0.298],\n",
       "       [-16.956],\n",
       "       [  1.374],\n",
       "       [  6.807],\n",
       "       [ -8.36 ],\n",
       "       [  5.754],\n",
       "       [  9.51 ],\n",
       "       [  2.1  ],\n",
       "       [ -7.823],\n",
       "       [  5.921],\n",
       "       [  0.089],\n",
       "       [  9.952],\n",
       "       [  1.211],\n",
       "       [ -6.225],\n",
       "       [  7.2  ],\n",
       "       [  7.731],\n",
       "       [  1.869],\n",
       "       [ 25.945],\n",
       "       [ 31.808],\n",
       "       [  6.207]], dtype=float32)>"
      ]
     },
     "execution_count": 19,
     "metadata": {},
     "output_type": "execute_result"
    }
   ],
   "source": [
    "linear_model.layers[0].kernel"
   ]
  },
  {
   "cell_type": "code",
   "execution_count": 20,
   "id": "surprising-sellers",
   "metadata": {},
   "outputs": [
    {
     "data": {
      "text/plain": [
       "{'linear_model': 15.117589950561523}"
      ]
     },
     "execution_count": 20,
     "metadata": {},
     "output_type": "execute_result"
    }
   ],
   "source": [
    "test_results = {}\n",
    "\n",
    "test_results['linear_model'] = linear_model.evaluate(\n",
    "                                    test_features, test_labels, verbose=0)\n",
    "test_results"
   ]
  },
  {
   "cell_type": "code",
   "execution_count": 21,
   "id": "tough-nursing",
   "metadata": {},
   "outputs": [
    {
     "name": "stdout",
     "output_type": "stream",
     "text": [
      "Wall time: 24.8 s\n"
     ]
    },
    {
     "data": {
      "image/png": "[encoded data removed]",
      "text/plain": [
       "<Figure size 432x288 with 1 Axes>"
      ]
     },
     "metadata": {
      "needs_background": "light"
     },
     "output_type": "display_data"
    }
   ],
   "source": [
    "%%time\n",
    "\n",
    "linear_model_normalized = tf.keras.Sequential([\n",
    "    normalizer,\n",
    "    layers.Dense(units=1)\n",
    "])\n",
    "\n",
    "linear_model_normalized.predict(train_features)\n",
    "\n",
    "keras.backend.set_value(linear_model_normalized.layers[1].weights[0][0], [1.0])\n",
    "\n",
    "linear_model_normalized.compile(\n",
    "    optimizer=tf.optimizers.Adam(learning_rate=0.05),\n",
    "    loss='mean_absolute_error')\n",
    "\n",
    "history_normalized = linear_model_normalized.fit(\n",
    "    train_features, train_labels, \n",
    "    epochs=200,\n",
    "    #batch_size=500,\n",
    "    # suppress logging\n",
    "    verbose=0,\n",
    "    # Calculate validation results on 20% of the training data\n",
    "    validation_split = 0.2)\n",
    "\n",
    "plot_loss(history_normalized)"
   ]
  },
  {
   "cell_type": "code",
   "execution_count": 22,
   "id": "everyday-knight",
   "metadata": {},
   "outputs": [
    {
     "data": {
      "text/plain": [
       "{'linear_model': 15.117589950561523,\n",
       " 'linear_model_normalized': 12.773072242736816}"
      ]
     },
     "execution_count": 22,
     "metadata": {},
     "output_type": "execute_result"
    }
   ],
   "source": [
    "test_results['linear_model_normalized'] = linear_model_normalized.evaluate(\n",
    "                                    test_features, test_labels, verbose=0)\n",
    "test_results"
   ]
  },
  {
   "cell_type": "markdown",
   "id": "advance-leeds",
   "metadata": {},
   "source": [
    "## DNN Modell -> 7 Tage Inzidenz"
   ]
  },
  {
   "cell_type": "code",
   "execution_count": 23,
   "id": "united-baptist",
   "metadata": {},
   "outputs": [],
   "source": [
    "def build_and_compile_model(norm):\n",
    "  model = keras.Sequential([\n",
    "      norm,\n",
    "      layers.Dense(64, activation='relu'),\n",
    "      layers.Dense(64, activation='relu'),\n",
    "      layers.Dense(1)\n",
    "  ])\n",
    "\n",
    "  model.compile(loss='mean_absolute_error',\n",
    "                optimizer=tf.keras.optimizers.Adam(0.001))\n",
    "  return model"
   ]
  },
  {
   "cell_type": "code",
   "execution_count": 24,
   "id": "still-morrison",
   "metadata": {
    "scrolled": false
   },
   "outputs": [
    {
     "name": "stdout",
     "output_type": "stream",
     "text": [
      "Model: \"sequential_2\"\n",
      "_________________________________________________________________\n",
      "Layer (type)                 Output Shape              Param #   \n",
      "=================================================================\n",
      "normalization (Normalization (None, 32)                65        \n",
      "_________________________________________________________________\n",
      "dense_2 (Dense)              (None, 64)                2112      \n",
      "_________________________________________________________________\n",
      "dense_3 (Dense)              (None, 64)                4160      \n",
      "_________________________________________________________________\n",
      "dense_4 (Dense)              (None, 1)                 65        \n",
      "=================================================================\n",
      "Total params: 6,402\n",
      "Trainable params: 6,337\n",
      "Non-trainable params: 65\n",
      "_________________________________________________________________\n"
     ]
    }
   ],
   "source": [
    "dnn_model = build_and_compile_model(normalizer)\n",
    "dnn_model.summary()"
   ]
  },
  {
   "cell_type": "code",
   "execution_count": 25,
   "id": "saving-clerk",
   "metadata": {},
   "outputs": [
    {
     "name": "stdout",
     "output_type": "stream",
     "text": [
      "Wall time: 13.2 s\n"
     ]
    }
   ],
   "source": [
    "%%time\n",
    "history = dnn_model.fit(\n",
    "    train_features, train_labels,\n",
    "    validation_split=0.2,\n",
    "    verbose=0, epochs=100)"
   ]
  },
  {
   "cell_type": "code",
   "execution_count": 26,
   "id": "primary-brown",
   "metadata": {},
   "outputs": [
    {
     "data": {
      "image/png": "[encoded data removed]",
      "text/plain": [
       "<Figure size 432x288 with 1 Axes>"
      ]
     },
     "metadata": {
      "needs_background": "light"
     },
     "output_type": "display_data"
    }
   ],
   "source": [
    "plot_loss(history)"
   ]
  },
  {
   "cell_type": "code",
   "execution_count": 27,
   "id": "enormous-cement",
   "metadata": {},
   "outputs": [],
   "source": [
    "test_results['dnn_model'] = dnn_model.evaluate(test_features, test_labels, verbose=0)"
   ]
  },
  {
   "cell_type": "code",
   "execution_count": 28,
   "id": "executive-blogger",
   "metadata": {
    "scrolled": false
   },
   "outputs": [
    {
     "data": {
      "text/html": [
       "<div>\n",
       "<style scoped>\n",
       "    .dataframe tbody tr th:only-of-type {\n",
       "        vertical-align: middle;\n",
       "    }\n",
       "\n",
       "    .dataframe tbody tr th {\n",
       "        vertical-align: top;\n",
       "    }\n",
       "\n",
       "    .dataframe thead th {\n",
       "        text-align: right;\n",
       "    }\n",
       "</style>\n",
       "<table border=\"1\" class=\"dataframe\">\n",
       "  <thead>\n",
       "    <tr style=\"text-align: right;\">\n",
       "      <th></th>\n",
       "      <th>Mean absolute error [7TageInzidenzFUTURE]</th>\n",
       "    </tr>\n",
       "  </thead>\n",
       "  <tbody>\n",
       "    <tr>\n",
       "      <th>linear_model</th>\n",
       "      <td>15.117590</td>\n",
       "    </tr>\n",
       "    <tr>\n",
       "      <th>linear_model_normalized</th>\n",
       "      <td>12.773072</td>\n",
       "    </tr>\n",
       "    <tr>\n",
       "      <th>dnn_model</th>\n",
       "      <td>11.564630</td>\n",
       "    </tr>\n",
       "  </tbody>\n",
       "</table>\n",
       "</div>"
      ],
      "text/plain": [
       "                         Mean absolute error [7TageInzidenzFUTURE]\n",
       "linear_model                                             15.117590\n",
       "linear_model_normalized                                  12.773072\n",
       "dnn_model                                                11.564630"
      ]
     },
     "execution_count": 28,
     "metadata": {},
     "output_type": "execute_result"
    }
   ],
   "source": [
    "pd.DataFrame(test_results, index=['Mean absolute error [7TageInzidenzFUTURE]']).T"
   ]
  },
  {
   "cell_type": "code",
   "execution_count": 29,
   "id": "rapid-liability",
   "metadata": {},
   "outputs": [
    {
     "data": {
      "image/png": "[encoded data removed]",
      "text/plain": [
       "<Figure size 432x288 with 1 Axes>"
      ]
     },
     "metadata": {
      "needs_background": "light"
     },
     "output_type": "display_data"
    }
   ],
   "source": [
    "test_predictions = dnn_model.predict(test_features).flatten()\n",
    "\n",
    "a = plt.axes(aspect='equal')\n",
    "plt.scatter(test_labels, test_predictions)\n",
    "plt.xlabel('True Values [7TageInzidenz]')\n",
    "plt.ylabel('Predictions [7TageInzidenz]')\n",
    "lims = [0, 50]\n",
    "plt.xlim(lims)\n",
    "plt.ylim(lims)\n",
    "_ = plt.plot(lims, lims)"
   ]
  },
  {
   "cell_type": "code",
   "execution_count": 30,
   "id": "minor-kansas",
   "metadata": {},
   "outputs": [
    {
     "data": {
      "image/png": "[encoded data removed]",
      "text/plain": [
       "<Figure size 432x288 with 1 Axes>"
      ]
     },
     "metadata": {
      "needs_background": "light"
     },
     "output_type": "display_data"
    }
   ],
   "source": [
    "error = test_predictions - test_labels\n",
    "plt.hist(error, bins=25)\n",
    "plt.xlabel('Prediction Error [7TageInzidenz]')\n",
    "_ = plt.ylabel('Count')"
   ]
  },
  {
   "cell_type": "markdown",
   "id": "transparent-newton",
   "metadata": {},
   "source": [
    "## DNN -> Fallzahlen"
   ]
  },
  {
   "cell_type": "code",
   "execution_count": 31,
   "id": "together-guess",
   "metadata": {},
   "outputs": [],
   "source": [
    "train_datasetF = data_cutF.groupby(\"IdLandkreis\").sample(frac=0.8, random_state=0)\\\n",
    "                            .sort_values(['IdLandkreis', 'Meldedatum'])\n",
    "test_datasetF = data_cutF.drop(train_dataset.index)\n",
    "\n",
    "train_datasetF = train_datasetF.drop(['IdLandkreis', 'Meldedatum'], axis=1)\n",
    "test_datasetF = test_datasetF.drop(['IdLandkreis', 'Meldedatum'], axis=1)"
   ]
  },
  {
   "cell_type": "code",
   "execution_count": 32,
   "id": "collaborative-courage",
   "metadata": {},
   "outputs": [
    {
     "data": {
      "text/plain": [
       "1       310\n",
       "2       275\n",
       "4       154\n",
       "5       140\n",
       "6        82\n",
       "       ... \n",
       "2293     44\n",
       "2295     80\n",
       "2296    108\n",
       "2298    214\n",
       "2299    327\n",
       "Name: AnzahlFallFUTURE, Length: 1840, dtype: int64"
      ]
     },
     "execution_count": 32,
     "metadata": {},
     "output_type": "execute_result"
    }
   ],
   "source": [
    "train_featuresF = train_datasetF.copy()\n",
    "test_featuresF = test_datasetF.copy()\n",
    "\n",
    "train_labelsF = train_featuresF.pop('AnzahlFallFUTURE')\n",
    "test_labelsF = test_featuresF.pop('AnzahlFallFUTURE')\n",
    "\n",
    "#train_features.head\n",
    "train_labelsF"
   ]
  },
  {
   "cell_type": "code",
   "execution_count": 33,
   "id": "innocent-scenario",
   "metadata": {},
   "outputs": [
    {
     "name": "stdout",
     "output_type": "stream",
     "text": [
      "[  147.368     0.208     0.158   561.523    11.496    44.448  2932.511\n",
      " 14088.516    10.957    35.33     42.933    34.735     0.01      0.173\n",
      "     0.945     0.966     0.588     0.22      0.632     0.174     0.249\n",
      "     0.327     0.209     0.093     0.621     0.345     0.966     0.771\n",
      "     0.195     0.008     0.004     0.629]\n"
     ]
    }
   ],
   "source": [
    "normalizerF = preprocessing.Normalization()\n",
    "normalizerF.adapt(np.array(train_featuresF))\n",
    "print(normalizerF.mean.numpy())"
   ]
  },
  {
   "cell_type": "code",
   "execution_count": 34,
   "id": "certain-sensitivity",
   "metadata": {},
   "outputs": [
    {
     "name": "stdout",
     "output_type": "stream",
     "text": [
      "First example: [[   78.       0.18     0.25  3067.       7.49    88.9  12014.   47955.\n",
      "     12.78   100.      42.       3.       0.       0.       0.       0.\n",
      "      0.       0.       0.       0.       0.       0.       0.       0.\n",
      "      0.       0.       0.       0.       0.       0.       0.       1.  ]]\n",
      "\n",
      "Normalized: [[-0.36 -1.79  2.2   3.97 -0.64  3.44  4.47  3.96  0.33  4.29 -0.04 -0.64\n",
      "  -0.99 -0.46 -4.15 -5.36 -1.19 -0.53 -1.31 -0.46 -0.58 -0.7  -0.51 -0.32\n",
      "  -1.28 -0.73 -5.36 -1.84 -0.49 -0.43 -0.39  0.77]]\n"
     ]
    }
   ],
   "source": [
    "firstF = np.array(train_featuresF[:1])\n",
    "\n",
    "with np.printoptions(precision=2, suppress=True):\n",
    "  print('First example:', firstF)\n",
    "  print()\n",
    "  print('Normalized:', normalizerF(firstF).numpy())"
   ]
  },
  {
   "cell_type": "code",
   "execution_count": 35,
   "id": "egyptian-porcelain",
   "metadata": {},
   "outputs": [
    {
     "name": "stdout",
     "output_type": "stream",
     "text": [
      "Model: \"sequential_3\"\n",
      "_________________________________________________________________\n",
      "Layer (type)                 Output Shape              Param #   \n",
      "=================================================================\n",
      "normalization_1 (Normalizati (None, 32)                65        \n",
      "_________________________________________________________________\n",
      "dense_5 (Dense)              (None, 64)                2112      \n",
      "_________________________________________________________________\n",
      "dense_6 (Dense)              (None, 64)                4160      \n",
      "_________________________________________________________________\n",
      "dense_7 (Dense)              (None, 1)                 65        \n",
      "=================================================================\n",
      "Total params: 6,402\n",
      "Trainable params: 6,337\n",
      "Non-trainable params: 65\n",
      "_________________________________________________________________\n"
     ]
    }
   ],
   "source": [
    "dnn_modelF = build_and_compile_model(normalizerF)\n",
    "dnn_modelF.summary()"
   ]
  },
  {
   "cell_type": "code",
   "execution_count": 36,
   "id": "advised-wichita",
   "metadata": {},
   "outputs": [
    {
     "name": "stdout",
     "output_type": "stream",
     "text": [
      "Wall time: 35.5 s\n"
     ]
    }
   ],
   "source": [
    "%%time\n",
    "historyF = dnn_modelF.fit(\n",
    "    train_featuresF, train_labelsF,\n",
    "    validation_split=0.2,\n",
    "    verbose=0, epochs=250)"
   ]
  },
  {
   "cell_type": "code",
   "execution_count": 37,
   "id": "introductory-people",
   "metadata": {
    "scrolled": true
   },
   "outputs": [
    {
     "data": {
      "image/png": "[encoded data removed]",
      "text/plain": [
       "<Figure size 432x288 with 1 Axes>"
      ]
     },
     "metadata": {
      "needs_background": "light"
     },
     "output_type": "display_data"
    }
   ],
   "source": [
    "plot_loss(historyF)"
   ]
  },
  {
   "cell_type": "code",
   "execution_count": 38,
   "id": "introductory-trash",
   "metadata": {},
   "outputs": [
    {
     "name": "stdout",
     "output_type": "stream",
     "text": [
      "{'dnn_modelF': 28.029277801513672}\n"
     ]
    }
   ],
   "source": [
    "test_resultsF = {}\n",
    "\n",
    "test_resultsF['dnn_modelF'] = dnn_modelF.evaluate(test_featuresF, test_labelsF, verbose=0)\n",
    "print(test_resultsF)"
   ]
  },
  {
   "cell_type": "code",
   "execution_count": null,
   "id": "average-killer",
   "metadata": {},
   "outputs": [],
   "source": []
  },
  {
   "cell_type": "markdown",
   "id": "random-underwear",
   "metadata": {},
   "source": [
    "## DNN Modell -> 7 Tage Inzidenz"
   ]
  },
  {
   "cell_type": "code",
   "execution_count": 39,
   "id": "extra-equilibrium",
   "metadata": {},
   "outputs": [],
   "source": [
    "def build_and_compile_BIGmodel(norm):\n",
    "  model = keras.Sequential([\n",
    "      norm,\n",
    "      layers.Dense(64, activation='relu'),\n",
    "      layers.Dense(128, activation='relu'),\n",
    "      layers.Dense(64, activation='relu'),\n",
    "      layers.Dense(1)\n",
    "  ])\n",
    "\n",
    "  model.compile(loss='mean_absolute_error',\n",
    "                optimizer=tf.keras.optimizers.Adam(0.001))\n",
    "  return model"
   ]
  },
  {
   "cell_type": "code",
   "execution_count": 40,
   "id": "persistent-resident",
   "metadata": {
    "scrolled": true
   },
   "outputs": [
    {
     "name": "stdout",
     "output_type": "stream",
     "text": [
      "Model: \"sequential_4\"\n",
      "_________________________________________________________________\n",
      "Layer (type)                 Output Shape              Param #   \n",
      "=================================================================\n",
      "normalization (Normalization (None, 32)                65        \n",
      "_________________________________________________________________\n",
      "dense_8 (Dense)              (None, 64)                2112      \n",
      "_________________________________________________________________\n",
      "dense_9 (Dense)              (None, 128)               8320      \n",
      "_________________________________________________________________\n",
      "dense_10 (Dense)             (None, 64)                8256      \n",
      "_________________________________________________________________\n",
      "dense_11 (Dense)             (None, 1)                 65        \n",
      "=================================================================\n",
      "Total params: 18,818\n",
      "Trainable params: 18,753\n",
      "Non-trainable params: 65\n",
      "_________________________________________________________________\n"
     ]
    }
   ],
   "source": [
    "dnn_BIGmodel = build_and_compile_BIGmodel(normalizer)\n",
    "dnn_BIGmodel.summary()"
   ]
  },
  {
   "cell_type": "code",
   "execution_count": 41,
   "id": "chubby-grave",
   "metadata": {},
   "outputs": [
    {
     "name": "stdout",
     "output_type": "stream",
     "text": [
      "Wall time: 16 s\n"
     ]
    }
   ],
   "source": [
    "%%time\n",
    "history = dnn_BIGmodel.fit(\n",
    "    train_features, train_labels,\n",
    "    validation_split=0.2,\n",
    "    verbose=0, epochs=100)"
   ]
  },
  {
   "cell_type": "code",
   "execution_count": 42,
   "id": "human-hierarchy",
   "metadata": {},
   "outputs": [
    {
     "data": {
      "image/png": "[encoded data removed]",
      "text/plain": [
       "<Figure size 432x288 with 1 Axes>"
      ]
     },
     "metadata": {
      "needs_background": "light"
     },
     "output_type": "display_data"
    }
   ],
   "source": [
    "plot_loss(history)"
   ]
  },
  {
   "cell_type": "code",
   "execution_count": 43,
   "id": "hundred-focus",
   "metadata": {},
   "outputs": [],
   "source": [
    "test_results['dnn_BIGmodel'] = dnn_BIGmodel.evaluate(test_features, test_labels, verbose=0)"
   ]
  },
  {
   "cell_type": "code",
   "execution_count": 44,
   "id": "faced-holly",
   "metadata": {
    "scrolled": true
   },
   "outputs": [
    {
     "data": {
      "text/html": [
       "<div>\n",
       "<style scoped>\n",
       "    .dataframe tbody tr th:only-of-type {\n",
       "        vertical-align: middle;\n",
       "    }\n",
       "\n",
       "    .dataframe tbody tr th {\n",
       "        vertical-align: top;\n",
       "    }\n",
       "\n",
       "    .dataframe thead th {\n",
       "        text-align: right;\n",
       "    }\n",
       "</style>\n",
       "<table border=\"1\" class=\"dataframe\">\n",
       "  <thead>\n",
       "    <tr style=\"text-align: right;\">\n",
       "      <th></th>\n",
       "      <th>Mean absolute error [7TageInzidenzFUTURE]</th>\n",
       "    </tr>\n",
       "  </thead>\n",
       "  <tbody>\n",
       "    <tr>\n",
       "      <th>linear_model</th>\n",
       "      <td>15.117590</td>\n",
       "    </tr>\n",
       "    <tr>\n",
       "      <th>linear_model_normalized</th>\n",
       "      <td>12.773072</td>\n",
       "    </tr>\n",
       "    <tr>\n",
       "      <th>dnn_model</th>\n",
       "      <td>11.564630</td>\n",
       "    </tr>\n",
       "    <tr>\n",
       "      <th>dnn_BIGmodel</th>\n",
       "      <td>12.548034</td>\n",
       "    </tr>\n",
       "  </tbody>\n",
       "</table>\n",
       "</div>"
      ],
      "text/plain": [
       "                         Mean absolute error [7TageInzidenzFUTURE]\n",
       "linear_model                                             15.117590\n",
       "linear_model_normalized                                  12.773072\n",
       "dnn_model                                                11.564630\n",
       "dnn_BIGmodel                                             12.548034"
      ]
     },
     "execution_count": 44,
     "metadata": {},
     "output_type": "execute_result"
    }
   ],
   "source": [
    "pd.DataFrame(test_results, index=['Mean absolute error [7TageInzidenzFUTURE]']).T"
   ]
  },
  {
   "cell_type": "code",
   "execution_count": 45,
   "id": "descending-looking",
   "metadata": {},
   "outputs": [],
   "source": [
    "def build_and_compile_MEDmodel(norm):\n",
    "  model = keras.Sequential([\n",
    "      norm,\n",
    "      layers.Dense(64, activation='relu'),\n",
    "      layers.Dense(64, activation='relu'),\n",
    "      layers.Dense(32, activation='relu'),\n",
    "      layers.Dense(1, activation='linear')\n",
    "  ])\n",
    "\n",
    "  model.compile(loss='mean_absolute_error',\n",
    "                optimizer=tf.keras.optimizers.Adam(0.001))\n",
    "  return model"
   ]
  },
  {
   "cell_type": "code",
   "execution_count": 46,
   "id": "valued-stationery",
   "metadata": {
    "scrolled": true
   },
   "outputs": [
    {
     "name": "stdout",
     "output_type": "stream",
     "text": [
      "Model: \"sequential_5\"\n",
      "_________________________________________________________________\n",
      "Layer (type)                 Output Shape              Param #   \n",
      "=================================================================\n",
      "normalization (Normalization (None, 32)                65        \n",
      "_________________________________________________________________\n",
      "dense_12 (Dense)             (None, 64)                2112      \n",
      "_________________________________________________________________\n",
      "dense_13 (Dense)             (None, 64)                4160      \n",
      "_________________________________________________________________\n",
      "dense_14 (Dense)             (None, 32)                2080      \n",
      "_________________________________________________________________\n",
      "dense_15 (Dense)             (None, 1)                 33        \n",
      "=================================================================\n",
      "Total params: 8,450\n",
      "Trainable params: 8,385\n",
      "Non-trainable params: 65\n",
      "_________________________________________________________________\n"
     ]
    }
   ],
   "source": [
    "dnn_MEDmodel = build_and_compile_MEDmodel(normalizer)\n",
    "dnn_MEDmodel.summary()"
   ]
  },
  {
   "cell_type": "code",
   "execution_count": 47,
   "id": "outside-channel",
   "metadata": {},
   "outputs": [
    {
     "name": "stdout",
     "output_type": "stream",
     "text": [
      "Wall time: 14.7 s\n"
     ]
    }
   ],
   "source": [
    "%%time\n",
    "history = dnn_MEDmodel.fit(\n",
    "    train_features, train_labels,\n",
    "    validation_split=0.2,\n",
    "    verbose=0, epochs=100)"
   ]
  },
  {
   "cell_type": "code",
   "execution_count": 48,
   "id": "republican-render",
   "metadata": {},
   "outputs": [
    {
     "data": {
      "image/png": "[encoded data removed]",
      "text/plain": [
       "<Figure size 432x288 with 1 Axes>"
      ]
     },
     "metadata": {
      "needs_background": "light"
     },
     "output_type": "display_data"
    }
   ],
   "source": [
    "plot_loss(history)"
   ]
  },
  {
   "cell_type": "code",
   "execution_count": 49,
   "id": "dense-score",
   "metadata": {},
   "outputs": [],
   "source": [
    "test_results['dnn_MEDmodel'] = dnn_MEDmodel.evaluate(test_features, test_labels, verbose=0)"
   ]
  },
  {
   "cell_type": "code",
   "execution_count": 50,
   "id": "steady-attempt",
   "metadata": {
    "scrolled": false
   },
   "outputs": [
    {
     "data": {
      "text/html": [
       "<div>\n",
       "<style scoped>\n",
       "    .dataframe tbody tr th:only-of-type {\n",
       "        vertical-align: middle;\n",
       "    }\n",
       "\n",
       "    .dataframe tbody tr th {\n",
       "        vertical-align: top;\n",
       "    }\n",
       "\n",
       "    .dataframe thead th {\n",
       "        text-align: right;\n",
       "    }\n",
       "</style>\n",
       "<table border=\"1\" class=\"dataframe\">\n",
       "  <thead>\n",
       "    <tr style=\"text-align: right;\">\n",
       "      <th></th>\n",
       "      <th>Mean absolute error [7TageInzidenzFUTURE]</th>\n",
       "    </tr>\n",
       "  </thead>\n",
       "  <tbody>\n",
       "    <tr>\n",
       "      <th>linear_model</th>\n",
       "      <td>15.117590</td>\n",
       "    </tr>\n",
       "    <tr>\n",
       "      <th>linear_model_normalized</th>\n",
       "      <td>12.773072</td>\n",
       "    </tr>\n",
       "    <tr>\n",
       "      <th>dnn_model</th>\n",
       "      <td>11.564630</td>\n",
       "    </tr>\n",
       "    <tr>\n",
       "      <th>dnn_BIGmodel</th>\n",
       "      <td>12.548034</td>\n",
       "    </tr>\n",
       "    <tr>\n",
       "      <th>dnn_MEDmodel</th>\n",
       "      <td>12.309236</td>\n",
       "    </tr>\n",
       "  </tbody>\n",
       "</table>\n",
       "</div>"
      ],
      "text/plain": [
       "                         Mean absolute error [7TageInzidenzFUTURE]\n",
       "linear_model                                             15.117590\n",
       "linear_model_normalized                                  12.773072\n",
       "dnn_model                                                11.564630\n",
       "dnn_BIGmodel                                             12.548034\n",
       "dnn_MEDmodel                                             12.309236"
      ]
     },
     "execution_count": 50,
     "metadata": {},
     "output_type": "execute_result"
    }
   ],
   "source": [
    "pd.DataFrame(test_results, index=['Mean absolute error [7TageInzidenzFUTURE]']).T"
   ]
  },
  {
   "cell_type": "code",
   "execution_count": 51,
   "id": "funny-password",
   "metadata": {},
   "outputs": [],
   "source": [
    "def build_and_compile_SMALLmodel(norm):\n",
    "  model = keras.Sequential([\n",
    "      norm,\n",
    "      layers.Dense(32, activation='relu'),\n",
    "      layers.Dense(32, activation='relu'),\n",
    "      layers.Dense(1)\n",
    "  ])\n",
    "\n",
    "  model.compile(loss='mean_absolute_error',\n",
    "                optimizer=tf.keras.optimizers.Adam(0.001))\n",
    "  return model"
   ]
  },
  {
   "cell_type": "code",
   "execution_count": 52,
   "id": "greenhouse-outreach",
   "metadata": {
    "scrolled": true
   },
   "outputs": [
    {
     "name": "stdout",
     "output_type": "stream",
     "text": [
      "Model: \"sequential_6\"\n",
      "_________________________________________________________________\n",
      "Layer (type)                 Output Shape              Param #   \n",
      "=================================================================\n",
      "normalization (Normalization (None, 32)                65        \n",
      "_________________________________________________________________\n",
      "dense_16 (Dense)             (None, 32)                1056      \n",
      "_________________________________________________________________\n",
      "dense_17 (Dense)             (None, 32)                1056      \n",
      "_________________________________________________________________\n",
      "dense_18 (Dense)             (None, 1)                 33        \n",
      "=================================================================\n",
      "Total params: 2,210\n",
      "Trainable params: 2,145\n",
      "Non-trainable params: 65\n",
      "_________________________________________________________________\n"
     ]
    }
   ],
   "source": [
    "dnn_SMALLmodel = build_and_compile_SMALLmodel(normalizer)\n",
    "dnn_SMALLmodel.summary()"
   ]
  },
  {
   "cell_type": "code",
   "execution_count": 53,
   "id": "connected-frederick",
   "metadata": {},
   "outputs": [
    {
     "name": "stdout",
     "output_type": "stream",
     "text": [
      "Wall time: 16.2 s\n"
     ]
    }
   ],
   "source": [
    "%%time\n",
    "history = dnn_SMALLmodel.fit(\n",
    "    train_features, train_labels,\n",
    "    validation_split=0.2,\n",
    "    verbose=0, epochs=100)"
   ]
  },
  {
   "cell_type": "code",
   "execution_count": 54,
   "id": "departmental-liquid",
   "metadata": {},
   "outputs": [
    {
     "data": {
      "image/png": "[encoded data removed]",
      "text/plain": [
       "<Figure size 432x288 with 1 Axes>"
      ]
     },
     "metadata": {
      "needs_background": "light"
     },
     "output_type": "display_data"
    }
   ],
   "source": [
    "plot_loss(history)"
   ]
  },
  {
   "cell_type": "code",
   "execution_count": 55,
   "id": "therapeutic-austria",
   "metadata": {},
   "outputs": [],
   "source": [
    "test_results['dnn_SMALLmodel'] = dnn_SMALLmodel.evaluate(test_features, test_labels, verbose=0)"
   ]
  },
  {
   "cell_type": "code",
   "execution_count": 56,
   "id": "controversial-speed",
   "metadata": {
    "scrolled": false
   },
   "outputs": [
    {
     "data": {
      "text/html": [
       "<div>\n",
       "<style scoped>\n",
       "    .dataframe tbody tr th:only-of-type {\n",
       "        vertical-align: middle;\n",
       "    }\n",
       "\n",
       "    .dataframe tbody tr th {\n",
       "        vertical-align: top;\n",
       "    }\n",
       "\n",
       "    .dataframe thead th {\n",
       "        text-align: right;\n",
       "    }\n",
       "</style>\n",
       "<table border=\"1\" class=\"dataframe\">\n",
       "  <thead>\n",
       "    <tr style=\"text-align: right;\">\n",
       "      <th></th>\n",
       "      <th>Mean absolute error [7TageInzidenzFUTURE]</th>\n",
       "    </tr>\n",
       "  </thead>\n",
       "  <tbody>\n",
       "    <tr>\n",
       "      <th>linear_model</th>\n",
       "      <td>15.117590</td>\n",
       "    </tr>\n",
       "    <tr>\n",
       "      <th>linear_model_normalized</th>\n",
       "      <td>12.773072</td>\n",
       "    </tr>\n",
       "    <tr>\n",
       "      <th>dnn_model</th>\n",
       "      <td>11.564630</td>\n",
       "    </tr>\n",
       "    <tr>\n",
       "      <th>dnn_BIGmodel</th>\n",
       "      <td>12.548034</td>\n",
       "    </tr>\n",
       "    <tr>\n",
       "      <th>dnn_MEDmodel</th>\n",
       "      <td>12.309236</td>\n",
       "    </tr>\n",
       "    <tr>\n",
       "      <th>dnn_SMALLmodel</th>\n",
       "      <td>11.840031</td>\n",
       "    </tr>\n",
       "  </tbody>\n",
       "</table>\n",
       "</div>"
      ],
      "text/plain": [
       "                         Mean absolute error [7TageInzidenzFUTURE]\n",
       "linear_model                                             15.117590\n",
       "linear_model_normalized                                  12.773072\n",
       "dnn_model                                                11.564630\n",
       "dnn_BIGmodel                                             12.548034\n",
       "dnn_MEDmodel                                             12.309236\n",
       "dnn_SMALLmodel                                           11.840031"
      ]
     },
     "execution_count": 56,
     "metadata": {},
     "output_type": "execute_result"
    }
   ],
   "source": [
    "pd.DataFrame(test_results, index=['Mean absolute error [7TageInzidenzFUTURE]']).T"
   ]
  },
  {
   "cell_type": "markdown",
   "id": "unable-pontiac",
   "metadata": {},
   "source": [
    "# Neuer Normalizer - DNN"
   ]
  },
  {
   "cell_type": "code",
   "execution_count": 57,
   "id": "english-headline",
   "metadata": {},
   "outputs": [
    {
     "data": {
      "text/plain": [
       "1       0.109180\n",
       "2       0.096793\n",
       "4       0.053971\n",
       "5       0.049016\n",
       "6       0.028489\n",
       "          ...   \n",
       "2293    0.075625\n",
       "2295    0.137934\n",
       "2296    0.186397\n",
       "2298    0.369864\n",
       "2299    0.565446\n",
       "Name: 7dInzidenzFUTURE, Length: 1840, dtype: float64"
      ]
     },
     "execution_count": 57,
     "metadata": {},
     "output_type": "execute_result"
    }
   ],
   "source": [
    "min_trainlabels = train_labels.min()\n",
    "max_trainlabels = train_labels.max()\n",
    "train_labels_norm = (train_labels - min_trainlabels) / (max_trainlabels - min_trainlabels)\n",
    "\n",
    "test_labels_norm = (test_labels - min_trainlabels) / (max_trainlabels - min_trainlabels)\n",
    "\n",
    "# Selbe Normalisierungen zum Vergleich!\n",
    "\n",
    "#train_features.head\n",
    "train_labels_norm"
   ]
  },
  {
   "cell_type": "code",
   "execution_count": 58,
   "id": "suited-singapore",
   "metadata": {},
   "outputs": [
    {
     "name": "stdout",
     "output_type": "stream",
     "text": [
      "Model: \"sequential_7\"\n",
      "_________________________________________________________________\n",
      "Layer (type)                 Output Shape              Param #   \n",
      "=================================================================\n",
      "normalization (Normalization (None, 32)                65        \n",
      "_________________________________________________________________\n",
      "dense_19 (Dense)             (None, 64)                2112      \n",
      "_________________________________________________________________\n",
      "dense_20 (Dense)             (None, 64)                4160      \n",
      "_________________________________________________________________\n",
      "dense_21 (Dense)             (None, 1)                 65        \n",
      "=================================================================\n",
      "Total params: 6,402\n",
      "Trainable params: 6,337\n",
      "Non-trainable params: 65\n",
      "_________________________________________________________________\n"
     ]
    }
   ],
   "source": [
    "dnn_model_nout = build_and_compile_model(normalizer)\n",
    "dnn_model_nout.summary()"
   ]
  },
  {
   "cell_type": "code",
   "execution_count": 59,
   "id": "disabled-dealer",
   "metadata": {},
   "outputs": [
    {
     "name": "stdout",
     "output_type": "stream",
     "text": [
      "Wall time: 14.3 s\n"
     ]
    }
   ],
   "source": [
    "%%time\n",
    "history = dnn_model_nout.fit(\n",
    "    train_features, train_labels_norm,\n",
    "    validation_split=0.2,\n",
    "    verbose=0, epochs=100)"
   ]
  },
  {
   "cell_type": "code",
   "execution_count": 60,
   "id": "million-affiliate",
   "metadata": {},
   "outputs": [],
   "source": [
    "def plot_loss_norm(history):\n",
    "  plt.plot(history.history['loss'], label='loss')\n",
    "  plt.plot(history.history['val_loss'], label='val_loss')\n",
    "  plt.ylim([0, 0.3])\n",
    "  plt.xlabel('Epoch')\n",
    "  plt.ylabel('Error Inzidenz')\n",
    "  plt.legend()\n",
    "  plt.grid(True)"
   ]
  },
  {
   "cell_type": "code",
   "execution_count": 61,
   "id": "federal-mitchell",
   "metadata": {},
   "outputs": [
    {
     "data": {
      "image/png": "[encoded data removed]",
      "text/plain": [
       "<Figure size 432x288 with 1 Axes>"
      ]
     },
     "metadata": {
      "needs_background": "light"
     },
     "output_type": "display_data"
    }
   ],
   "source": [
    "plot_loss_norm(history)"
   ]
  },
  {
   "cell_type": "code",
   "execution_count": 62,
   "id": "robust-asset",
   "metadata": {},
   "outputs": [],
   "source": [
    "test_results['dnn_model_nout'] = dnn_model_nout.evaluate(test_features, test_labels_norm, verbose=0) *\\\n",
    "                                    (max_trainlabels - min_trainlabels) + min_trainlabels"
   ]
  },
  {
   "cell_type": "code",
   "execution_count": 63,
   "id": "frank-dryer",
   "metadata": {
    "scrolled": true
   },
   "outputs": [
    {
     "data": {
      "text/html": [
       "<div>\n",
       "<style scoped>\n",
       "    .dataframe tbody tr th:only-of-type {\n",
       "        vertical-align: middle;\n",
       "    }\n",
       "\n",
       "    .dataframe tbody tr th {\n",
       "        vertical-align: top;\n",
       "    }\n",
       "\n",
       "    .dataframe thead th {\n",
       "        text-align: right;\n",
       "    }\n",
       "</style>\n",
       "<table border=\"1\" class=\"dataframe\">\n",
       "  <thead>\n",
       "    <tr style=\"text-align: right;\">\n",
       "      <th></th>\n",
       "      <th>Mean absolute error [7TageInzidenzFUTURE]</th>\n",
       "    </tr>\n",
       "  </thead>\n",
       "  <tbody>\n",
       "    <tr>\n",
       "      <th>linear_model</th>\n",
       "      <td>15.117590</td>\n",
       "    </tr>\n",
       "    <tr>\n",
       "      <th>linear_model_normalized</th>\n",
       "      <td>12.773072</td>\n",
       "    </tr>\n",
       "    <tr>\n",
       "      <th>dnn_model</th>\n",
       "      <td>11.564630</td>\n",
       "    </tr>\n",
       "    <tr>\n",
       "      <th>dnn_BIGmodel</th>\n",
       "      <td>12.548034</td>\n",
       "    </tr>\n",
       "    <tr>\n",
       "      <th>dnn_MEDmodel</th>\n",
       "      <td>12.309236</td>\n",
       "    </tr>\n",
       "    <tr>\n",
       "      <th>dnn_SMALLmodel</th>\n",
       "      <td>11.840031</td>\n",
       "    </tr>\n",
       "    <tr>\n",
       "      <th>dnn_model_nout</th>\n",
       "      <td>16.484837</td>\n",
       "    </tr>\n",
       "  </tbody>\n",
       "</table>\n",
       "</div>"
      ],
      "text/plain": [
       "                         Mean absolute error [7TageInzidenzFUTURE]\n",
       "linear_model                                             15.117590\n",
       "linear_model_normalized                                  12.773072\n",
       "dnn_model                                                11.564630\n",
       "dnn_BIGmodel                                             12.548034\n",
       "dnn_MEDmodel                                             12.309236\n",
       "dnn_SMALLmodel                                           11.840031\n",
       "dnn_model_nout                                           16.484837"
      ]
     },
     "execution_count": 63,
     "metadata": {},
     "output_type": "execute_result"
    }
   ],
   "source": [
    "pd.DataFrame(test_results, index=['Mean absolute error [7TageInzidenzFUTURE]']).T"
   ]
  },
  {
   "cell_type": "code",
   "execution_count": 64,
   "id": "moral-daniel",
   "metadata": {},
   "outputs": [
    {
     "data": {
      "image/png": "[encoded data removed]",
      "text/plain": [
       "<Figure size 432x288 with 1 Axes>"
      ]
     },
     "metadata": {
      "needs_background": "light"
     },
     "output_type": "display_data"
    }
   ],
   "source": [
    "test_predictions_nout = dnn_model_nout.predict(test_features).flatten()\n",
    "\n",
    "a = plt.axes(aspect='equal')\n",
    "plt.scatter(test_labels_norm, test_predictions_nout)\n",
    "plt.xlabel('True Values [7TageInzidenz] normalisiert')\n",
    "plt.ylabel('Predictions [7TageInzidenz] normalisiert')\n",
    "lims = [0, 1]\n",
    "plt.xlim(lims)\n",
    "plt.ylim(lims)\n",
    "_ = plt.plot(lims, lims)"
   ]
  },
  {
   "cell_type": "code",
   "execution_count": 65,
   "id": "precise-religion",
   "metadata": {},
   "outputs": [
    {
     "data": {
      "image/png": "[encoded data removed]",
      "text/plain": [
       "<Figure size 432x288 with 1 Axes>"
      ]
     },
     "metadata": {
      "needs_background": "light"
     },
     "output_type": "display_data"
    }
   ],
   "source": [
    "error = test_predictions_nout - test_labels_norm\n",
    "plt.hist(error, bins=25)\n",
    "plt.xlabel('Prediction Error [7TageInzidenz]')\n",
    "_ = plt.ylabel('Count')"
   ]
  },
  {
   "cell_type": "markdown",
   "id": "pending-biotechnology",
   "metadata": {},
   "source": [
    "## Regularisierung"
   ]
  },
  {
   "cell_type": "code",
   "execution_count": 66,
   "id": "organized-start",
   "metadata": {},
   "outputs": [],
   "source": [
    "def build_and_compile_model_reg(norm):\n",
    "  model = keras.Sequential([\n",
    "      norm,\n",
    "      layers.Dense(64, activation='relu', kernel_regularizer=regularizers.l2(0.001)),\n",
    "      layers.Dense(64, activation='relu', kernel_regularizer=regularizers.l2(0.001)),\n",
    "      layers.Dense(1)\n",
    "  ])\n",
    "\n",
    "  model.compile(loss='mean_absolute_error',\n",
    "                optimizer=tf.keras.optimizers.Adam(0.001))\n",
    "  return model"
   ]
  },
  {
   "cell_type": "code",
   "execution_count": 67,
   "id": "restricted-klein",
   "metadata": {
    "scrolled": false
   },
   "outputs": [
    {
     "name": "stdout",
     "output_type": "stream",
     "text": [
      "Model: \"sequential_8\"\n",
      "_________________________________________________________________\n",
      "Layer (type)                 Output Shape              Param #   \n",
      "=================================================================\n",
      "normalization (Normalization (None, 32)                65        \n",
      "_________________________________________________________________\n",
      "dense_22 (Dense)             (None, 64)                2112      \n",
      "_________________________________________________________________\n",
      "dense_23 (Dense)             (None, 64)                4160      \n",
      "_________________________________________________________________\n",
      "dense_24 (Dense)             (None, 1)                 65        \n",
      "=================================================================\n",
      "Total params: 6,402\n",
      "Trainable params: 6,337\n",
      "Non-trainable params: 65\n",
      "_________________________________________________________________\n"
     ]
    }
   ],
   "source": [
    "dnn_model_reg = build_and_compile_model_reg(normalizer)\n",
    "dnn_model_reg.summary()"
   ]
  },
  {
   "cell_type": "code",
   "execution_count": 68,
   "id": "threaded-illness",
   "metadata": {},
   "outputs": [
    {
     "name": "stdout",
     "output_type": "stream",
     "text": [
      "Wall time: 15.2 s\n"
     ]
    }
   ],
   "source": [
    "%%time\n",
    "history = dnn_model_reg.fit(\n",
    "    train_features, train_labels,\n",
    "    validation_split=0.2,\n",
    "    verbose=0, epochs=100)"
   ]
  },
  {
   "cell_type": "code",
   "execution_count": 69,
   "id": "silver-subsection",
   "metadata": {
    "scrolled": true
   },
   "outputs": [
    {
     "data": {
      "image/png": "[encoded data removed]",
      "text/plain": [
       "<Figure size 432x288 with 1 Axes>"
      ]
     },
     "metadata": {
      "needs_background": "light"
     },
     "output_type": "display_data"
    }
   ],
   "source": [
    "plot_loss(history)"
   ]
  },
  {
   "cell_type": "code",
   "execution_count": 70,
   "id": "killing-zimbabwe",
   "metadata": {},
   "outputs": [],
   "source": [
    "test_results['dnn_model_reg'] = dnn_model_reg.evaluate(test_features, test_labels, verbose=0)"
   ]
  },
  {
   "cell_type": "code",
   "execution_count": 71,
   "id": "economic-probe",
   "metadata": {
    "scrolled": true
   },
   "outputs": [
    {
     "data": {
      "text/html": [
       "<div>\n",
       "<style scoped>\n",
       "    .dataframe tbody tr th:only-of-type {\n",
       "        vertical-align: middle;\n",
       "    }\n",
       "\n",
       "    .dataframe tbody tr th {\n",
       "        vertical-align: top;\n",
       "    }\n",
       "\n",
       "    .dataframe thead th {\n",
       "        text-align: right;\n",
       "    }\n",
       "</style>\n",
       "<table border=\"1\" class=\"dataframe\">\n",
       "  <thead>\n",
       "    <tr style=\"text-align: right;\">\n",
       "      <th></th>\n",
       "      <th>Mean absolute error [7TageInzidenzFUTURE]</th>\n",
       "    </tr>\n",
       "  </thead>\n",
       "  <tbody>\n",
       "    <tr>\n",
       "      <th>linear_model</th>\n",
       "      <td>15.117590</td>\n",
       "    </tr>\n",
       "    <tr>\n",
       "      <th>linear_model_normalized</th>\n",
       "      <td>12.773072</td>\n",
       "    </tr>\n",
       "    <tr>\n",
       "      <th>dnn_model</th>\n",
       "      <td>11.564630</td>\n",
       "    </tr>\n",
       "    <tr>\n",
       "      <th>dnn_BIGmodel</th>\n",
       "      <td>12.548034</td>\n",
       "    </tr>\n",
       "    <tr>\n",
       "      <th>dnn_MEDmodel</th>\n",
       "      <td>12.309236</td>\n",
       "    </tr>\n",
       "    <tr>\n",
       "      <th>dnn_SMALLmodel</th>\n",
       "      <td>11.840031</td>\n",
       "    </tr>\n",
       "    <tr>\n",
       "      <th>dnn_model_nout</th>\n",
       "      <td>16.484837</td>\n",
       "    </tr>\n",
       "    <tr>\n",
       "      <th>dnn_model_reg</th>\n",
       "      <td>12.015050</td>\n",
       "    </tr>\n",
       "  </tbody>\n",
       "</table>\n",
       "</div>"
      ],
      "text/plain": [
       "                         Mean absolute error [7TageInzidenzFUTURE]\n",
       "linear_model                                             15.117590\n",
       "linear_model_normalized                                  12.773072\n",
       "dnn_model                                                11.564630\n",
       "dnn_BIGmodel                                             12.548034\n",
       "dnn_MEDmodel                                             12.309236\n",
       "dnn_SMALLmodel                                           11.840031\n",
       "dnn_model_nout                                           16.484837\n",
       "dnn_model_reg                                            12.015050"
      ]
     },
     "execution_count": 71,
     "metadata": {},
     "output_type": "execute_result"
    }
   ],
   "source": [
    "pd.DataFrame(test_results, index=['Mean absolute error [7TageInzidenzFUTURE]']).T"
   ]
  },
  {
   "cell_type": "markdown",
   "id": "close-philip",
   "metadata": {},
   "source": [
    "## Dropout"
   ]
  },
  {
   "cell_type": "code",
   "execution_count": 72,
   "id": "improving-cause",
   "metadata": {},
   "outputs": [],
   "source": [
    "def build_and_compile_model_drop(norm):\n",
    "  model = keras.Sequential([\n",
    "      norm,\n",
    "      layers.Dense(64, activation='relu'),\n",
    "      layers.Dropout(0.5),\n",
    "      layers.Dense(64, activation='relu'),\n",
    "      layers.Dropout(0.5),\n",
    "      layers.Dense(1)\n",
    "  ])\n",
    "\n",
    "  model.compile(loss='mean_absolute_error',\n",
    "                optimizer=tf.keras.optimizers.Adam(0.001))\n",
    "  return model"
   ]
  },
  {
   "cell_type": "code",
   "execution_count": 73,
   "id": "eleven-warehouse",
   "metadata": {
    "scrolled": false
   },
   "outputs": [
    {
     "name": "stdout",
     "output_type": "stream",
     "text": [
      "Model: \"sequential_9\"\n",
      "_________________________________________________________________\n",
      "Layer (type)                 Output Shape              Param #   \n",
      "=================================================================\n",
      "normalization (Normalization (None, 32)                65        \n",
      "_________________________________________________________________\n",
      "dense_25 (Dense)             (None, 64)                2112      \n",
      "_________________________________________________________________\n",
      "dropout (Dropout)            (None, 64)                0         \n",
      "_________________________________________________________________\n",
      "dense_26 (Dense)             (None, 64)                4160      \n",
      "_________________________________________________________________\n",
      "dropout_1 (Dropout)          (None, 64)                0         \n",
      "_________________________________________________________________\n",
      "dense_27 (Dense)             (None, 1)                 65        \n",
      "=================================================================\n",
      "Total params: 6,402\n",
      "Trainable params: 6,337\n",
      "Non-trainable params: 65\n",
      "_________________________________________________________________\n"
     ]
    }
   ],
   "source": [
    "dnn_model_drop = build_and_compile_model_drop(normalizer)\n",
    "dnn_model_drop.summary()"
   ]
  },
  {
   "cell_type": "code",
   "execution_count": 74,
   "id": "spectacular-license",
   "metadata": {},
   "outputs": [
    {
     "name": "stdout",
     "output_type": "stream",
     "text": [
      "Wall time: 1min 8s\n"
     ]
    }
   ],
   "source": [
    "%%time\n",
    "history = dnn_model_drop.fit(\n",
    "    train_features, train_labels,\n",
    "    validation_split=0.2,\n",
    "    verbose=0, epochs=500)"
   ]
  },
  {
   "cell_type": "code",
   "execution_count": 75,
   "id": "modern-arrest",
   "metadata": {},
   "outputs": [
    {
     "data": {
      "image/png": "[encoded data removed]",
      "text/plain": [
       "<Figure size 432x288 with 1 Axes>"
      ]
     },
     "metadata": {
      "needs_background": "light"
     },
     "output_type": "display_data"
    }
   ],
   "source": [
    "plot_loss(history)"
   ]
  },
  {
   "cell_type": "code",
   "execution_count": 76,
   "id": "tropical-impact",
   "metadata": {},
   "outputs": [],
   "source": [
    "test_results['dnn_model_drop'] = dnn_model_drop.evaluate(test_features, test_labels, verbose=0)"
   ]
  },
  {
   "cell_type": "code",
   "execution_count": 77,
   "id": "dying-posting",
   "metadata": {
    "scrolled": false
   },
   "outputs": [
    {
     "data": {
      "text/html": [
       "<div>\n",
       "<style scoped>\n",
       "    .dataframe tbody tr th:only-of-type {\n",
       "        vertical-align: middle;\n",
       "    }\n",
       "\n",
       "    .dataframe tbody tr th {\n",
       "        vertical-align: top;\n",
       "    }\n",
       "\n",
       "    .dataframe thead th {\n",
       "        text-align: right;\n",
       "    }\n",
       "</style>\n",
       "<table border=\"1\" class=\"dataframe\">\n",
       "  <thead>\n",
       "    <tr style=\"text-align: right;\">\n",
       "      <th></th>\n",
       "      <th>Mean absolute error [7TageInzidenzFUTURE]</th>\n",
       "    </tr>\n",
       "  </thead>\n",
       "  <tbody>\n",
       "    <tr>\n",
       "      <th>linear_model</th>\n",
       "      <td>15.117590</td>\n",
       "    </tr>\n",
       "    <tr>\n",
       "      <th>linear_model_normalized</th>\n",
       "      <td>12.773072</td>\n",
       "    </tr>\n",
       "    <tr>\n",
       "      <th>dnn_model</th>\n",
       "      <td>11.564630</td>\n",
       "    </tr>\n",
       "    <tr>\n",
       "      <th>dnn_BIGmodel</th>\n",
       "      <td>12.548034</td>\n",
       "    </tr>\n",
       "    <tr>\n",
       "      <th>dnn_MEDmodel</th>\n",
       "      <td>12.309236</td>\n",
       "    </tr>\n",
       "    <tr>\n",
       "      <th>dnn_SMALLmodel</th>\n",
       "      <td>11.840031</td>\n",
       "    </tr>\n",
       "    <tr>\n",
       "      <th>dnn_model_nout</th>\n",
       "      <td>16.484837</td>\n",
       "    </tr>\n",
       "    <tr>\n",
       "      <th>dnn_model_reg</th>\n",
       "      <td>12.015050</td>\n",
       "    </tr>\n",
       "    <tr>\n",
       "      <th>dnn_model_drop</th>\n",
       "      <td>12.103974</td>\n",
       "    </tr>\n",
       "  </tbody>\n",
       "</table>\n",
       "</div>"
      ],
      "text/plain": [
       "                         Mean absolute error [7TageInzidenzFUTURE]\n",
       "linear_model                                             15.117590\n",
       "linear_model_normalized                                  12.773072\n",
       "dnn_model                                                11.564630\n",
       "dnn_BIGmodel                                             12.548034\n",
       "dnn_MEDmodel                                             12.309236\n",
       "dnn_SMALLmodel                                           11.840031\n",
       "dnn_model_nout                                           16.484837\n",
       "dnn_model_reg                                            12.015050\n",
       "dnn_model_drop                                           12.103974"
      ]
     },
     "execution_count": 77,
     "metadata": {},
     "output_type": "execute_result"
    }
   ],
   "source": [
    "pd.DataFrame(test_results, index=['Mean absolute error [7TageInzidenzFUTURE]']).T"
   ]
  },
  {
   "cell_type": "markdown",
   "id": "legendary-apartment",
   "metadata": {},
   "source": [
    "## Regularisierung und Dropout"
   ]
  },
  {
   "cell_type": "code",
   "execution_count": 78,
   "id": "outstanding-cassette",
   "metadata": {},
   "outputs": [],
   "source": [
    "def build_and_compile_model_Dreg(norm):\n",
    "  model = keras.Sequential([\n",
    "      norm,\n",
    "      layers.Dense(64, activation='relu', kernel_regularizer=regularizers.l2(0.001)),\n",
    "      layers.Dropout(0.2),\n",
    "      layers.Dense(64, activation='relu', kernel_regularizer=regularizers.l2(0.001)),\n",
    "      layers.Dropout(0.2),\n",
    "      layers.Dense(1)\n",
    "  ])\n",
    "\n",
    "  model.compile(loss='mean_absolute_error',\n",
    "                optimizer=tf.keras.optimizers.Adam(0.0005))\n",
    "  return model"
   ]
  },
  {
   "cell_type": "code",
   "execution_count": 79,
   "id": "alpine-therapist",
   "metadata": {
    "scrolled": false
   },
   "outputs": [
    {
     "name": "stdout",
     "output_type": "stream",
     "text": [
      "Model: \"sequential_10\"\n",
      "_________________________________________________________________\n",
      "Layer (type)                 Output Shape              Param #   \n",
      "=================================================================\n",
      "normalization (Normalization (None, 32)                65        \n",
      "_________________________________________________________________\n",
      "dense_28 (Dense)             (None, 64)                2112      \n",
      "_________________________________________________________________\n",
      "dropout_2 (Dropout)          (None, 64)                0         \n",
      "_________________________________________________________________\n",
      "dense_29 (Dense)             (None, 64)                4160      \n",
      "_________________________________________________________________\n",
      "dropout_3 (Dropout)          (None, 64)                0         \n",
      "_________________________________________________________________\n",
      "dense_30 (Dense)             (None, 1)                 65        \n",
      "=================================================================\n",
      "Total params: 6,402\n",
      "Trainable params: 6,337\n",
      "Non-trainable params: 65\n",
      "_________________________________________________________________\n"
     ]
    }
   ],
   "source": [
    "dnn_model_Dreg = build_and_compile_model_Dreg(normalizer)\n",
    "dnn_model_Dreg.summary()"
   ]
  },
  {
   "cell_type": "code",
   "execution_count": 80,
   "id": "premier-literacy",
   "metadata": {},
   "outputs": [
    {
     "name": "stdout",
     "output_type": "stream",
     "text": [
      "Wall time: 45.6 s\n"
     ]
    }
   ],
   "source": [
    "%%time\n",
    "history = dnn_model_Dreg.fit(\n",
    "    train_features, train_labels,\n",
    "    validation_split=0.2,\n",
    "    verbose=0, epochs=300)"
   ]
  },
  {
   "cell_type": "code",
   "execution_count": 81,
   "id": "steady-malta",
   "metadata": {
    "scrolled": true
   },
   "outputs": [
    {
     "data": {
      "image/png": "[encoded data removed]",
      "text/plain": [
       "<Figure size 432x288 with 1 Axes>"
      ]
     },
     "metadata": {
      "needs_background": "light"
     },
     "output_type": "display_data"
    }
   ],
   "source": [
    "plot_loss(history)"
   ]
  },
  {
   "cell_type": "code",
   "execution_count": 82,
   "id": "cellular-aging",
   "metadata": {},
   "outputs": [],
   "source": [
    "test_results['dnn_model_Dreg'] = dnn_model_Dreg.evaluate(test_features, test_labels, verbose=0)"
   ]
  },
  {
   "cell_type": "code",
   "execution_count": 83,
   "id": "prerequisite-savage",
   "metadata": {
    "scrolled": false
   },
   "outputs": [
    {
     "data": {
      "text/html": [
       "<div>\n",
       "<style scoped>\n",
       "    .dataframe tbody tr th:only-of-type {\n",
       "        vertical-align: middle;\n",
       "    }\n",
       "\n",
       "    .dataframe tbody tr th {\n",
       "        vertical-align: top;\n",
       "    }\n",
       "\n",
       "    .dataframe thead th {\n",
       "        text-align: right;\n",
       "    }\n",
       "</style>\n",
       "<table border=\"1\" class=\"dataframe\">\n",
       "  <thead>\n",
       "    <tr style=\"text-align: right;\">\n",
       "      <th></th>\n",
       "      <th>Mean absolute error [7TageInzidenzFUTURE]</th>\n",
       "    </tr>\n",
       "  </thead>\n",
       "  <tbody>\n",
       "    <tr>\n",
       "      <th>linear_model</th>\n",
       "      <td>15.117590</td>\n",
       "    </tr>\n",
       "    <tr>\n",
       "      <th>linear_model_normalized</th>\n",
       "      <td>12.773072</td>\n",
       "    </tr>\n",
       "    <tr>\n",
       "      <th>dnn_model</th>\n",
       "      <td>11.564630</td>\n",
       "    </tr>\n",
       "    <tr>\n",
       "      <th>dnn_BIGmodel</th>\n",
       "      <td>12.548034</td>\n",
       "    </tr>\n",
       "    <tr>\n",
       "      <th>dnn_MEDmodel</th>\n",
       "      <td>12.309236</td>\n",
       "    </tr>\n",
       "    <tr>\n",
       "      <th>dnn_SMALLmodel</th>\n",
       "      <td>11.840031</td>\n",
       "    </tr>\n",
       "    <tr>\n",
       "      <th>dnn_model_nout</th>\n",
       "      <td>16.484837</td>\n",
       "    </tr>\n",
       "    <tr>\n",
       "      <th>dnn_model_reg</th>\n",
       "      <td>12.015050</td>\n",
       "    </tr>\n",
       "    <tr>\n",
       "      <th>dnn_model_drop</th>\n",
       "      <td>12.103974</td>\n",
       "    </tr>\n",
       "    <tr>\n",
       "      <th>dnn_model_Dreg</th>\n",
       "      <td>11.972919</td>\n",
       "    </tr>\n",
       "  </tbody>\n",
       "</table>\n",
       "</div>"
      ],
      "text/plain": [
       "                         Mean absolute error [7TageInzidenzFUTURE]\n",
       "linear_model                                             15.117590\n",
       "linear_model_normalized                                  12.773072\n",
       "dnn_model                                                11.564630\n",
       "dnn_BIGmodel                                             12.548034\n",
       "dnn_MEDmodel                                             12.309236\n",
       "dnn_SMALLmodel                                           11.840031\n",
       "dnn_model_nout                                           16.484837\n",
       "dnn_model_reg                                            12.015050\n",
       "dnn_model_drop                                           12.103974\n",
       "dnn_model_Dreg                                           11.972919"
      ]
     },
     "execution_count": 83,
     "metadata": {},
     "output_type": "execute_result"
    }
   ],
   "source": [
    "pd.DataFrame(test_results, index=['Mean absolute error [7TageInzidenzFUTURE]']).T"
   ]
  },
  {
   "cell_type": "markdown",
   "id": "opening-disclaimer",
   "metadata": {},
   "source": [
    "## Regularisierung und Dropout - hyperbolic tangent activation function"
   ]
  },
  {
   "cell_type": "code",
   "execution_count": 84,
   "id": "cross-iraqi",
   "metadata": {},
   "outputs": [],
   "source": [
    "def build_and_compile_model_Dreg_tanh(norm):\n",
    "  model = keras.Sequential([\n",
    "      norm,\n",
    "      layers.Dense(64, activation='tanh', kernel_regularizer=regularizers.l2(0.001)),\n",
    "      layers.Dropout(0.2),\n",
    "      layers.Dense(64, activation='tanh', kernel_regularizer=regularizers.l2(0.001)),\n",
    "      layers.Dropout(0.2),\n",
    "      layers.Dense(1)\n",
    "  ])\n",
    "\n",
    "  model.compile(loss='mean_absolute_error',\n",
    "                optimizer=tf.keras.optimizers.Adam(0.001))\n",
    "  return model"
   ]
  },
  {
   "cell_type": "code",
   "execution_count": 85,
   "id": "human-receiver",
   "metadata": {
    "scrolled": false
   },
   "outputs": [
    {
     "name": "stdout",
     "output_type": "stream",
     "text": [
      "Model: \"sequential_11\"\n",
      "_________________________________________________________________\n",
      "Layer (type)                 Output Shape              Param #   \n",
      "=================================================================\n",
      "normalization (Normalization (None, 32)                65        \n",
      "_________________________________________________________________\n",
      "dense_31 (Dense)             (None, 64)                2112      \n",
      "_________________________________________________________________\n",
      "dropout_4 (Dropout)          (None, 64)                0         \n",
      "_________________________________________________________________\n",
      "dense_32 (Dense)             (None, 64)                4160      \n",
      "_________________________________________________________________\n",
      "dropout_5 (Dropout)          (None, 64)                0         \n",
      "_________________________________________________________________\n",
      "dense_33 (Dense)             (None, 1)                 65        \n",
      "=================================================================\n",
      "Total params: 6,402\n",
      "Trainable params: 6,337\n",
      "Non-trainable params: 65\n",
      "_________________________________________________________________\n"
     ]
    }
   ],
   "source": [
    "dnn_model_Dreg_tanh = build_and_compile_model_Dreg_tanh(normalizer)\n",
    "dnn_model_Dreg_tanh.summary()"
   ]
  },
  {
   "cell_type": "code",
   "execution_count": 86,
   "id": "seventh-stephen",
   "metadata": {},
   "outputs": [
    {
     "name": "stdout",
     "output_type": "stream",
     "text": [
      "Wall time: 1min 9s\n"
     ]
    }
   ],
   "source": [
    "%%time\n",
    "history = dnn_model_Dreg_tanh.fit(\n",
    "    train_features, train_labels,\n",
    "    validation_split=0.2,\n",
    "    verbose=0, epochs=500)"
   ]
  },
  {
   "cell_type": "code",
   "execution_count": 87,
   "id": "bright-crime",
   "metadata": {
    "scrolled": true
   },
   "outputs": [
    {
     "data": {
      "image/png": "[encoded data removed]",
      "text/plain": [
       "<Figure size 432x288 with 1 Axes>"
      ]
     },
     "metadata": {
      "needs_background": "light"
     },
     "output_type": "display_data"
    }
   ],
   "source": [
    "plot_loss(history)"
   ]
  },
  {
   "cell_type": "code",
   "execution_count": 88,
   "id": "brave-excuse",
   "metadata": {},
   "outputs": [],
   "source": [
    "test_results['dnn_model_Dreg_tanh'] = dnn_model_Dreg_tanh.evaluate(test_features, test_labels, verbose=0)"
   ]
  },
  {
   "cell_type": "code",
   "execution_count": 89,
   "id": "important-soccer",
   "metadata": {
    "scrolled": false
   },
   "outputs": [
    {
     "data": {
      "text/html": [
       "<div>\n",
       "<style scoped>\n",
       "    .dataframe tbody tr th:only-of-type {\n",
       "        vertical-align: middle;\n",
       "    }\n",
       "\n",
       "    .dataframe tbody tr th {\n",
       "        vertical-align: top;\n",
       "    }\n",
       "\n",
       "    .dataframe thead th {\n",
       "        text-align: right;\n",
       "    }\n",
       "</style>\n",
       "<table border=\"1\" class=\"dataframe\">\n",
       "  <thead>\n",
       "    <tr style=\"text-align: right;\">\n",
       "      <th></th>\n",
       "      <th>Mean absolute error [7TageInzidenzFUTURE]</th>\n",
       "    </tr>\n",
       "  </thead>\n",
       "  <tbody>\n",
       "    <tr>\n",
       "      <th>linear_model</th>\n",
       "      <td>15.117590</td>\n",
       "    </tr>\n",
       "    <tr>\n",
       "      <th>linear_model_normalized</th>\n",
       "      <td>12.773072</td>\n",
       "    </tr>\n",
       "    <tr>\n",
       "      <th>dnn_model</th>\n",
       "      <td>11.564630</td>\n",
       "    </tr>\n",
       "    <tr>\n",
       "      <th>dnn_BIGmodel</th>\n",
       "      <td>12.548034</td>\n",
       "    </tr>\n",
       "    <tr>\n",
       "      <th>dnn_MEDmodel</th>\n",
       "      <td>12.309236</td>\n",
       "    </tr>\n",
       "    <tr>\n",
       "      <th>dnn_SMALLmodel</th>\n",
       "      <td>11.840031</td>\n",
       "    </tr>\n",
       "    <tr>\n",
       "      <th>dnn_model_nout</th>\n",
       "      <td>16.484837</td>\n",
       "    </tr>\n",
       "    <tr>\n",
       "      <th>dnn_model_reg</th>\n",
       "      <td>12.015050</td>\n",
       "    </tr>\n",
       "    <tr>\n",
       "      <th>dnn_model_drop</th>\n",
       "      <td>12.103974</td>\n",
       "    </tr>\n",
       "    <tr>\n",
       "      <th>dnn_model_Dreg</th>\n",
       "      <td>11.972919</td>\n",
       "    </tr>\n",
       "    <tr>\n",
       "      <th>dnn_model_Dreg_tanh</th>\n",
       "      <td>13.167227</td>\n",
       "    </tr>\n",
       "  </tbody>\n",
       "</table>\n",
       "</div>"
      ],
      "text/plain": [
       "                         Mean absolute error [7TageInzidenzFUTURE]\n",
       "linear_model                                             15.117590\n",
       "linear_model_normalized                                  12.773072\n",
       "dnn_model                                                11.564630\n",
       "dnn_BIGmodel                                             12.548034\n",
       "dnn_MEDmodel                                             12.309236\n",
       "dnn_SMALLmodel                                           11.840031\n",
       "dnn_model_nout                                           16.484837\n",
       "dnn_model_reg                                            12.015050\n",
       "dnn_model_drop                                           12.103974\n",
       "dnn_model_Dreg                                           11.972919\n",
       "dnn_model_Dreg_tanh                                      13.167227"
      ]
     },
     "execution_count": 89,
     "metadata": {},
     "output_type": "execute_result"
    }
   ],
   "source": [
    "pd.DataFrame(test_results, index=['Mean absolute error [7TageInzidenzFUTURE]']).T"
   ]
  },
  {
   "cell_type": "markdown",
   "id": "improving-classroom",
   "metadata": {},
   "source": [
    "## Regularisierung und Dropout - sigmoid activation function"
   ]
  },
  {
   "cell_type": "code",
   "execution_count": 90,
   "id": "eastern-first",
   "metadata": {},
   "outputs": [],
   "source": [
    "def build_and_compile_model_Dreg_sigm(norm):\n",
    "  model = keras.Sequential([\n",
    "      norm,\n",
    "      layers.Dense(64, activation='sigmoid', kernel_regularizer=regularizers.l2(0.001)),\n",
    "      layers.Dropout(0.2),\n",
    "      layers.Dense(64, activation='sigmoid', kernel_regularizer=regularizers.l2(0.001)),\n",
    "      layers.Dropout(0.2),\n",
    "      layers.Dense(1)\n",
    "  ])\n",
    "\n",
    "  model.compile(loss='mean_absolute_error',\n",
    "                optimizer=tf.keras.optimizers.Adam(0.001))\n",
    "  return model"
   ]
  },
  {
   "cell_type": "code",
   "execution_count": 91,
   "id": "alone-grain",
   "metadata": {
    "scrolled": false
   },
   "outputs": [
    {
     "name": "stdout",
     "output_type": "stream",
     "text": [
      "Model: \"sequential_12\"\n",
      "_________________________________________________________________\n",
      "Layer (type)                 Output Shape              Param #   \n",
      "=================================================================\n",
      "normalization (Normalization (None, 32)                65        \n",
      "_________________________________________________________________\n",
      "dense_34 (Dense)             (None, 64)                2112      \n",
      "_________________________________________________________________\n",
      "dropout_6 (Dropout)          (None, 64)                0         \n",
      "_________________________________________________________________\n",
      "dense_35 (Dense)             (None, 64)                4160      \n",
      "_________________________________________________________________\n",
      "dropout_7 (Dropout)          (None, 64)                0         \n",
      "_________________________________________________________________\n",
      "dense_36 (Dense)             (None, 1)                 65        \n",
      "=================================================================\n",
      "Total params: 6,402\n",
      "Trainable params: 6,337\n",
      "Non-trainable params: 65\n",
      "_________________________________________________________________\n"
     ]
    }
   ],
   "source": [
    "dnn_model_Dreg_sigm = build_and_compile_model_Dreg_sigm(normalizer)\n",
    "dnn_model_Dreg_sigm.summary()"
   ]
  },
  {
   "cell_type": "code",
   "execution_count": 92,
   "id": "experimental-mirror",
   "metadata": {},
   "outputs": [
    {
     "name": "stdout",
     "output_type": "stream",
     "text": [
      "Wall time: 1min 6s\n"
     ]
    }
   ],
   "source": [
    "%%time\n",
    "history = dnn_model_Dreg_sigm.fit(\n",
    "    train_features, train_labels,\n",
    "    validation_split=0.2,\n",
    "    verbose=0, epochs=500)"
   ]
  },
  {
   "cell_type": "code",
   "execution_count": 93,
   "id": "decimal-equilibrium",
   "metadata": {
    "scrolled": true
   },
   "outputs": [
    {
     "data": {
      "image/png": "[encoded data removed]",
      "text/plain": [
       "<Figure size 432x288 with 1 Axes>"
      ]
     },
     "metadata": {
      "needs_background": "light"
     },
     "output_type": "display_data"
    }
   ],
   "source": [
    "plot_loss(history)"
   ]
  },
  {
   "cell_type": "code",
   "execution_count": 94,
   "id": "warming-purchase",
   "metadata": {},
   "outputs": [],
   "source": [
    "test_results['dnn_model_Dreg_sigm'] = dnn_model_Dreg_sigm.evaluate(test_features, test_labels, verbose=0)"
   ]
  },
  {
   "cell_type": "code",
   "execution_count": 95,
   "id": "italian-intervention",
   "metadata": {
    "scrolled": true
   },
   "outputs": [
    {
     "data": {
      "text/html": [
       "<div>\n",
       "<style scoped>\n",
       "    .dataframe tbody tr th:only-of-type {\n",
       "        vertical-align: middle;\n",
       "    }\n",
       "\n",
       "    .dataframe tbody tr th {\n",
       "        vertical-align: top;\n",
       "    }\n",
       "\n",
       "    .dataframe thead th {\n",
       "        text-align: right;\n",
       "    }\n",
       "</style>\n",
       "<table border=\"1\" class=\"dataframe\">\n",
       "  <thead>\n",
       "    <tr style=\"text-align: right;\">\n",
       "      <th></th>\n",
       "      <th>Mean absolute error [7TageInzidenzFUTURE]</th>\n",
       "    </tr>\n",
       "  </thead>\n",
       "  <tbody>\n",
       "    <tr>\n",
       "      <th>linear_model</th>\n",
       "      <td>15.117590</td>\n",
       "    </tr>\n",
       "    <tr>\n",
       "      <th>linear_model_normalized</th>\n",
       "      <td>12.773072</td>\n",
       "    </tr>\n",
       "    <tr>\n",
       "      <th>dnn_model</th>\n",
       "      <td>11.564630</td>\n",
       "    </tr>\n",
       "    <tr>\n",
       "      <th>dnn_BIGmodel</th>\n",
       "      <td>12.548034</td>\n",
       "    </tr>\n",
       "    <tr>\n",
       "      <th>dnn_MEDmodel</th>\n",
       "      <td>12.309236</td>\n",
       "    </tr>\n",
       "    <tr>\n",
       "      <th>dnn_SMALLmodel</th>\n",
       "      <td>11.840031</td>\n",
       "    </tr>\n",
       "    <tr>\n",
       "      <th>dnn_model_nout</th>\n",
       "      <td>16.484837</td>\n",
       "    </tr>\n",
       "    <tr>\n",
       "      <th>dnn_model_reg</th>\n",
       "      <td>12.015050</td>\n",
       "    </tr>\n",
       "    <tr>\n",
       "      <th>dnn_model_drop</th>\n",
       "      <td>12.103974</td>\n",
       "    </tr>\n",
       "    <tr>\n",
       "      <th>dnn_model_Dreg</th>\n",
       "      <td>11.972919</td>\n",
       "    </tr>\n",
       "    <tr>\n",
       "      <th>dnn_model_Dreg_tanh</th>\n",
       "      <td>13.167227</td>\n",
       "    </tr>\n",
       "    <tr>\n",
       "      <th>dnn_model_Dreg_sigm</th>\n",
       "      <td>12.606232</td>\n",
       "    </tr>\n",
       "  </tbody>\n",
       "</table>\n",
       "</div>"
      ],
      "text/plain": [
       "                         Mean absolute error [7TageInzidenzFUTURE]\n",
       "linear_model                                             15.117590\n",
       "linear_model_normalized                                  12.773072\n",
       "dnn_model                                                11.564630\n",
       "dnn_BIGmodel                                             12.548034\n",
       "dnn_MEDmodel                                             12.309236\n",
       "dnn_SMALLmodel                                           11.840031\n",
       "dnn_model_nout                                           16.484837\n",
       "dnn_model_reg                                            12.015050\n",
       "dnn_model_drop                                           12.103974\n",
       "dnn_model_Dreg                                           11.972919\n",
       "dnn_model_Dreg_tanh                                      13.167227\n",
       "dnn_model_Dreg_sigm                                      12.606232"
      ]
     },
     "execution_count": 95,
     "metadata": {},
     "output_type": "execute_result"
    }
   ],
   "source": [
    "pd.DataFrame(test_results, index=['Mean absolute error [7TageInzidenzFUTURE]']).T"
   ]
  },
  {
   "cell_type": "markdown",
   "id": "level-price",
   "metadata": {},
   "source": [
    "## Regularisierung und Dropout - Batching"
   ]
  },
  {
   "cell_type": "code",
   "execution_count": 96,
   "id": "careful-allowance",
   "metadata": {},
   "outputs": [],
   "source": [
    "def build_and_compile_model_Dreg_batch(norm):\n",
    "  model = keras.Sequential([\n",
    "      norm,\n",
    "      layers.Dense(64, activation='relu', kernel_regularizer=regularizers.l2(0.001)),\n",
    "      layers.Dropout(0.2),\n",
    "      layers.Dense(64, activation='relu', kernel_regularizer=regularizers.l2(0.001)),\n",
    "      layers.Dropout(0.2),\n",
    "      layers.Dense(1)\n",
    "  ])\n",
    "\n",
    "  model.compile(loss='mean_absolute_error',\n",
    "                optimizer=tf.keras.optimizers.Adam(0.005))\n",
    "  return model"
   ]
  },
  {
   "cell_type": "code",
   "execution_count": 97,
   "id": "blessed-cassette",
   "metadata": {
    "scrolled": false
   },
   "outputs": [
    {
     "name": "stdout",
     "output_type": "stream",
     "text": [
      "Model: \"sequential_13\"\n",
      "_________________________________________________________________\n",
      "Layer (type)                 Output Shape              Param #   \n",
      "=================================================================\n",
      "normalization (Normalization (None, 32)                65        \n",
      "_________________________________________________________________\n",
      "dense_37 (Dense)             (None, 64)                2112      \n",
      "_________________________________________________________________\n",
      "dropout_8 (Dropout)          (None, 64)                0         \n",
      "_________________________________________________________________\n",
      "dense_38 (Dense)             (None, 64)                4160      \n",
      "_________________________________________________________________\n",
      "dropout_9 (Dropout)          (None, 64)                0         \n",
      "_________________________________________________________________\n",
      "dense_39 (Dense)             (None, 1)                 65        \n",
      "=================================================================\n",
      "Total params: 6,402\n",
      "Trainable params: 6,337\n",
      "Non-trainable params: 65\n",
      "_________________________________________________________________\n"
     ]
    }
   ],
   "source": [
    "dnn_model_Dreg_batch = build_and_compile_model_Dreg_batch(normalizer)\n",
    "dnn_model_Dreg_batch.summary()"
   ]
  },
  {
   "cell_type": "code",
   "execution_count": 98,
   "id": "fifth-thriller",
   "metadata": {},
   "outputs": [
    {
     "name": "stdout",
     "output_type": "stream",
     "text": [
      "Wall time: 1min 14s\n"
     ]
    }
   ],
   "source": [
    "%%time\n",
    "history = dnn_model_Dreg_batch.fit(\n",
    "    train_features, train_labels,\n",
    "    validation_split=0.2,\n",
    "    batch_size=128,\n",
    "    verbose=0, epochs=700)"
   ]
  },
  {
   "cell_type": "code",
   "execution_count": 99,
   "id": "micro-chancellor",
   "metadata": {
    "scrolled": true
   },
   "outputs": [
    {
     "data": {
      "image/png": "[encoded data removed]",
      "text/plain": [
       "<Figure size 432x288 with 1 Axes>"
      ]
     },
     "metadata": {
      "needs_background": "light"
     },
     "output_type": "display_data"
    }
   ],
   "source": [
    "plot_loss(history)"
   ]
  },
  {
   "cell_type": "code",
   "execution_count": 100,
   "id": "immediate-cardiff",
   "metadata": {},
   "outputs": [],
   "source": [
    "test_results['dnn_model_Dreg_batch'] = dnn_model_Dreg_batch.evaluate(test_features, test_labels, verbose=0)"
   ]
  },
  {
   "cell_type": "code",
   "execution_count": 101,
   "id": "novel-transfer",
   "metadata": {
    "scrolled": true
   },
   "outputs": [
    {
     "data": {
      "text/html": [
       "<div>\n",
       "<style scoped>\n",
       "    .dataframe tbody tr th:only-of-type {\n",
       "        vertical-align: middle;\n",
       "    }\n",
       "\n",
       "    .dataframe tbody tr th {\n",
       "        vertical-align: top;\n",
       "    }\n",
       "\n",
       "    .dataframe thead th {\n",
       "        text-align: right;\n",
       "    }\n",
       "</style>\n",
       "<table border=\"1\" class=\"dataframe\">\n",
       "  <thead>\n",
       "    <tr style=\"text-align: right;\">\n",
       "      <th></th>\n",
       "      <th>Mean absolute error [7TageInzidenzFUTURE]</th>\n",
       "    </tr>\n",
       "  </thead>\n",
       "  <tbody>\n",
       "    <tr>\n",
       "      <th>linear_model</th>\n",
       "      <td>15.117590</td>\n",
       "    </tr>\n",
       "    <tr>\n",
       "      <th>linear_model_normalized</th>\n",
       "      <td>12.773072</td>\n",
       "    </tr>\n",
       "    <tr>\n",
       "      <th>dnn_model</th>\n",
       "      <td>11.564630</td>\n",
       "    </tr>\n",
       "    <tr>\n",
       "      <th>dnn_BIGmodel</th>\n",
       "      <td>12.548034</td>\n",
       "    </tr>\n",
       "    <tr>\n",
       "      <th>dnn_MEDmodel</th>\n",
       "      <td>12.309236</td>\n",
       "    </tr>\n",
       "    <tr>\n",
       "      <th>dnn_SMALLmodel</th>\n",
       "      <td>11.840031</td>\n",
       "    </tr>\n",
       "    <tr>\n",
       "      <th>dnn_model_nout</th>\n",
       "      <td>16.484837</td>\n",
       "    </tr>\n",
       "    <tr>\n",
       "      <th>dnn_model_reg</th>\n",
       "      <td>12.015050</td>\n",
       "    </tr>\n",
       "    <tr>\n",
       "      <th>dnn_model_drop</th>\n",
       "      <td>12.103974</td>\n",
       "    </tr>\n",
       "    <tr>\n",
       "      <th>dnn_model_Dreg</th>\n",
       "      <td>11.972919</td>\n",
       "    </tr>\n",
       "    <tr>\n",
       "      <th>dnn_model_Dreg_tanh</th>\n",
       "      <td>13.167227</td>\n",
       "    </tr>\n",
       "    <tr>\n",
       "      <th>dnn_model_Dreg_sigm</th>\n",
       "      <td>12.606232</td>\n",
       "    </tr>\n",
       "    <tr>\n",
       "      <th>dnn_model_Dreg_batch</th>\n",
       "      <td>12.181569</td>\n",
       "    </tr>\n",
       "  </tbody>\n",
       "</table>\n",
       "</div>"
      ],
      "text/plain": [
       "                         Mean absolute error [7TageInzidenzFUTURE]\n",
       "linear_model                                             15.117590\n",
       "linear_model_normalized                                  12.773072\n",
       "dnn_model                                                11.564630\n",
       "dnn_BIGmodel                                             12.548034\n",
       "dnn_MEDmodel                                             12.309236\n",
       "dnn_SMALLmodel                                           11.840031\n",
       "dnn_model_nout                                           16.484837\n",
       "dnn_model_reg                                            12.015050\n",
       "dnn_model_drop                                           12.103974\n",
       "dnn_model_Dreg                                           11.972919\n",
       "dnn_model_Dreg_tanh                                      13.167227\n",
       "dnn_model_Dreg_sigm                                      12.606232\n",
       "dnn_model_Dreg_batch                                     12.181569"
      ]
     },
     "execution_count": 101,
     "metadata": {},
     "output_type": "execute_result"
    }
   ],
   "source": [
    "pd.DataFrame(test_results, index=['Mean absolute error [7TageInzidenzFUTURE]']).T"
   ]
  },
  {
   "cell_type": "markdown",
   "id": "executive-chester",
   "metadata": {},
   "source": [
    "## Big Model mit Regularisierung und Dropout"
   ]
  },
  {
   "cell_type": "code",
   "execution_count": 102,
   "id": "adaptive-angola",
   "metadata": {},
   "outputs": [],
   "source": [
    "def build_and_compile_BIGmodel_dr(norm):\n",
    "  model = keras.Sequential([\n",
    "      norm,\n",
    "      layers.Dense(256, activation='relu', kernel_regularizer=regularizers.l2(0.001)),\n",
    "      layers.Dropout(0.6),\n",
    "      layers.Dense(256, activation='relu', kernel_regularizer=regularizers.l2(0.001)),\n",
    "      layers.Dropout(0.6),\n",
    "      layers.Dense(1)\n",
    "  ])\n",
    "\n",
    "  model.compile(loss='mean_absolute_error',\n",
    "                optimizer=tf.keras.optimizers.Adam(0.001))\n",
    "  return model"
   ]
  },
  {
   "cell_type": "code",
   "execution_count": 103,
   "id": "ceramic-federation",
   "metadata": {
    "scrolled": true
   },
   "outputs": [
    {
     "name": "stdout",
     "output_type": "stream",
     "text": [
      "Model: \"sequential_14\"\n",
      "_________________________________________________________________\n",
      "Layer (type)                 Output Shape              Param #   \n",
      "=================================================================\n",
      "normalization (Normalization (None, 32)                65        \n",
      "_________________________________________________________________\n",
      "dense_40 (Dense)             (None, 256)               8448      \n",
      "_________________________________________________________________\n",
      "dropout_10 (Dropout)         (None, 256)               0         \n",
      "_________________________________________________________________\n",
      "dense_41 (Dense)             (None, 256)               65792     \n",
      "_________________________________________________________________\n",
      "dropout_11 (Dropout)         (None, 256)               0         \n",
      "_________________________________________________________________\n",
      "dense_42 (Dense)             (None, 1)                 257       \n",
      "=================================================================\n",
      "Total params: 74,562\n",
      "Trainable params: 74,497\n",
      "Non-trainable params: 65\n",
      "_________________________________________________________________\n"
     ]
    }
   ],
   "source": [
    "dnn_BIGmodel_dr = build_and_compile_BIGmodel_dr(normalizer)\n",
    "dnn_BIGmodel_dr.summary()"
   ]
  },
  {
   "cell_type": "code",
   "execution_count": 104,
   "id": "north-saver",
   "metadata": {},
   "outputs": [
    {
     "name": "stdout",
     "output_type": "stream",
     "text": [
      "Wall time: 50.4 s\n"
     ]
    }
   ],
   "source": [
    "%%time\n",
    "history = dnn_BIGmodel_dr.fit(\n",
    "    train_features, train_labels,\n",
    "    validation_split=0.2,\n",
    "    verbose=0, epochs=300)"
   ]
  },
  {
   "cell_type": "code",
   "execution_count": 105,
   "id": "meaningful-student",
   "metadata": {},
   "outputs": [
    {
     "data": {
      "image/png": "[encoded data removed]",
      "text/plain": [
       "<Figure size 432x288 with 1 Axes>"
      ]
     },
     "metadata": {
      "needs_background": "light"
     },
     "output_type": "display_data"
    }
   ],
   "source": [
    "plot_loss(history)"
   ]
  },
  {
   "cell_type": "code",
   "execution_count": 106,
   "id": "ambient-puppy",
   "metadata": {},
   "outputs": [],
   "source": [
    "test_results['dnn_BIGmodel_dr'] = dnn_BIGmodel_dr.evaluate(test_features, test_labels, verbose=0)"
   ]
  },
  {
   "cell_type": "code",
   "execution_count": 107,
   "id": "subtle-clothing",
   "metadata": {
    "scrolled": true
   },
   "outputs": [
    {
     "data": {
      "text/html": [
       "<div>\n",
       "<style scoped>\n",
       "    .dataframe tbody tr th:only-of-type {\n",
       "        vertical-align: middle;\n",
       "    }\n",
       "\n",
       "    .dataframe tbody tr th {\n",
       "        vertical-align: top;\n",
       "    }\n",
       "\n",
       "    .dataframe thead th {\n",
       "        text-align: right;\n",
       "    }\n",
       "</style>\n",
       "<table border=\"1\" class=\"dataframe\">\n",
       "  <thead>\n",
       "    <tr style=\"text-align: right;\">\n",
       "      <th></th>\n",
       "      <th>Mean absolute error [7TageInzidenzFUTURE]</th>\n",
       "    </tr>\n",
       "  </thead>\n",
       "  <tbody>\n",
       "    <tr>\n",
       "      <th>linear_model</th>\n",
       "      <td>15.117590</td>\n",
       "    </tr>\n",
       "    <tr>\n",
       "      <th>linear_model_normalized</th>\n",
       "      <td>12.773072</td>\n",
       "    </tr>\n",
       "    <tr>\n",
       "      <th>dnn_model</th>\n",
       "      <td>11.564630</td>\n",
       "    </tr>\n",
       "    <tr>\n",
       "      <th>dnn_BIGmodel</th>\n",
       "      <td>12.548034</td>\n",
       "    </tr>\n",
       "    <tr>\n",
       "      <th>dnn_MEDmodel</th>\n",
       "      <td>12.309236</td>\n",
       "    </tr>\n",
       "    <tr>\n",
       "      <th>dnn_SMALLmodel</th>\n",
       "      <td>11.840031</td>\n",
       "    </tr>\n",
       "    <tr>\n",
       "      <th>dnn_model_nout</th>\n",
       "      <td>16.484837</td>\n",
       "    </tr>\n",
       "    <tr>\n",
       "      <th>dnn_model_reg</th>\n",
       "      <td>12.015050</td>\n",
       "    </tr>\n",
       "    <tr>\n",
       "      <th>dnn_model_drop</th>\n",
       "      <td>12.103974</td>\n",
       "    </tr>\n",
       "    <tr>\n",
       "      <th>dnn_model_Dreg</th>\n",
       "      <td>11.972919</td>\n",
       "    </tr>\n",
       "    <tr>\n",
       "      <th>dnn_model_Dreg_tanh</th>\n",
       "      <td>13.167227</td>\n",
       "    </tr>\n",
       "    <tr>\n",
       "      <th>dnn_model_Dreg_sigm</th>\n",
       "      <td>12.606232</td>\n",
       "    </tr>\n",
       "    <tr>\n",
       "      <th>dnn_model_Dreg_batch</th>\n",
       "      <td>12.181569</td>\n",
       "    </tr>\n",
       "    <tr>\n",
       "      <th>dnn_BIGmodel_dr</th>\n",
       "      <td>12.318398</td>\n",
       "    </tr>\n",
       "  </tbody>\n",
       "</table>\n",
       "</div>"
      ],
      "text/plain": [
       "                         Mean absolute error [7TageInzidenzFUTURE]\n",
       "linear_model                                             15.117590\n",
       "linear_model_normalized                                  12.773072\n",
       "dnn_model                                                11.564630\n",
       "dnn_BIGmodel                                             12.548034\n",
       "dnn_MEDmodel                                             12.309236\n",
       "dnn_SMALLmodel                                           11.840031\n",
       "dnn_model_nout                                           16.484837\n",
       "dnn_model_reg                                            12.015050\n",
       "dnn_model_drop                                           12.103974\n",
       "dnn_model_Dreg                                           11.972919\n",
       "dnn_model_Dreg_tanh                                      13.167227\n",
       "dnn_model_Dreg_sigm                                      12.606232\n",
       "dnn_model_Dreg_batch                                     12.181569\n",
       "dnn_BIGmodel_dr                                          12.318398"
      ]
     },
     "execution_count": 107,
     "metadata": {},
     "output_type": "execute_result"
    }
   ],
   "source": [
    "pd.DataFrame(test_results, index=['Mean absolute error [7TageInzidenzFUTURE]']).T"
   ]
  },
  {
   "cell_type": "markdown",
   "id": "minute-joint",
   "metadata": {},
   "source": [
    "## Regularisierung und Dropout - Ohne Activation Functions"
   ]
  },
  {
   "cell_type": "code",
   "execution_count": 108,
   "id": "preliminary-balance",
   "metadata": {},
   "outputs": [],
   "source": [
    "def build_and_compile_model_Dreg_withoutAc(norm):\n",
    "  model = keras.Sequential([\n",
    "      norm,\n",
    "      layers.Dense(128, activation='relu', kernel_regularizer=regularizers.l2(0.005)),\n",
    "      layers.Dropout(0.5),\n",
    "      layers.Dense(128, activation='relu', kernel_regularizer=regularizers.l2(0.005)),\n",
    "      layers.Dropout(0.5),\n",
    "      layers.Dense(64, kernel_regularizer=regularizers.l2(0.005)),\n",
    "      layers.Dropout(0.5),\n",
    "      layers.Dense(1)\n",
    "  ])\n",
    "\n",
    "  model.compile(loss='mean_absolute_error',\n",
    "                optimizer=tf.keras.optimizers.Adam(0.001))\n",
    "  return model"
   ]
  },
  {
   "cell_type": "code",
   "execution_count": 109,
   "id": "devoted-carry",
   "metadata": {
    "scrolled": false
   },
   "outputs": [
    {
     "name": "stdout",
     "output_type": "stream",
     "text": [
      "Model: \"sequential_15\"\n",
      "_________________________________________________________________\n",
      "Layer (type)                 Output Shape              Param #   \n",
      "=================================================================\n",
      "normalization (Normalization (None, 32)                65        \n",
      "_________________________________________________________________\n",
      "dense_43 (Dense)             (None, 128)               4224      \n",
      "_________________________________________________________________\n",
      "dropout_12 (Dropout)         (None, 128)               0         \n",
      "_________________________________________________________________\n",
      "dense_44 (Dense)             (None, 128)               16512     \n",
      "_________________________________________________________________\n",
      "dropout_13 (Dropout)         (None, 128)               0         \n",
      "_________________________________________________________________\n",
      "dense_45 (Dense)             (None, 64)                8256      \n",
      "_________________________________________________________________\n",
      "dropout_14 (Dropout)         (None, 64)                0         \n",
      "_________________________________________________________________\n",
      "dense_46 (Dense)             (None, 1)                 65        \n",
      "=================================================================\n",
      "Total params: 29,122\n",
      "Trainable params: 29,057\n",
      "Non-trainable params: 65\n",
      "_________________________________________________________________\n"
     ]
    }
   ],
   "source": [
    "dnn_model_Dreg_withoutAc = build_and_compile_model_Dreg_withoutAc(normalizer)\n",
    "dnn_model_Dreg_withoutAc.summary()"
   ]
  },
  {
   "cell_type": "code",
   "execution_count": 110,
   "id": "vocational-commerce",
   "metadata": {},
   "outputs": [
    {
     "name": "stdout",
     "output_type": "stream",
     "text": [
      "Wall time: 1min 16s\n"
     ]
    }
   ],
   "source": [
    "%%time\n",
    "history = dnn_model_Dreg_withoutAc.fit(\n",
    "    train_features, train_labels,\n",
    "    validation_split=0.2,\n",
    "    verbose=0, epochs=500)"
   ]
  },
  {
   "cell_type": "code",
   "execution_count": 111,
   "id": "advisory-forward",
   "metadata": {
    "scrolled": true
   },
   "outputs": [
    {
     "data": {
      "image/png": "[encoded data removed]",
      "text/plain": [
       "<Figure size 432x288 with 1 Axes>"
      ]
     },
     "metadata": {
      "needs_background": "light"
     },
     "output_type": "display_data"
    }
   ],
   "source": [
    "plot_loss(history)"
   ]
  },
  {
   "cell_type": "code",
   "execution_count": 112,
   "id": "valid-killer",
   "metadata": {},
   "outputs": [],
   "source": [
    "test_results['dnn_model_Dreg_withoutAc'] = dnn_model_Dreg_withoutAc.evaluate(test_features, test_labels, verbose=0)"
   ]
  },
  {
   "cell_type": "code",
   "execution_count": 113,
   "id": "rubber-hughes",
   "metadata": {
    "scrolled": false
   },
   "outputs": [
    {
     "data": {
      "text/html": [
       "<div>\n",
       "<style scoped>\n",
       "    .dataframe tbody tr th:only-of-type {\n",
       "        vertical-align: middle;\n",
       "    }\n",
       "\n",
       "    .dataframe tbody tr th {\n",
       "        vertical-align: top;\n",
       "    }\n",
       "\n",
       "    .dataframe thead th {\n",
       "        text-align: right;\n",
       "    }\n",
       "</style>\n",
       "<table border=\"1\" class=\"dataframe\">\n",
       "  <thead>\n",
       "    <tr style=\"text-align: right;\">\n",
       "      <th></th>\n",
       "      <th>Mean absolute error [7TageInzidenzFUTURE]</th>\n",
       "    </tr>\n",
       "  </thead>\n",
       "  <tbody>\n",
       "    <tr>\n",
       "      <th>linear_model</th>\n",
       "      <td>15.117590</td>\n",
       "    </tr>\n",
       "    <tr>\n",
       "      <th>linear_model_normalized</th>\n",
       "      <td>12.773072</td>\n",
       "    </tr>\n",
       "    <tr>\n",
       "      <th>dnn_model</th>\n",
       "      <td>11.564630</td>\n",
       "    </tr>\n",
       "    <tr>\n",
       "      <th>dnn_BIGmodel</th>\n",
       "      <td>12.548034</td>\n",
       "    </tr>\n",
       "    <tr>\n",
       "      <th>dnn_MEDmodel</th>\n",
       "      <td>12.309236</td>\n",
       "    </tr>\n",
       "    <tr>\n",
       "      <th>dnn_SMALLmodel</th>\n",
       "      <td>11.840031</td>\n",
       "    </tr>\n",
       "    <tr>\n",
       "      <th>dnn_model_nout</th>\n",
       "      <td>16.484837</td>\n",
       "    </tr>\n",
       "    <tr>\n",
       "      <th>dnn_model_reg</th>\n",
       "      <td>12.015050</td>\n",
       "    </tr>\n",
       "    <tr>\n",
       "      <th>dnn_model_drop</th>\n",
       "      <td>12.103974</td>\n",
       "    </tr>\n",
       "    <tr>\n",
       "      <th>dnn_model_Dreg</th>\n",
       "      <td>11.972919</td>\n",
       "    </tr>\n",
       "    <tr>\n",
       "      <th>dnn_model_Dreg_tanh</th>\n",
       "      <td>13.167227</td>\n",
       "    </tr>\n",
       "    <tr>\n",
       "      <th>dnn_model_Dreg_sigm</th>\n",
       "      <td>12.606232</td>\n",
       "    </tr>\n",
       "    <tr>\n",
       "      <th>dnn_model_Dreg_batch</th>\n",
       "      <td>12.181569</td>\n",
       "    </tr>\n",
       "    <tr>\n",
       "      <th>dnn_BIGmodel_dr</th>\n",
       "      <td>12.318398</td>\n",
       "    </tr>\n",
       "    <tr>\n",
       "      <th>dnn_model_Dreg_withoutAc</th>\n",
       "      <td>13.561934</td>\n",
       "    </tr>\n",
       "  </tbody>\n",
       "</table>\n",
       "</div>"
      ],
      "text/plain": [
       "                          Mean absolute error [7TageInzidenzFUTURE]\n",
       "linear_model                                              15.117590\n",
       "linear_model_normalized                                   12.773072\n",
       "dnn_model                                                 11.564630\n",
       "dnn_BIGmodel                                              12.548034\n",
       "dnn_MEDmodel                                              12.309236\n",
       "dnn_SMALLmodel                                            11.840031\n",
       "dnn_model_nout                                            16.484837\n",
       "dnn_model_reg                                             12.015050\n",
       "dnn_model_drop                                            12.103974\n",
       "dnn_model_Dreg                                            11.972919\n",
       "dnn_model_Dreg_tanh                                       13.167227\n",
       "dnn_model_Dreg_sigm                                       12.606232\n",
       "dnn_model_Dreg_batch                                      12.181569\n",
       "dnn_BIGmodel_dr                                           12.318398\n",
       "dnn_model_Dreg_withoutAc                                  13.561934"
      ]
     },
     "execution_count": 113,
     "metadata": {},
     "output_type": "execute_result"
    }
   ],
   "source": [
    "pd.DataFrame(test_results, index=['Mean absolute error [7TageInzidenzFUTURE]']).T"
   ]
  },
  {
   "cell_type": "code",
   "execution_count": null,
   "id": "oriented-saudi",
   "metadata": {},
   "outputs": [],
   "source": []
  },
  {
   "cell_type": "code",
   "execution_count": null,
   "id": "terminal-brother",
   "metadata": {},
   "outputs": [],
   "source": []
  },
  {
   "cell_type": "code",
   "execution_count": null,
   "id": "mathematical-rwanda",
   "metadata": {},
   "outputs": [],
   "source": []
  },
  {
   "cell_type": "code",
   "execution_count": null,
   "id": "amended-polymer",
   "metadata": {},
   "outputs": [],
   "source": []
  },
  {
   "cell_type": "code",
   "execution_count": null,
   "id": "covered-quarter",
   "metadata": {},
   "outputs": [],
   "source": []
  },
  {
   "cell_type": "code",
   "execution_count": null,
   "id": "infinite-retreat",
   "metadata": {},
   "outputs": [],
   "source": []
  },
  {
   "cell_type": "code",
   "execution_count": null,
   "id": "buried-dairy",
   "metadata": {},
   "outputs": [],
   "source": []
  }
 ],
 "metadata": {
  "kernelspec": {
   "display_name": "Python 3",
   "language": "python",
   "name": "python3"
  },
  "language_info": {
   "codemirror_mode": {
    "name": "ipython",
    "version": 3
   },
   "file_extension": ".py",
   "mimetype": "text/x-python",
   "name": "python",
   "nbconvert_exporter": "python",
   "pygments_lexer": "ipython3",
   "version": "3.7.9"
  }
 },
 "nbformat": 4,
 "nbformat_minor": 5
}
