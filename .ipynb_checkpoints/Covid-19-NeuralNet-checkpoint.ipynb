{
 "cells": [
  {
   "cell_type": "markdown",
   "id": "textile-empire",
   "metadata": {},
   "source": [
    "# Neuronale Netze\n",
    "\n",
    "\n",
    "Links:\n",
    "https://www.h2kinfosys.com/blog/linear-regression-with-keras-on-tensorflow/"
   ]
  },
  {
   "cell_type": "markdown",
   "id": "conventional-austria",
   "metadata": {},
   "source": [
    "Papers:\n",
    "\n",
    "Neural network powered COVID-19 spread forecasting model\n",
    "https://www.ncbi.nlm.nih.gov/pmc/articles/PMC7428770/\n",
    "\n",
    "Scaling regression inputs by dividing by two standard deviations\n",
    "http://www.stat.columbia.edu/~gelman/research/published/standardizing7.pdf"
   ]
  },
  {
   "cell_type": "code",
   "execution_count": null,
   "id": "portuguese-criminal",
   "metadata": {},
   "outputs": [],
   "source": []
  },
  {
   "cell_type": "code",
   "execution_count": 1,
   "id": "dramatic-circus",
   "metadata": {},
   "outputs": [],
   "source": [
    "import io\n",
    "import urllib\n",
    "import datetime\n",
    "from datetime import timedelta\n",
    "import numpy as np\n",
    "import pandas as pd\n",
    "import matplotlib as mpl\n",
    "import matplotlib.pyplot as plt\n",
    "import seaborn as sns\n",
    "from progressbar import ProgressBar\n",
    "import time\n",
    "\n",
    "from datetime import datetime"
   ]
  },
  {
   "cell_type": "code",
   "execution_count": 2,
   "id": "extended-microphone",
   "metadata": {},
   "outputs": [],
   "source": [
    "np.set_printoptions(precision=3, suppress=True)\n",
    "\n",
    "import tensorflow as tf\n",
    "\n",
    "from tensorflow import keras\n",
    "from tensorflow.keras import layers\n",
    "from tensorflow.keras.layers.experimental import preprocessing\n"
   ]
  },
  {
   "cell_type": "code",
   "execution_count": 3,
   "id": "cheap-peripheral",
   "metadata": {},
   "outputs": [
    {
     "data": {
      "text/html": [
       "<div>\n",
       "<style scoped>\n",
       "    .dataframe tbody tr th:only-of-type {\n",
       "        vertical-align: middle;\n",
       "    }\n",
       "\n",
       "    .dataframe tbody tr th {\n",
       "        vertical-align: top;\n",
       "    }\n",
       "\n",
       "    .dataframe thead th {\n",
       "        text-align: right;\n",
       "    }\n",
       "</style>\n",
       "<table border=\"1\" class=\"dataframe\">\n",
       "  <thead>\n",
       "    <tr style=\"text-align: right;\">\n",
       "      <th></th>\n",
       "      <th>IdLandkreis</th>\n",
       "      <th>Meldedatum</th>\n",
       "      <th>AnzahlFall</th>\n",
       "      <th>AnzahlGenesen</th>\n",
       "      <th>AnzahlFall&gt;59</th>\n",
       "      <th>Landkreis</th>\n",
       "      <th>Bevölkerung gesamt</th>\n",
       "      <th>Ü65%</th>\n",
       "      <th>Ausländer%</th>\n",
       "      <th>Bevölkerungsdichte EW/km²</th>\n",
       "      <th>...</th>\n",
       "      <th>hcutTW</th>\n",
       "      <th>hcutGANZ</th>\n",
       "      <th>ess_shpsTW</th>\n",
       "      <th>schoolTW</th>\n",
       "      <th>daycareTW</th>\n",
       "      <th>1to5friends</th>\n",
       "      <th>churchTW</th>\n",
       "      <th>churchGANZ</th>\n",
       "      <th>personen_erst_kumulativ</th>\n",
       "      <th>personen_voll_kumulativ</th>\n",
       "    </tr>\n",
       "  </thead>\n",
       "  <tbody>\n",
       "    <tr>\n",
       "      <th>0</th>\n",
       "      <td>8111</td>\n",
       "      <td>2020-03-07</td>\n",
       "      <td>5</td>\n",
       "      <td>5</td>\n",
       "      <td>0</td>\n",
       "      <td>SK Stuttgart</td>\n",
       "      <td>645315</td>\n",
       "      <td>0.176218</td>\n",
       "      <td>0.249539</td>\n",
       "      <td>3067</td>\n",
       "      <td>...</td>\n",
       "      <td>0</td>\n",
       "      <td>0</td>\n",
       "      <td>0</td>\n",
       "      <td>0</td>\n",
       "      <td>0</td>\n",
       "      <td>0</td>\n",
       "      <td>0</td>\n",
       "      <td>0</td>\n",
       "      <td>0.000000</td>\n",
       "      <td>0.000000</td>\n",
       "    </tr>\n",
       "    <tr>\n",
       "      <th>1</th>\n",
       "      <td>8111</td>\n",
       "      <td>2020-03-14</td>\n",
       "      <td>78</td>\n",
       "      <td>78</td>\n",
       "      <td>3</td>\n",
       "      <td>SK Stuttgart</td>\n",
       "      <td>645315</td>\n",
       "      <td>0.176218</td>\n",
       "      <td>0.249539</td>\n",
       "      <td>3067</td>\n",
       "      <td>...</td>\n",
       "      <td>0</td>\n",
       "      <td>0</td>\n",
       "      <td>0</td>\n",
       "      <td>0</td>\n",
       "      <td>0</td>\n",
       "      <td>0</td>\n",
       "      <td>0</td>\n",
       "      <td>0</td>\n",
       "      <td>0.000000</td>\n",
       "      <td>0.000000</td>\n",
       "    </tr>\n",
       "    <tr>\n",
       "      <th>2</th>\n",
       "      <td>8111</td>\n",
       "      <td>2020-03-21</td>\n",
       "      <td>310</td>\n",
       "      <td>303</td>\n",
       "      <td>41</td>\n",
       "      <td>SK Stuttgart</td>\n",
       "      <td>645315</td>\n",
       "      <td>0.176218</td>\n",
       "      <td>0.249539</td>\n",
       "      <td>3067</td>\n",
       "      <td>...</td>\n",
       "      <td>0</td>\n",
       "      <td>1</td>\n",
       "      <td>1</td>\n",
       "      <td>1</td>\n",
       "      <td>1</td>\n",
       "      <td>1</td>\n",
       "      <td>0</td>\n",
       "      <td>1</td>\n",
       "      <td>0.000000</td>\n",
       "      <td>0.000000</td>\n",
       "    </tr>\n",
       "    <tr>\n",
       "      <th>3</th>\n",
       "      <td>8111</td>\n",
       "      <td>2020-03-28</td>\n",
       "      <td>275</td>\n",
       "      <td>261</td>\n",
       "      <td>65</td>\n",
       "      <td>SK Stuttgart</td>\n",
       "      <td>645315</td>\n",
       "      <td>0.176218</td>\n",
       "      <td>0.249539</td>\n",
       "      <td>3067</td>\n",
       "      <td>...</td>\n",
       "      <td>0</td>\n",
       "      <td>1</td>\n",
       "      <td>1</td>\n",
       "      <td>1</td>\n",
       "      <td>1</td>\n",
       "      <td>1</td>\n",
       "      <td>0</td>\n",
       "      <td>1</td>\n",
       "      <td>0.000000</td>\n",
       "      <td>0.000000</td>\n",
       "    </tr>\n",
       "    <tr>\n",
       "      <th>4</th>\n",
       "      <td>8111</td>\n",
       "      <td>2020-04-04</td>\n",
       "      <td>237</td>\n",
       "      <td>225</td>\n",
       "      <td>65</td>\n",
       "      <td>SK Stuttgart</td>\n",
       "      <td>645315</td>\n",
       "      <td>0.176218</td>\n",
       "      <td>0.249539</td>\n",
       "      <td>3067</td>\n",
       "      <td>...</td>\n",
       "      <td>0</td>\n",
       "      <td>1</td>\n",
       "      <td>1</td>\n",
       "      <td>1</td>\n",
       "      <td>1</td>\n",
       "      <td>1</td>\n",
       "      <td>0</td>\n",
       "      <td>1</td>\n",
       "      <td>0.000000</td>\n",
       "      <td>0.000000</td>\n",
       "    </tr>\n",
       "    <tr>\n",
       "      <th>...</th>\n",
       "      <td>...</td>\n",
       "      <td>...</td>\n",
       "      <td>...</td>\n",
       "      <td>...</td>\n",
       "      <td>...</td>\n",
       "      <td>...</td>\n",
       "      <td>...</td>\n",
       "      <td>...</td>\n",
       "      <td>...</td>\n",
       "      <td>...</td>\n",
       "      <td>...</td>\n",
       "      <td>...</td>\n",
       "      <td>...</td>\n",
       "      <td>...</td>\n",
       "      <td>...</td>\n",
       "      <td>...</td>\n",
       "      <td>...</td>\n",
       "      <td>...</td>\n",
       "      <td>...</td>\n",
       "      <td>...</td>\n",
       "      <td>...</td>\n",
       "    </tr>\n",
       "    <tr>\n",
       "      <th>2213</th>\n",
       "      <td>8437</td>\n",
       "      <td>2021-01-30</td>\n",
       "      <td>129</td>\n",
       "      <td>128</td>\n",
       "      <td>20</td>\n",
       "      <td>LK Sigmaringen</td>\n",
       "      <td>131950</td>\n",
       "      <td>0.212952</td>\n",
       "      <td>0.113027</td>\n",
       "      <td>109</td>\n",
       "      <td>...</td>\n",
       "      <td>1</td>\n",
       "      <td>0</td>\n",
       "      <td>0</td>\n",
       "      <td>1</td>\n",
       "      <td>1</td>\n",
       "      <td>1</td>\n",
       "      <td>0</td>\n",
       "      <td>1</td>\n",
       "      <td>0.023066</td>\n",
       "      <td>0.006535</td>\n",
       "    </tr>\n",
       "    <tr>\n",
       "      <th>2214</th>\n",
       "      <td>8437</td>\n",
       "      <td>2021-02-06</td>\n",
       "      <td>93</td>\n",
       "      <td>93</td>\n",
       "      <td>11</td>\n",
       "      <td>LK Sigmaringen</td>\n",
       "      <td>131950</td>\n",
       "      <td>0.212952</td>\n",
       "      <td>0.113027</td>\n",
       "      <td>109</td>\n",
       "      <td>...</td>\n",
       "      <td>0</td>\n",
       "      <td>1</td>\n",
       "      <td>0</td>\n",
       "      <td>1</td>\n",
       "      <td>1</td>\n",
       "      <td>1</td>\n",
       "      <td>1</td>\n",
       "      <td>0</td>\n",
       "      <td>0.027512</td>\n",
       "      <td>0.011970</td>\n",
       "    </tr>\n",
       "    <tr>\n",
       "      <th>2215</th>\n",
       "      <td>8437</td>\n",
       "      <td>2021-02-13</td>\n",
       "      <td>44</td>\n",
       "      <td>44</td>\n",
       "      <td>9</td>\n",
       "      <td>LK Sigmaringen</td>\n",
       "      <td>131950</td>\n",
       "      <td>0.212952</td>\n",
       "      <td>0.113027</td>\n",
       "      <td>109</td>\n",
       "      <td>...</td>\n",
       "      <td>0</td>\n",
       "      <td>1</td>\n",
       "      <td>0</td>\n",
       "      <td>1</td>\n",
       "      <td>1</td>\n",
       "      <td>1</td>\n",
       "      <td>1</td>\n",
       "      <td>0</td>\n",
       "      <td>0.032763</td>\n",
       "      <td>0.016995</td>\n",
       "    </tr>\n",
       "    <tr>\n",
       "      <th>2216</th>\n",
       "      <td>8437</td>\n",
       "      <td>2021-02-20</td>\n",
       "      <td>40</td>\n",
       "      <td>40</td>\n",
       "      <td>11</td>\n",
       "      <td>LK Sigmaringen</td>\n",
       "      <td>131950</td>\n",
       "      <td>0.212952</td>\n",
       "      <td>0.113027</td>\n",
       "      <td>109</td>\n",
       "      <td>...</td>\n",
       "      <td>0</td>\n",
       "      <td>1</td>\n",
       "      <td>0</td>\n",
       "      <td>1</td>\n",
       "      <td>1</td>\n",
       "      <td>1</td>\n",
       "      <td>1</td>\n",
       "      <td>0</td>\n",
       "      <td>0.039396</td>\n",
       "      <td>0.020998</td>\n",
       "    </tr>\n",
       "    <tr>\n",
       "      <th>2217</th>\n",
       "      <td>8437</td>\n",
       "      <td>2021-02-27</td>\n",
       "      <td>80</td>\n",
       "      <td>78</td>\n",
       "      <td>14</td>\n",
       "      <td>LK Sigmaringen</td>\n",
       "      <td>131950</td>\n",
       "      <td>0.212952</td>\n",
       "      <td>0.113027</td>\n",
       "      <td>109</td>\n",
       "      <td>...</td>\n",
       "      <td>0</td>\n",
       "      <td>1</td>\n",
       "      <td>0</td>\n",
       "      <td>1</td>\n",
       "      <td>1</td>\n",
       "      <td>1</td>\n",
       "      <td>1</td>\n",
       "      <td>0</td>\n",
       "      <td>0.048363</td>\n",
       "      <td>0.025158</td>\n",
       "    </tr>\n",
       "  </tbody>\n",
       "</table>\n",
       "<p>2218 rows × 40 columns</p>\n",
       "</div>"
      ],
      "text/plain": [
       "      IdLandkreis Meldedatum  AnzahlFall  AnzahlGenesen  AnzahlFall>59  \\\n",
       "0            8111 2020-03-07           5              5              0   \n",
       "1            8111 2020-03-14          78             78              3   \n",
       "2            8111 2020-03-21         310            303             41   \n",
       "3            8111 2020-03-28         275            261             65   \n",
       "4            8111 2020-04-04         237            225             65   \n",
       "...           ...        ...         ...            ...            ...   \n",
       "2213         8437 2021-01-30         129            128             20   \n",
       "2214         8437 2021-02-06          93             93             11   \n",
       "2215         8437 2021-02-13          44             44              9   \n",
       "2216         8437 2021-02-20          40             40             11   \n",
       "2217         8437 2021-02-27          80             78             14   \n",
       "\n",
       "           Landkreis  Bevölkerung gesamt      Ü65%  Ausländer%  \\\n",
       "0       SK Stuttgart              645315  0.176218    0.249539   \n",
       "1       SK Stuttgart              645315  0.176218    0.249539   \n",
       "2       SK Stuttgart              645315  0.176218    0.249539   \n",
       "3       SK Stuttgart              645315  0.176218    0.249539   \n",
       "4       SK Stuttgart              645315  0.176218    0.249539   \n",
       "...              ...                 ...       ...         ...   \n",
       "2213  LK Sigmaringen              131950  0.212952    0.113027   \n",
       "2214  LK Sigmaringen              131950  0.212952    0.113027   \n",
       "2215  LK Sigmaringen              131950  0.212952    0.113027   \n",
       "2216  LK Sigmaringen              131950  0.212952    0.113027   \n",
       "2217  LK Sigmaringen              131950  0.212952    0.113027   \n",
       "\n",
       "      Bevölkerungsdichte EW/km²  ...  hcutTW  hcutGANZ  ess_shpsTW  schoolTW  \\\n",
       "0                          3067  ...       0         0           0         0   \n",
       "1                          3067  ...       0         0           0         0   \n",
       "2                          3067  ...       0         1           1         1   \n",
       "3                          3067  ...       0         1           1         1   \n",
       "4                          3067  ...       0         1           1         1   \n",
       "...                         ...  ...     ...       ...         ...       ...   \n",
       "2213                        109  ...       1         0           0         1   \n",
       "2214                        109  ...       0         1           0         1   \n",
       "2215                        109  ...       0         1           0         1   \n",
       "2216                        109  ...       0         1           0         1   \n",
       "2217                        109  ...       0         1           0         1   \n",
       "\n",
       "      daycareTW  1to5friends  churchTW  churchGANZ  personen_erst_kumulativ  \\\n",
       "0             0            0         0           0                 0.000000   \n",
       "1             0            0         0           0                 0.000000   \n",
       "2             1            1         0           1                 0.000000   \n",
       "3             1            1         0           1                 0.000000   \n",
       "4             1            1         0           1                 0.000000   \n",
       "...         ...          ...       ...         ...                      ...   \n",
       "2213          1            1         0           1                 0.023066   \n",
       "2214          1            1         1           0                 0.027512   \n",
       "2215          1            1         1           0                 0.032763   \n",
       "2216          1            1         1           0                 0.039396   \n",
       "2217          1            1         1           0                 0.048363   \n",
       "\n",
       "      personen_voll_kumulativ  \n",
       "0                    0.000000  \n",
       "1                    0.000000  \n",
       "2                    0.000000  \n",
       "3                    0.000000  \n",
       "4                    0.000000  \n",
       "...                       ...  \n",
       "2213                 0.006535  \n",
       "2214                 0.011970  \n",
       "2215                 0.016995  \n",
       "2216                 0.020998  \n",
       "2217                 0.025158  \n",
       "\n",
       "[2218 rows x 40 columns]"
      ]
     },
     "execution_count": 3,
     "metadata": {},
     "output_type": "execute_result"
    }
   ],
   "source": [
    "data_all = pd.read_csv(\"data_all.csv\")\n",
    "data_all[\"Meldedatum\"] = pd.to_datetime(data_all[\"Meldedatum\"]) #- pd.to_timedelta(7, unit='d')\n",
    "data_all"
   ]
  },
  {
   "cell_type": "code",
   "execution_count": 4,
   "id": "powered-reproduction",
   "metadata": {
    "scrolled": true
   },
   "outputs": [],
   "source": [
    "#data_all.isna().sum()"
   ]
  },
  {
   "cell_type": "code",
   "execution_count": 5,
   "id": "quarterly-underground",
   "metadata": {
    "scrolled": true
   },
   "outputs": [
    {
     "data": {
      "text/plain": [
       "IdLandkreis                           int64\n",
       "Meldedatum                   datetime64[ns]\n",
       "AnzahlFall                            int64\n",
       "AnzahlGenesen                         int64\n",
       "AnzahlFall>59                         int64\n",
       "Landkreis                            object\n",
       "Bevölkerung gesamt                    int64\n",
       "Ü65%                                float64\n",
       "Ausländer%                          float64\n",
       "Bevölkerungsdichte EW/km²             int64\n",
       "Temperatur                          float64\n",
       "BIPK                                float64\n",
       "Bgast                                 int64\n",
       "Bgesund                               int64\n",
       "afd21                               float64\n",
       "GoogleCorona                          int64\n",
       "GoogleUrlaub                          int64\n",
       "7dInzidenz                          float64\n",
       "7dInzidenzFall>59                   float64\n",
       "AnzahlFall>59%                      float64\n",
       "AnzahlGenesenLandkreis                int64\n",
       "AnzahlGenesenLandkreis%             float64\n",
       "leavehome                             int64\n",
       "dist                                  int64\n",
       "trvl                                  int64\n",
       "gastr                                 int64\n",
       "mskÖPVN                               int64\n",
       "mskÖFF                                int64\n",
       "shppngTW                              int64\n",
       "shppngGANZ                            int64\n",
       "hcutTW                                int64\n",
       "hcutGANZ                              int64\n",
       "ess_shpsTW                            int64\n",
       "schoolTW                              int64\n",
       "daycareTW                             int64\n",
       "1to5friends                           int64\n",
       "churchTW                              int64\n",
       "churchGANZ                            int64\n",
       "personen_erst_kumulativ             float64\n",
       "personen_voll_kumulativ             float64\n",
       "dtype: object"
      ]
     },
     "execution_count": 5,
     "metadata": {},
     "output_type": "execute_result"
    }
   ],
   "source": [
    "data_all.dtypes"
   ]
  },
  {
   "cell_type": "code",
   "execution_count": 6,
   "id": "practical-aurora",
   "metadata": {},
   "outputs": [],
   "source": [
    "# data_y = data_all[[\"IdLandkreis\", \"Meldedatum\", \"7dInzidenz\", \"AnzahlFall\"]].copy()\n",
    "# data_y.Meldedatum = data_y.Meldedatum - pd.to_timedelta(7, unit='d')\n",
    "# data_y = data_y.rename(columns={\"7dInzidenz\": \"7dInzidenzFUTURE\", \"AnzahlFall\": \"AnzahlFallFUTURE\" })"
   ]
  },
  {
   "cell_type": "code",
   "execution_count": 7,
   "id": "heard-southeast",
   "metadata": {},
   "outputs": [
    {
     "data": {
      "text/plain": [
       "<bound method NDFrame.head of       IdLandkreis Meldedatum  AnzahlFall  AnzahlGenesen  AnzahlFall>59  \\\n",
       "0            8111 2020-03-07           5              5              0   \n",
       "1            8111 2020-03-14          78             78              3   \n",
       "2            8111 2020-03-21         310            303             41   \n",
       "3            8111 2020-03-28         275            261             65   \n",
       "4            8111 2020-04-04         237            225             65   \n",
       "...           ...        ...         ...            ...            ...   \n",
       "2119         8437 2021-01-23         107            104             24   \n",
       "2120         8437 2021-01-30         129            128             20   \n",
       "2121         8437 2021-02-06          93             93             11   \n",
       "2122         8437 2021-02-13          44             44              9   \n",
       "2123         8437 2021-02-20          40             40             11   \n",
       "\n",
       "           Landkreis  Bevölkerung gesamt      Ü65%  Ausländer%  \\\n",
       "0       SK Stuttgart              645315  0.176218    0.249539   \n",
       "1       SK Stuttgart              645315  0.176218    0.249539   \n",
       "2       SK Stuttgart              645315  0.176218    0.249539   \n",
       "3       SK Stuttgart              645315  0.176218    0.249539   \n",
       "4       SK Stuttgart              645315  0.176218    0.249539   \n",
       "...              ...                 ...       ...         ...   \n",
       "2119  LK Sigmaringen              131950  0.212952    0.113027   \n",
       "2120  LK Sigmaringen              131950  0.212952    0.113027   \n",
       "2121  LK Sigmaringen              131950  0.212952    0.113027   \n",
       "2122  LK Sigmaringen              131950  0.212952    0.113027   \n",
       "2123  LK Sigmaringen              131950  0.212952    0.113027   \n",
       "\n",
       "      Bevölkerungsdichte EW/km²  ...  ess_shpsTW  schoolTW  daycareTW  \\\n",
       "0                          3067  ...           0         0          0   \n",
       "1                          3067  ...           0         0          0   \n",
       "2                          3067  ...           1         1          1   \n",
       "3                          3067  ...           1         1          1   \n",
       "4                          3067  ...           1         1          1   \n",
       "...                         ...  ...         ...       ...        ...   \n",
       "2119                        109  ...           0         1          1   \n",
       "2120                        109  ...           0         1          1   \n",
       "2121                        109  ...           0         1          1   \n",
       "2122                        109  ...           0         1          1   \n",
       "2123                        109  ...           0         1          1   \n",
       "\n",
       "      1to5friends  churchTW  churchGANZ  personen_erst_kumulativ  \\\n",
       "0               0         0           0                 0.000000   \n",
       "1               0         0           0                 0.000000   \n",
       "2               1         0           1                 0.000000   \n",
       "3               1         0           1                 0.000000   \n",
       "4               1         0           1                 0.000000   \n",
       "...           ...       ...         ...                      ...   \n",
       "2119            1         0           1                 0.018880   \n",
       "2120            1         0           1                 0.023066   \n",
       "2121            1         1           0                 0.027512   \n",
       "2122            1         1           0                 0.032763   \n",
       "2123            1         1           0                 0.039396   \n",
       "\n",
       "      personen_voll_kumulativ  7dInzidenzFUTURE  AnzahlFallFUTURE  \n",
       "0                    0.000000         12.087120                78  \n",
       "1                    0.000000         48.038555               310  \n",
       "2                    0.000000         42.614847               275  \n",
       "3                    0.000000         36.726250               237  \n",
       "4                    0.000000         23.864314               154  \n",
       "...                       ...               ...               ...  \n",
       "2119                 0.002625         97.764305               129  \n",
       "2120                 0.006535         70.481243                93  \n",
       "2121                 0.011970         33.345964                44  \n",
       "2122                 0.016995         30.314513                40  \n",
       "2123                 0.020998         60.629026                80  \n",
       "\n",
       "[2124 rows x 42 columns]>"
      ]
     },
     "execution_count": 7,
     "metadata": {},
     "output_type": "execute_result"
    }
   ],
   "source": [
    "# data_all = pd.merge(data_all, data_y, how=\"inner\", on=[\"IdLandkreis\", \"Meldedatum\"])\n",
    "# data_all.head\n",
    "# #data_all.isna().sum()"
   ]
  },
  {
   "cell_type": "markdown",
   "id": "instant-cradle",
   "metadata": {},
   "source": [
    "# Modell Nr. 1\n",
    "\n",
    "<br>\n",
    "\n",
    "Einfache Voraussage über features\n",
    "\n",
    "<br>"
   ]
  },
  {
   "cell_type": "code",
   "execution_count": 8,
   "id": "light-pattern",
   "metadata": {},
   "outputs": [
    {
     "data": {
      "text/html": [
       "<div>\n",
       "<style scoped>\n",
       "    .dataframe tbody tr th:only-of-type {\n",
       "        vertical-align: middle;\n",
       "    }\n",
       "\n",
       "    .dataframe tbody tr th {\n",
       "        vertical-align: top;\n",
       "    }\n",
       "\n",
       "    .dataframe thead th {\n",
       "        text-align: right;\n",
       "    }\n",
       "</style>\n",
       "<table border=\"1\" class=\"dataframe\">\n",
       "  <thead>\n",
       "    <tr style=\"text-align: right;\">\n",
       "      <th></th>\n",
       "      <th>7dInzidenz</th>\n",
       "      <th>Ü65%</th>\n",
       "      <th>Ausländer%</th>\n",
       "      <th>Bevölkerungsdichte EW/km²</th>\n",
       "      <th>Temperatur</th>\n",
       "      <th>BIPK</th>\n",
       "      <th>BgastP</th>\n",
       "      <th>BgesundP</th>\n",
       "      <th>afd21</th>\n",
       "      <th>GoogleCorona</th>\n",
       "      <th>...</th>\n",
       "      <th>hcutGANZ</th>\n",
       "      <th>ess_shpsTW</th>\n",
       "      <th>schoolTW</th>\n",
       "      <th>daycareTW</th>\n",
       "      <th>1to5friends</th>\n",
       "      <th>churchTW</th>\n",
       "      <th>churchGANZ</th>\n",
       "      <th>personen_erst_kumulativ</th>\n",
       "      <th>personen_voll_kumulativ</th>\n",
       "      <th>7dInzidenzFUTURE</th>\n",
       "    </tr>\n",
       "  </thead>\n",
       "  <tbody>\n",
       "    <tr>\n",
       "      <th>1</th>\n",
       "      <td>12.087120</td>\n",
       "      <td>0.176218</td>\n",
       "      <td>0.249539</td>\n",
       "      <td>3067</td>\n",
       "      <td>7.49</td>\n",
       "      <td>88.900769</td>\n",
       "      <td>0.018617</td>\n",
       "      <td>0.074313</td>\n",
       "      <td>12.775</td>\n",
       "      <td>100</td>\n",
       "      <td>...</td>\n",
       "      <td>0</td>\n",
       "      <td>0</td>\n",
       "      <td>0</td>\n",
       "      <td>0</td>\n",
       "      <td>0</td>\n",
       "      <td>0</td>\n",
       "      <td>0</td>\n",
       "      <td>0.000000</td>\n",
       "      <td>0.000000</td>\n",
       "      <td>48.038555</td>\n",
       "    </tr>\n",
       "    <tr>\n",
       "      <th>2</th>\n",
       "      <td>48.038555</td>\n",
       "      <td>0.176218</td>\n",
       "      <td>0.249539</td>\n",
       "      <td>3067</td>\n",
       "      <td>7.49</td>\n",
       "      <td>88.900769</td>\n",
       "      <td>0.018617</td>\n",
       "      <td>0.074313</td>\n",
       "      <td>12.775</td>\n",
       "      <td>74</td>\n",
       "      <td>...</td>\n",
       "      <td>1</td>\n",
       "      <td>1</td>\n",
       "      <td>1</td>\n",
       "      <td>1</td>\n",
       "      <td>1</td>\n",
       "      <td>0</td>\n",
       "      <td>1</td>\n",
       "      <td>0.000000</td>\n",
       "      <td>0.000000</td>\n",
       "      <td>42.614847</td>\n",
       "    </tr>\n",
       "    <tr>\n",
       "      <th>4</th>\n",
       "      <td>36.726250</td>\n",
       "      <td>0.176218</td>\n",
       "      <td>0.249539</td>\n",
       "      <td>3067</td>\n",
       "      <td>13.72</td>\n",
       "      <td>88.900769</td>\n",
       "      <td>0.018617</td>\n",
       "      <td>0.074313</td>\n",
       "      <td>12.775</td>\n",
       "      <td>46</td>\n",
       "      <td>...</td>\n",
       "      <td>1</td>\n",
       "      <td>1</td>\n",
       "      <td>1</td>\n",
       "      <td>1</td>\n",
       "      <td>1</td>\n",
       "      <td>0</td>\n",
       "      <td>1</td>\n",
       "      <td>0.000000</td>\n",
       "      <td>0.000000</td>\n",
       "      <td>23.864314</td>\n",
       "    </tr>\n",
       "    <tr>\n",
       "      <th>5</th>\n",
       "      <td>23.864314</td>\n",
       "      <td>0.176218</td>\n",
       "      <td>0.249539</td>\n",
       "      <td>3067</td>\n",
       "      <td>13.72</td>\n",
       "      <td>88.900769</td>\n",
       "      <td>0.018617</td>\n",
       "      <td>0.074313</td>\n",
       "      <td>12.775</td>\n",
       "      <td>49</td>\n",
       "      <td>...</td>\n",
       "      <td>1</td>\n",
       "      <td>1</td>\n",
       "      <td>1</td>\n",
       "      <td>1</td>\n",
       "      <td>1</td>\n",
       "      <td>0</td>\n",
       "      <td>1</td>\n",
       "      <td>0.000000</td>\n",
       "      <td>0.000000</td>\n",
       "      <td>21.694831</td>\n",
       "    </tr>\n",
       "    <tr>\n",
       "      <th>6</th>\n",
       "      <td>21.694831</td>\n",
       "      <td>0.176218</td>\n",
       "      <td>0.249539</td>\n",
       "      <td>3067</td>\n",
       "      <td>13.72</td>\n",
       "      <td>88.900769</td>\n",
       "      <td>0.018617</td>\n",
       "      <td>0.074313</td>\n",
       "      <td>12.775</td>\n",
       "      <td>38</td>\n",
       "      <td>...</td>\n",
       "      <td>1</td>\n",
       "      <td>1</td>\n",
       "      <td>1</td>\n",
       "      <td>1</td>\n",
       "      <td>1</td>\n",
       "      <td>0</td>\n",
       "      <td>1</td>\n",
       "      <td>0.000000</td>\n",
       "      <td>0.000000</td>\n",
       "      <td>12.706973</td>\n",
       "    </tr>\n",
       "    <tr>\n",
       "      <th>...</th>\n",
       "      <td>...</td>\n",
       "      <td>...</td>\n",
       "      <td>...</td>\n",
       "      <td>...</td>\n",
       "      <td>...</td>\n",
       "      <td>...</td>\n",
       "      <td>...</td>\n",
       "      <td>...</td>\n",
       "      <td>...</td>\n",
       "      <td>...</td>\n",
       "      <td>...</td>\n",
       "      <td>...</td>\n",
       "      <td>...</td>\n",
       "      <td>...</td>\n",
       "      <td>...</td>\n",
       "      <td>...</td>\n",
       "      <td>...</td>\n",
       "      <td>...</td>\n",
       "      <td>...</td>\n",
       "      <td>...</td>\n",
       "      <td>...</td>\n",
       "    </tr>\n",
       "    <tr>\n",
       "      <th>2116</th>\n",
       "      <td>90.185676</td>\n",
       "      <td>0.212952</td>\n",
       "      <td>0.113027</td>\n",
       "      <td>109</td>\n",
       "      <td>2.42</td>\n",
       "      <td>37.953770</td>\n",
       "      <td>0.008230</td>\n",
       "      <td>0.055817</td>\n",
       "      <td>6.773</td>\n",
       "      <td>48</td>\n",
       "      <td>...</td>\n",
       "      <td>0</td>\n",
       "      <td>0</td>\n",
       "      <td>0</td>\n",
       "      <td>0</td>\n",
       "      <td>1</td>\n",
       "      <td>1</td>\n",
       "      <td>0</td>\n",
       "      <td>0.003092</td>\n",
       "      <td>0.000000</td>\n",
       "      <td>119.742327</td>\n",
       "    </tr>\n",
       "    <tr>\n",
       "      <th>2117</th>\n",
       "      <td>119.742327</td>\n",
       "      <td>0.212952</td>\n",
       "      <td>0.113027</td>\n",
       "      <td>109</td>\n",
       "      <td>2.42</td>\n",
       "      <td>37.953770</td>\n",
       "      <td>0.008230</td>\n",
       "      <td>0.055817</td>\n",
       "      <td>6.773</td>\n",
       "      <td>34</td>\n",
       "      <td>...</td>\n",
       "      <td>0</td>\n",
       "      <td>0</td>\n",
       "      <td>0</td>\n",
       "      <td>0</td>\n",
       "      <td>1</td>\n",
       "      <td>1</td>\n",
       "      <td>0</td>\n",
       "      <td>0.007410</td>\n",
       "      <td>0.000000</td>\n",
       "      <td>122.015915</td>\n",
       "    </tr>\n",
       "    <tr>\n",
       "      <th>2119</th>\n",
       "      <td>81.091322</td>\n",
       "      <td>0.212952</td>\n",
       "      <td>0.113027</td>\n",
       "      <td>109</td>\n",
       "      <td>2.42</td>\n",
       "      <td>37.953770</td>\n",
       "      <td>0.008230</td>\n",
       "      <td>0.055817</td>\n",
       "      <td>6.773</td>\n",
       "      <td>29</td>\n",
       "      <td>...</td>\n",
       "      <td>0</td>\n",
       "      <td>0</td>\n",
       "      <td>1</td>\n",
       "      <td>1</td>\n",
       "      <td>1</td>\n",
       "      <td>0</td>\n",
       "      <td>1</td>\n",
       "      <td>0.018880</td>\n",
       "      <td>0.002625</td>\n",
       "      <td>97.764305</td>\n",
       "    </tr>\n",
       "    <tr>\n",
       "      <th>2120</th>\n",
       "      <td>97.764305</td>\n",
       "      <td>0.212952</td>\n",
       "      <td>0.113027</td>\n",
       "      <td>109</td>\n",
       "      <td>2.42</td>\n",
       "      <td>37.953770</td>\n",
       "      <td>0.008230</td>\n",
       "      <td>0.055817</td>\n",
       "      <td>6.773</td>\n",
       "      <td>27</td>\n",
       "      <td>...</td>\n",
       "      <td>0</td>\n",
       "      <td>0</td>\n",
       "      <td>1</td>\n",
       "      <td>1</td>\n",
       "      <td>1</td>\n",
       "      <td>0</td>\n",
       "      <td>1</td>\n",
       "      <td>0.023066</td>\n",
       "      <td>0.006535</td>\n",
       "      <td>70.481243</td>\n",
       "    </tr>\n",
       "    <tr>\n",
       "      <th>2121</th>\n",
       "      <td>70.481243</td>\n",
       "      <td>0.212952</td>\n",
       "      <td>0.113027</td>\n",
       "      <td>109</td>\n",
       "      <td>5.21</td>\n",
       "      <td>37.953770</td>\n",
       "      <td>0.008230</td>\n",
       "      <td>0.055817</td>\n",
       "      <td>6.773</td>\n",
       "      <td>33</td>\n",
       "      <td>...</td>\n",
       "      <td>1</td>\n",
       "      <td>0</td>\n",
       "      <td>1</td>\n",
       "      <td>1</td>\n",
       "      <td>1</td>\n",
       "      <td>1</td>\n",
       "      <td>0</td>\n",
       "      <td>0.027512</td>\n",
       "      <td>0.011970</td>\n",
       "      <td>33.345964</td>\n",
       "    </tr>\n",
       "  </tbody>\n",
       "</table>\n",
       "<p>1702 rows × 32 columns</p>\n",
       "</div>"
      ],
      "text/plain": [
       "      7dInzidenz      Ü65%  Ausländer%  Bevölkerungsdichte EW/km²  Temperatur  \\\n",
       "1      12.087120  0.176218    0.249539                       3067        7.49   \n",
       "2      48.038555  0.176218    0.249539                       3067        7.49   \n",
       "4      36.726250  0.176218    0.249539                       3067       13.72   \n",
       "5      23.864314  0.176218    0.249539                       3067       13.72   \n",
       "6      21.694831  0.176218    0.249539                       3067       13.72   \n",
       "...          ...       ...         ...                        ...         ...   \n",
       "2116   90.185676  0.212952    0.113027                        109        2.42   \n",
       "2117  119.742327  0.212952    0.113027                        109        2.42   \n",
       "2119   81.091322  0.212952    0.113027                        109        2.42   \n",
       "2120   97.764305  0.212952    0.113027                        109        2.42   \n",
       "2121   70.481243  0.212952    0.113027                        109        5.21   \n",
       "\n",
       "           BIPK    BgastP  BgesundP   afd21  GoogleCorona  ...  hcutGANZ  \\\n",
       "1     88.900769  0.018617  0.074313  12.775           100  ...         0   \n",
       "2     88.900769  0.018617  0.074313  12.775            74  ...         1   \n",
       "4     88.900769  0.018617  0.074313  12.775            46  ...         1   \n",
       "5     88.900769  0.018617  0.074313  12.775            49  ...         1   \n",
       "6     88.900769  0.018617  0.074313  12.775            38  ...         1   \n",
       "...         ...       ...       ...     ...           ...  ...       ...   \n",
       "2116  37.953770  0.008230  0.055817   6.773            48  ...         0   \n",
       "2117  37.953770  0.008230  0.055817   6.773            34  ...         0   \n",
       "2119  37.953770  0.008230  0.055817   6.773            29  ...         0   \n",
       "2120  37.953770  0.008230  0.055817   6.773            27  ...         0   \n",
       "2121  37.953770  0.008230  0.055817   6.773            33  ...         1   \n",
       "\n",
       "      ess_shpsTW  schoolTW  daycareTW  1to5friends  churchTW  churchGANZ  \\\n",
       "1              0         0          0            0         0           0   \n",
       "2              1         1          1            1         0           1   \n",
       "4              1         1          1            1         0           1   \n",
       "5              1         1          1            1         0           1   \n",
       "6              1         1          1            1         0           1   \n",
       "...          ...       ...        ...          ...       ...         ...   \n",
       "2116           0         0          0            1         1           0   \n",
       "2117           0         0          0            1         1           0   \n",
       "2119           0         1          1            1         0           1   \n",
       "2120           0         1          1            1         0           1   \n",
       "2121           0         1          1            1         1           0   \n",
       "\n",
       "      personen_erst_kumulativ  personen_voll_kumulativ  7dInzidenzFUTURE  \n",
       "1                    0.000000                 0.000000         48.038555  \n",
       "2                    0.000000                 0.000000         42.614847  \n",
       "4                    0.000000                 0.000000         23.864314  \n",
       "5                    0.000000                 0.000000         21.694831  \n",
       "6                    0.000000                 0.000000         12.706973  \n",
       "...                       ...                      ...               ...  \n",
       "2116                 0.003092                 0.000000        119.742327  \n",
       "2117                 0.007410                 0.000000        122.015915  \n",
       "2119                 0.018880                 0.002625         97.764305  \n",
       "2120                 0.023066                 0.006535         70.481243  \n",
       "2121                 0.027512                 0.011970         33.345964  \n",
       "\n",
       "[1702 rows x 32 columns]"
      ]
     },
     "execution_count": 8,
     "metadata": {},
     "output_type": "execute_result"
    }
   ],
   "source": [
    "data_cutF = data_all[[\"IdLandkreis\",\"Meldedatum\",\"AnzahlFall\",\"Ü65%\",\"Ausländer%\",\"Bevölkerungsdichte EW/km²\",\"Temperatur\",\"BIPK\",\"Bgast\",\"Bgesund\",\\\n",
    "                     \"afd21\",\"GoogleCorona\",\"GoogleUrlaub\",\"AnzahlFall>59\", \"AnzahlGenesenLandkreis%\",\\\n",
    "                     \"leavehome\",\"dist\",\"trvl\",\"gastr\",\"mskÖPVN\",\"mskÖFF\",\"shppngTW\",\"shppngGANZ\",\"hcutTW\",\"hcutGANZ\",\"ess_shpsTW\",\\\n",
    "                     \"schoolTW\",\"daycareTW\",\"1to5friends\",\"churchTW\",\"churchGANZ\",\"personen_erst_kumulativ\",\"personen_voll_kumulativ\",\\\n",
    "                     \"AnzahlFallFUTURE\"]]\n",
    "\n",
    "data_cutI = data_all[[\"IdLandkreis\",\"Meldedatum\",\"7dInzidenz\",\"Ü65%\",\"Ausländer%\",\"Bevölkerungsdichte EW/km²\",\"Temperatur\",\"BIPK\",\"BgastP\",\"BgesundP\",\\\n",
    "                     \"afd21\",\"GoogleCorona\",\"GoogleUrlaub\",\"7dInzidenzFall>59\", \"AnzahlGenesenLandkreis%\",\\\n",
    "                     \"leavehome\",\"dist\",\"trvl\",\"gastr\",\"mskÖPVN\",\"mskÖFF\",\"shppngTW\",\"shppngGANZ\",\"hcutTW\",\"hcutGANZ\",\"ess_shpsTW\",\\\n",
    "                     \"schoolTW\",\"daycareTW\",\"1to5friends\",\"churchTW\",\"churchGANZ\",\"personen_erst_kumulativ\",\"personen_voll_kumulativ\",\\\n",
    "                     \"7dInzidenzFUTURE\"]]\n",
    "\n",
    "train_dataset = data_cutI.groupby(\"IdLandkreis\").sample(frac=0.8, random_state=0)\\\n",
    "                            .sort_values(['IdLandkreis', 'Meldedatum'])\n",
    "test_dataset = data_cutI.drop(train_dataset.index)\n",
    "\n",
    "train_dataset = train_dataset.drop(['IdLandkreis', 'Meldedatum'], axis=1)\n",
    "test_dataset = test_dataset.drop(['IdLandkreis', 'Meldedatum'], axis=1)\n",
    "\n",
    "#test_dataset\n",
    "train_dataset"
   ]
  },
  {
   "cell_type": "code",
   "execution_count": 27,
   "id": "comparable-reform",
   "metadata": {},
   "outputs": [
    {
     "data": {
      "text/plain": [
       "1        48.038555\n",
       "2        42.614847\n",
       "4        23.864314\n",
       "5        21.694831\n",
       "6        12.706973\n",
       "           ...    \n",
       "2116    119.742327\n",
       "2117    122.015915\n",
       "2119     97.764305\n",
       "2120     70.481243\n",
       "2121     33.345964\n",
       "Name: 7dInzidenzFUTURE, Length: 1702, dtype: float64"
      ]
     },
     "execution_count": 27,
     "metadata": {},
     "output_type": "execute_result"
    }
   ],
   "source": [
    "train_features = train_dataset.copy()\n",
    "test_features = test_dataset.copy()\n",
    "\n",
    "train_labels = train_features.pop('7dInzidenzFUTURE')\n",
    "test_labels = test_features.pop('7dInzidenzFUTURE')\n",
    "\n",
    "#train_features.head\n",
    "train_labels"
   ]
  },
  {
   "cell_type": "code",
   "execution_count": 10,
   "id": "synthetic-malpractice",
   "metadata": {
    "scrolled": true
   },
   "outputs": [
    {
     "name": "stdout",
     "output_type": "stream",
     "text": [
      "[ 56.742   0.208   0.158 563.554  11.992  44.48    0.012   0.057  10.975\n",
      "  35.542  44.548  13.891   0.008   0.187   0.939   0.961   0.549   0.239\n",
      "   0.598   0.14    0.231   0.286   0.205   0.105   0.615   0.309   0.961\n",
      "   0.753   0.209   0.003   0.001]\n"
     ]
    }
   ],
   "source": [
    "normalizer = preprocessing.Normalization()\n",
    "normalizer.adapt(np.array(train_features))\n",
    "print(normalizer.mean.numpy())"
   ]
  },
  {
   "cell_type": "code",
   "execution_count": 11,
   "id": "empirical-albany",
   "metadata": {},
   "outputs": [
    {
     "name": "stdout",
     "output_type": "stream",
     "text": [
      "First example: [[  12.09    0.18    0.25 3067.      7.49   88.9     0.02    0.07   12.78\n",
      "   100.     42.      0.46    0.      0.      0.      0.      0.      0.\n",
      "     0.      0.      0.      0.      0.      0.      0.      0.      0.\n",
      "     0.      0.      0.      0.  ]]\n",
      "\n",
      "Normalized: [[-0.67 -1.79  2.19  3.96 -0.71  3.42  1.14  0.67  0.32  3.98 -0.11 -0.73\n",
      "  -0.95 -0.48 -3.94 -4.98 -1.1  -0.56 -1.22 -0.4  -0.55 -0.63 -0.51 -0.34\n",
      "  -1.26 -0.67 -4.98 -1.74 -0.51 -0.38 -0.3 ]]\n"
     ]
    }
   ],
   "source": [
    "first = np.array(train_features[:1])\n",
    "\n",
    "with np.printoptions(precision=2, suppress=True):\n",
    "  print('First example:', first)\n",
    "  print()\n",
    "  print('Normalized:', normalizer(first).numpy())"
   ]
  },
  {
   "cell_type": "code",
   "execution_count": 28,
   "id": "enabling-surgery",
   "metadata": {},
   "outputs": [
    {
     "ename": "ValueError",
     "evalue": "The number of FixedLocator locations (31), usually from a call to set_ticks, does not match the number of ticklabels (2).",
     "output_type": "error",
     "traceback": [
      "\u001b[1;31m---------------------------------------------------------------------------\u001b[0m",
      "\u001b[1;31mValueError\u001b[0m                                Traceback (most recent call last)",
      "\u001b[1;32m<ipython-input-28-49bb6e738bb3>\u001b[0m in \u001b[0;36m<module>\u001b[1;34m\u001b[0m\n\u001b[0;32m      2\u001b[0m \u001b[0mplt\u001b[0m\u001b[1;33m.\u001b[0m\u001b[0mfigure\u001b[0m\u001b[1;33m(\u001b[0m\u001b[0mfigsize\u001b[0m\u001b[1;33m=\u001b[0m\u001b[1;33m(\u001b[0m\u001b[1;36m12\u001b[0m\u001b[1;33m,\u001b[0m \u001b[1;36m6\u001b[0m\u001b[1;33m)\u001b[0m\u001b[1;33m)\u001b[0m\u001b[1;33m\u001b[0m\u001b[1;33m\u001b[0m\u001b[0m\n\u001b[0;32m      3\u001b[0m \u001b[0max\u001b[0m \u001b[1;33m=\u001b[0m \u001b[0msns\u001b[0m\u001b[1;33m.\u001b[0m\u001b[0mviolinplot\u001b[0m\u001b[1;33m(\u001b[0m\u001b[0mx\u001b[0m\u001b[1;33m=\u001b[0m\u001b[1;34m'Column'\u001b[0m\u001b[1;33m,\u001b[0m \u001b[0my\u001b[0m\u001b[1;33m=\u001b[0m\u001b[1;34m'Not Normalized'\u001b[0m\u001b[1;33m,\u001b[0m \u001b[0mdata\u001b[0m\u001b[1;33m=\u001b[0m\u001b[0mtrain_featuresPlot\u001b[0m\u001b[1;33m)\u001b[0m\u001b[1;33m\u001b[0m\u001b[1;33m\u001b[0m\u001b[0m\n\u001b[1;32m----> 4\u001b[1;33m \u001b[0m_\u001b[0m \u001b[1;33m=\u001b[0m \u001b[0max\u001b[0m\u001b[1;33m.\u001b[0m\u001b[0mset_xticklabels\u001b[0m\u001b[1;33m(\u001b[0m\u001b[0mtrain_featuresPlot\u001b[0m\u001b[1;33m.\u001b[0m\u001b[0mkeys\u001b[0m\u001b[1;33m(\u001b[0m\u001b[1;33m)\u001b[0m\u001b[1;33m,\u001b[0m \u001b[0mrotation\u001b[0m\u001b[1;33m=\u001b[0m\u001b[1;36m90\u001b[0m\u001b[1;33m)\u001b[0m\u001b[1;33m\u001b[0m\u001b[1;33m\u001b[0m\u001b[0m\n\u001b[0m",
      "\u001b[1;32m~\\AppData\\Local\\Continuum\\anaconda3\\envs\\covidDL\\lib\\site-packages\\matplotlib\\axes\\_base.py\u001b[0m in \u001b[0;36mwrapper\u001b[1;34m(self, *args, **kwargs)\u001b[0m\n\u001b[0;32m     61\u001b[0m \u001b[1;33m\u001b[0m\u001b[0m\n\u001b[0;32m     62\u001b[0m         \u001b[1;32mdef\u001b[0m \u001b[0mwrapper\u001b[0m\u001b[1;33m(\u001b[0m\u001b[0mself\u001b[0m\u001b[1;33m,\u001b[0m \u001b[1;33m*\u001b[0m\u001b[0margs\u001b[0m\u001b[1;33m,\u001b[0m \u001b[1;33m**\u001b[0m\u001b[0mkwargs\u001b[0m\u001b[1;33m)\u001b[0m\u001b[1;33m:\u001b[0m\u001b[1;33m\u001b[0m\u001b[1;33m\u001b[0m\u001b[0m\n\u001b[1;32m---> 63\u001b[1;33m             \u001b[1;32mreturn\u001b[0m \u001b[0mget_method\u001b[0m\u001b[1;33m(\u001b[0m\u001b[0mself\u001b[0m\u001b[1;33m)\u001b[0m\u001b[1;33m(\u001b[0m\u001b[1;33m*\u001b[0m\u001b[0margs\u001b[0m\u001b[1;33m,\u001b[0m \u001b[1;33m**\u001b[0m\u001b[0mkwargs\u001b[0m\u001b[1;33m)\u001b[0m\u001b[1;33m\u001b[0m\u001b[1;33m\u001b[0m\u001b[0m\n\u001b[0m\u001b[0;32m     64\u001b[0m \u001b[1;33m\u001b[0m\u001b[0m\n\u001b[0;32m     65\u001b[0m         \u001b[0mwrapper\u001b[0m\u001b[1;33m.\u001b[0m\u001b[0m__module__\u001b[0m \u001b[1;33m=\u001b[0m \u001b[0mowner\u001b[0m\u001b[1;33m.\u001b[0m\u001b[0m__module__\u001b[0m\u001b[1;33m\u001b[0m\u001b[1;33m\u001b[0m\u001b[0m\n",
      "\u001b[1;32m~\\AppData\\Local\\Continuum\\anaconda3\\envs\\covidDL\\lib\\site-packages\\matplotlib\\cbook\\deprecation.py\u001b[0m in \u001b[0;36mwrapper\u001b[1;34m(*args, **kwargs)\u001b[0m\n\u001b[0;32m    449\u001b[0m                 \u001b[1;34m\"parameter will become keyword-only %(removal)s.\"\u001b[0m\u001b[1;33m,\u001b[0m\u001b[1;33m\u001b[0m\u001b[1;33m\u001b[0m\u001b[0m\n\u001b[0;32m    450\u001b[0m                 name=name, obj_type=f\"parameter of {func.__name__}()\")\n\u001b[1;32m--> 451\u001b[1;33m         \u001b[1;32mreturn\u001b[0m \u001b[0mfunc\u001b[0m\u001b[1;33m(\u001b[0m\u001b[1;33m*\u001b[0m\u001b[0margs\u001b[0m\u001b[1;33m,\u001b[0m \u001b[1;33m**\u001b[0m\u001b[0mkwargs\u001b[0m\u001b[1;33m)\u001b[0m\u001b[1;33m\u001b[0m\u001b[1;33m\u001b[0m\u001b[0m\n\u001b[0m\u001b[0;32m    452\u001b[0m \u001b[1;33m\u001b[0m\u001b[0m\n\u001b[0;32m    453\u001b[0m     \u001b[1;32mreturn\u001b[0m \u001b[0mwrapper\u001b[0m\u001b[1;33m\u001b[0m\u001b[1;33m\u001b[0m\u001b[0m\n",
      "\u001b[1;32m~\\AppData\\Local\\Continuum\\anaconda3\\envs\\covidDL\\lib\\site-packages\\matplotlib\\axis.py\u001b[0m in \u001b[0;36m_set_ticklabels\u001b[1;34m(self, labels, fontdict, minor, **kwargs)\u001b[0m\n\u001b[0;32m   1794\u001b[0m         \u001b[1;32mif\u001b[0m \u001b[0mfontdict\u001b[0m \u001b[1;32mis\u001b[0m \u001b[1;32mnot\u001b[0m \u001b[1;32mNone\u001b[0m\u001b[1;33m:\u001b[0m\u001b[1;33m\u001b[0m\u001b[1;33m\u001b[0m\u001b[0m\n\u001b[0;32m   1795\u001b[0m             \u001b[0mkwargs\u001b[0m\u001b[1;33m.\u001b[0m\u001b[0mupdate\u001b[0m\u001b[1;33m(\u001b[0m\u001b[0mfontdict\u001b[0m\u001b[1;33m)\u001b[0m\u001b[1;33m\u001b[0m\u001b[1;33m\u001b[0m\u001b[0m\n\u001b[1;32m-> 1796\u001b[1;33m         \u001b[1;32mreturn\u001b[0m \u001b[0mself\u001b[0m\u001b[1;33m.\u001b[0m\u001b[0mset_ticklabels\u001b[0m\u001b[1;33m(\u001b[0m\u001b[0mlabels\u001b[0m\u001b[1;33m,\u001b[0m \u001b[0mminor\u001b[0m\u001b[1;33m=\u001b[0m\u001b[0mminor\u001b[0m\u001b[1;33m,\u001b[0m \u001b[1;33m**\u001b[0m\u001b[0mkwargs\u001b[0m\u001b[1;33m)\u001b[0m\u001b[1;33m\u001b[0m\u001b[1;33m\u001b[0m\u001b[0m\n\u001b[0m\u001b[0;32m   1797\u001b[0m \u001b[1;33m\u001b[0m\u001b[0m\n\u001b[0;32m   1798\u001b[0m     \u001b[1;33m@\u001b[0m\u001b[0mcbook\u001b[0m\u001b[1;33m.\u001b[0m\u001b[0m_make_keyword_only\u001b[0m\u001b[1;33m(\u001b[0m\u001b[1;34m\"3.2\"\u001b[0m\u001b[1;33m,\u001b[0m \u001b[1;34m\"minor\"\u001b[0m\u001b[1;33m)\u001b[0m\u001b[1;33m\u001b[0m\u001b[1;33m\u001b[0m\u001b[0m\n",
      "\u001b[1;32m~\\AppData\\Local\\Continuum\\anaconda3\\envs\\covidDL\\lib\\site-packages\\matplotlib\\axis.py\u001b[0m in \u001b[0;36mset_ticklabels\u001b[1;34m(self, ticklabels, minor, **kwargs)\u001b[0m\n\u001b[0;32m   1716\u001b[0m             \u001b[1;32mif\u001b[0m \u001b[0mlen\u001b[0m\u001b[1;33m(\u001b[0m\u001b[0mlocator\u001b[0m\u001b[1;33m.\u001b[0m\u001b[0mlocs\u001b[0m\u001b[1;33m)\u001b[0m \u001b[1;33m!=\u001b[0m \u001b[0mlen\u001b[0m\u001b[1;33m(\u001b[0m\u001b[0mticklabels\u001b[0m\u001b[1;33m)\u001b[0m \u001b[1;32mand\u001b[0m \u001b[0mlen\u001b[0m\u001b[1;33m(\u001b[0m\u001b[0mticklabels\u001b[0m\u001b[1;33m)\u001b[0m \u001b[1;33m!=\u001b[0m \u001b[1;36m0\u001b[0m\u001b[1;33m:\u001b[0m\u001b[1;33m\u001b[0m\u001b[1;33m\u001b[0m\u001b[0m\n\u001b[0;32m   1717\u001b[0m                 raise ValueError(\n\u001b[1;32m-> 1718\u001b[1;33m                     \u001b[1;34m\"The number of FixedLocator locations\"\u001b[0m\u001b[1;33m\u001b[0m\u001b[1;33m\u001b[0m\u001b[0m\n\u001b[0m\u001b[0;32m   1719\u001b[0m                     \u001b[1;34mf\" ({len(locator.locs)}), usually from a call to\"\u001b[0m\u001b[1;33m\u001b[0m\u001b[1;33m\u001b[0m\u001b[0m\n\u001b[0;32m   1720\u001b[0m                     \u001b[1;34m\" set_ticks, does not match\"\u001b[0m\u001b[1;33m\u001b[0m\u001b[1;33m\u001b[0m\u001b[0m\n",
      "\u001b[1;31mValueError\u001b[0m: The number of FixedLocator locations (31), usually from a call to set_ticks, does not match the number of ticklabels (2)."
     ]
    },
    {
     "data": {
      "image/png": "[encoded data removed]",
      "text/plain": [
       "<Figure size 864x432 with 1 Axes>"
      ]
     },
     "metadata": {
      "needs_background": "light"
     },
     "output_type": "display_data"
    }
   ],
   "source": [
    "\n",
    "train_featuresPlot = train_features.melt(var_name='Column', value_name='Not Normalized')\n",
    "plt.figure(figsize=(12, 6))\n",
    "ax = sns.violinplot(x='Column', y='Not Normalized', data=train_featuresPlot)\n",
    "_ = ax.set_xticklabels(train_featuresPlot.keys(), rotation=90)"
   ]
  },
  {
   "cell_type": "code",
   "execution_count": null,
   "id": "egyptian-fourth",
   "metadata": {},
   "outputs": [],
   "source": []
  },
  {
   "cell_type": "code",
   "execution_count": null,
   "id": "rural-boating",
   "metadata": {},
   "outputs": [],
   "source": []
  },
  {
   "cell_type": "code",
   "execution_count": null,
   "id": "informational-visit",
   "metadata": {},
   "outputs": [],
   "source": []
  },
  {
   "cell_type": "markdown",
   "id": "unexpected-scout",
   "metadata": {},
   "source": [
    "## Einfaches sequentielles Netz -> 7TageInzidenz"
   ]
  },
  {
   "cell_type": "code",
   "execution_count": 12,
   "id": "celtic-township",
   "metadata": {},
   "outputs": [],
   "source": [
    "linear_model = tf.keras.Sequential([\n",
    "    #normalizer,\n",
    "    layers.Dense(units=1)\n",
    "])"
   ]
  },
  {
   "cell_type": "code",
   "execution_count": 13,
   "id": "renewable-executive",
   "metadata": {},
   "outputs": [
    {
     "data": {
      "text/plain": [
       "array([[-22.882],\n",
       "       [ -6.315],\n",
       "       [  1.219],\n",
       "       ...,\n",
       "       [ 25.746],\n",
       "       [ 33.798],\n",
       "       [ 22.571]], dtype=float32)"
      ]
     },
     "execution_count": 13,
     "metadata": {},
     "output_type": "execute_result"
    }
   ],
   "source": [
    "linear_model.predict(train_features)"
   ]
  },
  {
   "cell_type": "code",
   "execution_count": 14,
   "id": "worth-cyprus",
   "metadata": {
    "scrolled": true
   },
   "outputs": [
    {
     "data": {
      "text/plain": [
       "<tf.Variable 'dense/kernel:0' shape=(31, 1) dtype=float32, numpy=\n",
       "array([[ 1.   ],\n",
       "       [ 0.365],\n",
       "       [-0.049],\n",
       "       [-0.003],\n",
       "       [ 0.424],\n",
       "       [ 0.026],\n",
       "       [-0.174],\n",
       "       [-0.188],\n",
       "       [ 0.072],\n",
       "       [-0.368],\n",
       "       [ 0.329],\n",
       "       [-0.259],\n",
       "       [-0.379],\n",
       "       [-0.413],\n",
       "       [ 0.422],\n",
       "       [-0.298],\n",
       "       [ 0.099],\n",
       "       [-0.211],\n",
       "       [-0.062],\n",
       "       [ 0.389],\n",
       "       [ 0.134],\n",
       "       [ 0.31 ],\n",
       "       [ 0.058],\n",
       "       [ 0.367],\n",
       "       [-0.261],\n",
       "       [ 0.146],\n",
       "       [ 0.11 ],\n",
       "       [-0.197],\n",
       "       [-0.275],\n",
       "       [-0.209],\n",
       "       [ 0.183]], dtype=float32)>"
      ]
     },
     "execution_count": 14,
     "metadata": {},
     "output_type": "execute_result"
    }
   ],
   "source": [
    "keras.backend.set_value(linear_model.layers[0].weights[0][0], [1.0])\n",
    "linear_model.layers[0].kernel"
   ]
  },
  {
   "cell_type": "code",
   "execution_count": 15,
   "id": "viral-childhood",
   "metadata": {},
   "outputs": [],
   "source": [
    "linear_model.compile(\n",
    "    optimizer=tf.optimizers.Adam(learning_rate=0.05),\n",
    "    loss='mean_absolute_error')"
   ]
  },
  {
   "cell_type": "markdown",
   "id": "average-omega",
   "metadata": {},
   "source": [
    "Mean Squared Error (MSE) and Mean Absolute Error (MAE) are common loss functions used for regression problems. Mean Absolute Error is less sensitive to outliers. Different loss functions are used for classification problems."
   ]
  },
  {
   "cell_type": "code",
   "execution_count": 16,
   "id": "amber-extreme",
   "metadata": {},
   "outputs": [
    {
     "name": "stdout",
     "output_type": "stream",
     "text": [
      "Wall time: 21.8 s\n"
     ]
    }
   ],
   "source": [
    "%%time\n",
    "history = linear_model.fit(\n",
    "    train_features, train_labels, \n",
    "    epochs=200,\n",
    "    #batch_size=500,\n",
    "    # suppress logging\n",
    "    verbose=0,\n",
    "    # Calculate validation results on 20% of the training data\n",
    "    validation_split = 0.2)"
   ]
  },
  {
   "cell_type": "code",
   "execution_count": 17,
   "id": "robust-fiction",
   "metadata": {},
   "outputs": [
    {
     "data": {
      "image/png": "[encoded data removed]",
      "text/plain": [
       "<Figure size 432x288 with 1 Axes>"
      ]
     },
     "metadata": {
      "needs_background": "light"
     },
     "output_type": "display_data"
    }
   ],
   "source": [
    "def plot_loss(history):\n",
    "  plt.plot(history.history['loss'], label='loss')\n",
    "  plt.plot(history.history['val_loss'], label='val_loss')\n",
    "  plt.ylim([0, 50])\n",
    "  plt.xlabel('Epoch')\n",
    "  plt.ylabel('Error Inzidenz')\n",
    "  plt.legend()\n",
    "  plt.grid(True)\n",
    "\n",
    "plot_loss(history)"
   ]
  },
  {
   "cell_type": "code",
   "execution_count": 18,
   "id": "directed-situation",
   "metadata": {
    "scrolled": true
   },
   "outputs": [
    {
     "data": {
      "text/plain": [
       "<tf.Variable 'dense/kernel:0' shape=(31, 1) dtype=float32, numpy=\n",
       "array([[  0.957],\n",
       "       [ -8.172],\n",
       "       [ -2.247],\n",
       "       [ -0.016],\n",
       "       [ -2.029],\n",
       "       [ -0.044],\n",
       "       [ -8.941],\n",
       "       [-11.442],\n",
       "       [ -0.02 ],\n",
       "       [  0.456],\n",
       "       [  0.159],\n",
       "       [ -0.443],\n",
       "       [ -9.766],\n",
       "       [-13.228],\n",
       "       [  5.124],\n",
       "       [  8.045],\n",
       "       [-10.103],\n",
       "       [  2.   ],\n",
       "       [  6.5  ],\n",
       "       [ -5.253],\n",
       "       [-13.996],\n",
       "       [  5.202],\n",
       "       [  7.878],\n",
       "       [  8.232],\n",
       "       [ -0.049],\n",
       "       [ -5.719],\n",
       "       [  8.453],\n",
       "       [  8.292],\n",
       "       [  3.79 ],\n",
       "       [ -3.119],\n",
       "       [  9.039]], dtype=float32)>"
      ]
     },
     "execution_count": 18,
     "metadata": {},
     "output_type": "execute_result"
    }
   ],
   "source": [
    "linear_model.layers[0].kernel"
   ]
  },
  {
   "cell_type": "code",
   "execution_count": 19,
   "id": "surprising-sellers",
   "metadata": {},
   "outputs": [
    {
     "data": {
      "text/plain": [
       "{'linear_model': 17.418241500854492}"
      ]
     },
     "execution_count": 19,
     "metadata": {},
     "output_type": "execute_result"
    }
   ],
   "source": [
    "test_results = {}\n",
    "\n",
    "test_results['linear_model'] = linear_model.evaluate(\n",
    "                                    test_features, test_labels, verbose=0)\n",
    "test_results"
   ]
  },
  {
   "cell_type": "code",
   "execution_count": 21,
   "id": "tough-nursing",
   "metadata": {},
   "outputs": [
    {
     "name": "stdout",
     "output_type": "stream",
     "text": [
      "Wall time: 21.1 s\n"
     ]
    },
    {
     "data": {
      "image/png": "[encoded data removed]",
      "text/plain": [
       "<Figure size 432x288 with 1 Axes>"
      ]
     },
     "metadata": {
      "needs_background": "light"
     },
     "output_type": "display_data"
    }
   ],
   "source": [
    "%%time\n",
    "\n",
    "linear_model_normalized = tf.keras.Sequential([\n",
    "    normalizer,\n",
    "    layers.Dense(units=1)\n",
    "])\n",
    "\n",
    "linear_model_normalized.predict(train_features)\n",
    "\n",
    "keras.backend.set_value(linear_model_normalized.layers[1].weights[0][0], [1.0])\n",
    "\n",
    "linear_model_normalized.compile(\n",
    "    optimizer=tf.optimizers.Adam(learning_rate=0.05),\n",
    "    loss='mean_absolute_error')\n",
    "\n",
    "history_normalized = linear_model_normalized.fit(\n",
    "    train_features, train_labels, \n",
    "    epochs=200,\n",
    "    #batch_size=500,\n",
    "    # suppress logging\n",
    "    verbose=0,\n",
    "    # Calculate validation results on 20% of the training data\n",
    "    validation_split = 0.2)\n",
    "\n",
    "plot_loss(history_normalized)"
   ]
  },
  {
   "cell_type": "code",
   "execution_count": 22,
   "id": "everyday-knight",
   "metadata": {},
   "outputs": [
    {
     "data": {
      "text/plain": [
       "{'linear_model': 17.418241500854492,\n",
       " 'linear_model_normalized': 13.29656982421875}"
      ]
     },
     "execution_count": 22,
     "metadata": {},
     "output_type": "execute_result"
    }
   ],
   "source": [
    "test_results['linear_model_normalized'] = linear_model_normalized.evaluate(\n",
    "                                    test_features, test_labels, verbose=0)\n",
    "test_results"
   ]
  },
  {
   "cell_type": "markdown",
   "id": "advance-leeds",
   "metadata": {},
   "source": [
    "## DNN Modell -> 7 Tage Inzidenz"
   ]
  },
  {
   "cell_type": "code",
   "execution_count": 29,
   "id": "united-baptist",
   "metadata": {},
   "outputs": [],
   "source": [
    "def build_and_compile_model(norm):\n",
    "  model = keras.Sequential([\n",
    "      norm,\n",
    "      layers.Dense(64, activation='relu'),\n",
    "      layers.Dense(64, activation='relu'),\n",
    "      layers.Dense(1)\n",
    "  ])\n",
    "\n",
    "  model.compile(loss='mean_absolute_error',\n",
    "                optimizer=tf.keras.optimizers.Adam(0.001))\n",
    "  return model"
   ]
  },
  {
   "cell_type": "code",
   "execution_count": 30,
   "id": "still-morrison",
   "metadata": {},
   "outputs": [
    {
     "name": "stdout",
     "output_type": "stream",
     "text": [
      "Model: \"sequential_3\"\n",
      "_________________________________________________________________\n",
      "Layer (type)                 Output Shape              Param #   \n",
      "=================================================================\n",
      "normalization (Normalization (None, 31)                63        \n",
      "_________________________________________________________________\n",
      "dense_3 (Dense)              (None, 64)                2048      \n",
      "_________________________________________________________________\n",
      "dense_4 (Dense)              (None, 64)                4160      \n",
      "_________________________________________________________________\n",
      "dense_5 (Dense)              (None, 1)                 65        \n",
      "=================================================================\n",
      "Total params: 6,336\n",
      "Trainable params: 6,273\n",
      "Non-trainable params: 63\n",
      "_________________________________________________________________\n"
     ]
    }
   ],
   "source": [
    "dnn_model = build_and_compile_model(normalizer)\n",
    "dnn_model.summary()"
   ]
  },
  {
   "cell_type": "code",
   "execution_count": 31,
   "id": "saving-clerk",
   "metadata": {},
   "outputs": [
    {
     "name": "stdout",
     "output_type": "stream",
     "text": [
      "Wall time: 18.7 s\n"
     ]
    }
   ],
   "source": [
    "%%time\n",
    "history = dnn_model.fit(\n",
    "    train_features, train_labels,\n",
    "    validation_split=0.2,\n",
    "    verbose=0, epochs=100)"
   ]
  },
  {
   "cell_type": "code",
   "execution_count": 32,
   "id": "primary-brown",
   "metadata": {},
   "outputs": [
    {
     "data": {
      "image/png": "[encoded data removed]",
      "text/plain": [
       "<Figure size 432x288 with 1 Axes>"
      ]
     },
     "metadata": {
      "needs_background": "light"
     },
     "output_type": "display_data"
    }
   ],
   "source": [
    "plot_loss(history)"
   ]
  },
  {
   "cell_type": "code",
   "execution_count": 33,
   "id": "enormous-cement",
   "metadata": {},
   "outputs": [],
   "source": [
    "test_results['dnn_model'] = dnn_model.evaluate(test_features, test_labels, verbose=0)"
   ]
  },
  {
   "cell_type": "code",
   "execution_count": 34,
   "id": "executive-blogger",
   "metadata": {},
   "outputs": [
    {
     "data": {
      "text/html": [
       "<div>\n",
       "<style scoped>\n",
       "    .dataframe tbody tr th:only-of-type {\n",
       "        vertical-align: middle;\n",
       "    }\n",
       "\n",
       "    .dataframe tbody tr th {\n",
       "        vertical-align: top;\n",
       "    }\n",
       "\n",
       "    .dataframe thead th {\n",
       "        text-align: right;\n",
       "    }\n",
       "</style>\n",
       "<table border=\"1\" class=\"dataframe\">\n",
       "  <thead>\n",
       "    <tr style=\"text-align: right;\">\n",
       "      <th></th>\n",
       "      <th>Mean absolute error [7TageInzidenzFUTURE]</th>\n",
       "    </tr>\n",
       "  </thead>\n",
       "  <tbody>\n",
       "    <tr>\n",
       "      <th>linear_model</th>\n",
       "      <td>17.418242</td>\n",
       "    </tr>\n",
       "    <tr>\n",
       "      <th>linear_model_normalized</th>\n",
       "      <td>13.296570</td>\n",
       "    </tr>\n",
       "    <tr>\n",
       "      <th>dnn_model</th>\n",
       "      <td>12.000619</td>\n",
       "    </tr>\n",
       "  </tbody>\n",
       "</table>\n",
       "</div>"
      ],
      "text/plain": [
       "                         Mean absolute error [7TageInzidenzFUTURE]\n",
       "linear_model                                             17.418242\n",
       "linear_model_normalized                                  13.296570\n",
       "dnn_model                                                12.000619"
      ]
     },
     "execution_count": 34,
     "metadata": {},
     "output_type": "execute_result"
    }
   ],
   "source": [
    "pd.DataFrame(test_results, index=['Mean absolute error [7TageInzidenzFUTURE]']).T"
   ]
  },
  {
   "cell_type": "code",
   "execution_count": 35,
   "id": "rapid-liability",
   "metadata": {},
   "outputs": [
    {
     "data": {
      "image/png": "[encoded data removed]",
      "text/plain": [
       "<Figure size 432x288 with 1 Axes>"
      ]
     },
     "metadata": {
      "needs_background": "light"
     },
     "output_type": "display_data"
    }
   ],
   "source": [
    "test_predictions = dnn_model.predict(test_features).flatten()\n",
    "\n",
    "a = plt.axes(aspect='equal')\n",
    "plt.scatter(test_labels, test_predictions)\n",
    "plt.xlabel('True Values [7TageInzidenz]')\n",
    "plt.ylabel('Predictions [7TageInzidenz]')\n",
    "lims = [0, 50]\n",
    "plt.xlim(lims)\n",
    "plt.ylim(lims)\n",
    "_ = plt.plot(lims, lims)"
   ]
  },
  {
   "cell_type": "code",
   "execution_count": 36,
   "id": "minor-kansas",
   "metadata": {},
   "outputs": [
    {
     "data": {
      "image/png": "[encoded data removed]",
      "text/plain": [
       "<Figure size 432x288 with 1 Axes>"
      ]
     },
     "metadata": {
      "needs_background": "light"
     },
     "output_type": "display_data"
    }
   ],
   "source": [
    "error = test_predictions - test_labels\n",
    "plt.hist(error, bins=25)\n",
    "plt.xlabel('Prediction Error [7TageInzidenz]')\n",
    "_ = plt.ylabel('Count')"
   ]
  },
  {
   "cell_type": "markdown",
   "id": "transparent-newton",
   "metadata": {},
   "source": [
    "## DNN -> Fallzahlen"
   ]
  },
  {
   "cell_type": "code",
   "execution_count": 37,
   "id": "together-guess",
   "metadata": {},
   "outputs": [],
   "source": [
    "train_datasetF = data_cutF.groupby(\"IdLandkreis\").sample(frac=0.8, random_state=0)\\\n",
    "                            .sort_values(['IdLandkreis', 'Meldedatum'])\n",
    "test_datasetF = data_cutF.drop(train_dataset.index)\n",
    "\n",
    "train_datasetF = train_datasetF.drop(['IdLandkreis', 'Meldedatum'], axis=1)\n",
    "test_datasetF = test_datasetF.drop(['IdLandkreis', 'Meldedatum'], axis=1)"
   ]
  },
  {
   "cell_type": "code",
   "execution_count": 38,
   "id": "collaborative-courage",
   "metadata": {},
   "outputs": [
    {
     "data": {
      "text/plain": [
       "1       310\n",
       "2       275\n",
       "4       154\n",
       "5       140\n",
       "6        82\n",
       "       ... \n",
       "2116    158\n",
       "2117    161\n",
       "2119    129\n",
       "2120     93\n",
       "2121     44\n",
       "Name: AnzahlFallFUTURE, Length: 1702, dtype: int64"
      ]
     },
     "execution_count": 38,
     "metadata": {},
     "output_type": "execute_result"
    }
   ],
   "source": [
    "train_featuresF = train_datasetF.copy()\n",
    "test_featuresF = test_datasetF.copy()\n",
    "\n",
    "train_labelsF = train_featuresF.pop('AnzahlFallFUTURE')\n",
    "test_labelsF = test_featuresF.pop('AnzahlFallFUTURE')\n",
    "\n",
    "#train_features.head\n",
    "train_labelsF"
   ]
  },
  {
   "cell_type": "code",
   "execution_count": 39,
   "id": "innocent-scenario",
   "metadata": {},
   "outputs": [
    {
     "name": "stdout",
     "output_type": "stream",
     "text": [
      "[  142.231     0.208     0.158   563.554    11.992    44.48   2936.61\n",
      " 14110.741    10.975    35.542    44.548    34.24      0.008     0.187\n",
      "     0.939     0.961     0.549     0.239     0.598     0.14      0.231\n",
      "     0.286     0.205     0.105     0.615     0.309     0.961     0.753\n",
      "     0.209     0.003     0.001]\n"
     ]
    }
   ],
   "source": [
    "normalizerF = preprocessing.Normalization()\n",
    "normalizerF.adapt(np.array(train_featuresF))\n",
    "print(normalizerF.mean.numpy())"
   ]
  },
  {
   "cell_type": "code",
   "execution_count": 40,
   "id": "certain-sensitivity",
   "metadata": {},
   "outputs": [
    {
     "name": "stdout",
     "output_type": "stream",
     "text": [
      "First example: [[   78.       0.18     0.25  3067.       7.49    88.9  12014.   47955.\n",
      "     12.78   100.      42.       3.       0.       0.       0.       0.\n",
      "      0.       0.       0.       0.       0.       0.       0.       0.\n",
      "      0.       0.       0.       0.       0.       0.       0.  ]]\n",
      "\n",
      "Normalized: [[-0.33 -1.79  2.19  3.96 -0.71  3.42  4.46  3.96  0.32  3.98 -0.11 -0.62\n",
      "  -0.95 -0.48 -3.94 -4.98 -1.1  -0.56 -1.22 -0.4  -0.55 -0.63 -0.51 -0.34\n",
      "  -1.26 -0.67 -4.98 -1.74 -0.51 -0.38 -0.3 ]]\n"
     ]
    }
   ],
   "source": [
    "firstF = np.array(train_featuresF[:1])\n",
    "\n",
    "with np.printoptions(precision=2, suppress=True):\n",
    "  print('First example:', firstF)\n",
    "  print()\n",
    "  print('Normalized:', normalizerF(firstF).numpy())"
   ]
  },
  {
   "cell_type": "code",
   "execution_count": 41,
   "id": "egyptian-porcelain",
   "metadata": {},
   "outputs": [
    {
     "name": "stdout",
     "output_type": "stream",
     "text": [
      "Model: \"sequential_4\"\n",
      "_________________________________________________________________\n",
      "Layer (type)                 Output Shape              Param #   \n",
      "=================================================================\n",
      "normalization_1 (Normalizati (None, 31)                63        \n",
      "_________________________________________________________________\n",
      "dense_6 (Dense)              (None, 64)                2048      \n",
      "_________________________________________________________________\n",
      "dense_7 (Dense)              (None, 64)                4160      \n",
      "_________________________________________________________________\n",
      "dense_8 (Dense)              (None, 1)                 65        \n",
      "=================================================================\n",
      "Total params: 6,336\n",
      "Trainable params: 6,273\n",
      "Non-trainable params: 63\n",
      "_________________________________________________________________\n"
     ]
    }
   ],
   "source": [
    "dnn_modelF = build_and_compile_model(normalizerF)\n",
    "dnn_modelF.summary()"
   ]
  },
  {
   "cell_type": "code",
   "execution_count": 42,
   "id": "advised-wichita",
   "metadata": {},
   "outputs": [
    {
     "name": "stdout",
     "output_type": "stream",
     "text": [
      "Wall time: 46.6 s\n"
     ]
    }
   ],
   "source": [
    "%%time\n",
    "historyF = dnn_modelF.fit(\n",
    "    train_featuresF, train_labelsF,\n",
    "    validation_split=0.2,\n",
    "    verbose=0, epochs=250)"
   ]
  },
  {
   "cell_type": "code",
   "execution_count": 43,
   "id": "introductory-people",
   "metadata": {},
   "outputs": [
    {
     "data": {
      "image/png": "[encoded data removed]",
      "text/plain": [
       "<Figure size 432x288 with 1 Axes>"
      ]
     },
     "metadata": {
      "needs_background": "light"
     },
     "output_type": "display_data"
    }
   ],
   "source": [
    "plot_loss(historyF)"
   ]
  },
  {
   "cell_type": "code",
   "execution_count": 44,
   "id": "introductory-trash",
   "metadata": {},
   "outputs": [
    {
     "name": "stdout",
     "output_type": "stream",
     "text": [
      "{'dnn_modelF': 30.04169273376465}\n"
     ]
    }
   ],
   "source": [
    "test_resultsF = {}\n",
    "\n",
    "test_resultsF['dnn_modelF'] = dnn_modelF.evaluate(test_featuresF, test_labelsF, verbose=0)\n",
    "print(test_resultsF)"
   ]
  },
  {
   "cell_type": "code",
   "execution_count": null,
   "id": "average-killer",
   "metadata": {},
   "outputs": [],
   "source": []
  },
  {
   "cell_type": "code",
   "execution_count": null,
   "id": "precise-religion",
   "metadata": {},
   "outputs": [],
   "source": []
  },
  {
   "cell_type": "code",
   "execution_count": null,
   "id": "three-junior",
   "metadata": {},
   "outputs": [],
   "source": []
  },
  {
   "cell_type": "code",
   "execution_count": null,
   "id": "numeric-serum",
   "metadata": {},
   "outputs": [],
   "source": []
  },
  {
   "cell_type": "code",
   "execution_count": null,
   "id": "dated-fifty",
   "metadata": {},
   "outputs": [],
   "source": []
  }
 ],
 "metadata": {
  "kernelspec": {
   "display_name": "Python 3",
   "language": "python",
   "name": "python3"
  },
  "language_info": {
   "codemirror_mode": {
    "name": "ipython",
    "version": 3
   },
   "file_extension": ".py",
   "mimetype": "text/x-python",
   "name": "python",
   "nbconvert_exporter": "python",
   "pygments_lexer": "ipython3",
   "version": "3.7.9"
  }
 },
 "nbformat": 4,
 "nbformat_minor": 5
}
